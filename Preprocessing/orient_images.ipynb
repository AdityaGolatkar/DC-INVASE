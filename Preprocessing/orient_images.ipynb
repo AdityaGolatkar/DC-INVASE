{
 "cells": [
  {
   "cell_type": "code",
   "execution_count": 1,
   "metadata": {},
   "outputs": [],
   "source": [
    "import os\n",
    "import skimage\n",
    "import skimage.io as io\n",
    "import numpy as np\n",
    "import natsort\n",
    "from natsort import natsorted\n",
    "import shutil\n",
    "import cv2"
   ]
  },
  {
   "cell_type": "code",
   "execution_count": 2,
   "metadata": {},
   "outputs": [],
   "source": [
    "image_path = '../../Data/CBIS-DDSM_classification_1/'\n",
    "mask_path = '../../Data/masks_1/'"
   ]
  },
  {
   "cell_type": "code",
   "execution_count": 3,
   "metadata": {},
   "outputs": [],
   "source": [
    "write_image_path = '../../Data/CBIS-DDSM_classification_orient/'\n",
    "write_mask_path = '../../Data/mask_orient'"
   ]
  },
  {
   "cell_type": "code",
   "execution_count": 9,
   "metadata": {},
   "outputs": [
    {
     "ename": "FileExistsError",
     "evalue": "[Errno 17] File exists: '../../Data/CBIS-DDSM_classification_orient/'",
     "output_type": "error",
     "traceback": [
      "\u001b[0;31m---------------------------------------------------------------------------\u001b[0m",
      "\u001b[0;31mFileExistsError\u001b[0m                           Traceback (most recent call last)",
      "\u001b[0;32m<ipython-input-9-be670ac10264>\u001b[0m in \u001b[0;36m<module>\u001b[0;34m()\u001b[0m\n\u001b[0;32m----> 1\u001b[0;31m \u001b[0mos\u001b[0m\u001b[0;34m.\u001b[0m\u001b[0mmkdir\u001b[0m\u001b[0;34m(\u001b[0m\u001b[0mwrite_image_path\u001b[0m\u001b[0;34m)\u001b[0m\u001b[0;34m\u001b[0m\u001b[0m\n\u001b[0m\u001b[1;32m      2\u001b[0m \u001b[0mos\u001b[0m\u001b[0;34m.\u001b[0m\u001b[0mmkdir\u001b[0m\u001b[0;34m(\u001b[0m\u001b[0mwrite_mask_path\u001b[0m\u001b[0;34m)\u001b[0m\u001b[0;34m\u001b[0m\u001b[0m\n",
      "\u001b[0;31mFileExistsError\u001b[0m: [Errno 17] File exists: '../../Data/CBIS-DDSM_classification_orient/'"
     ]
    }
   ],
   "source": [
    "os.mkdir(write_image_path)\n",
    "os.mkdir(write_mask_path)"
   ]
  },
  {
   "cell_type": "code",
   "execution_count": 4,
   "metadata": {},
   "outputs": [],
   "source": [
    "def get_com_loc(img):\n",
    "    mid_point = img.shape[1]//2\n",
    "    pos_matrix = np.zeros(img.shape)\n",
    "    for i in range(img.shape[1]):\n",
    "        pos_matrix[:,i] = i+1\n",
    "    com = np.multiply(pos_matrix,img).sum()/img.sum()\n",
    "\n",
    "    if com < mid_point:\n",
    "        return \"left\"\n",
    "    else:\n",
    "        return \"right\"\n",
    "    "
   ]
  },
  {
   "cell_type": "code",
   "execution_count": 5,
   "metadata": {},
   "outputs": [
    {
     "name": "stdout",
     "output_type": "stream",
     "text": [
      "total files 3103\n",
      "3030\n"
     ]
    },
    {
     "name": "stderr",
     "output_type": "stream",
     "text": [
      "/home/audy/anaconda3/envs/py3.6/lib/python3.6/site-packages/skimage/io/_io.py:140: UserWarning: ../../Data/mask_orient/Mass-Training_P_01798_LEFT_CC_mask.jpg is a low contrast image\n",
      "  warn('%s is a low contrast image' % fname)\n"
     ]
    },
    {
     "name": "stdout",
     "output_type": "stream",
     "text": [
      "0\n",
      "(5416, 3840, 3)\n",
      "(5416, 3840)\n",
      "----------------------\n",
      "3031\n"
     ]
    },
    {
     "name": "stderr",
     "output_type": "stream",
     "text": [
      "/home/audy/anaconda3/envs/py3.6/lib/python3.6/site-packages/skimage/io/_io.py:140: UserWarning: ../../Data/mask_orient/Mass-Training_P_01798_LEFT_MLO_mask.jpg is a low contrast image\n",
      "  warn('%s is a low contrast image' % fname)\n"
     ]
    },
    {
     "name": "stdout",
     "output_type": "stream",
     "text": [
      "1\n",
      "(5592, 3920, 3)\n",
      "(5592, 3920)\n",
      "----------------------\n",
      "3032\n"
     ]
    },
    {
     "name": "stderr",
     "output_type": "stream",
     "text": [
      "/home/audy/anaconda3/envs/py3.6/lib/python3.6/site-packages/skimage/io/_io.py:140: UserWarning: ../../Data/mask_orient/Mass-Training_P_01799_LEFT_CC_mask.jpg is a low contrast image\n",
      "  warn('%s is a low contrast image' % fname)\n",
      "/home/audy/anaconda3/envs/py3.6/lib/python3.6/site-packages/skimage/util/dtype.py:130: UserWarning: Possible precision loss when converting from float64 to uint8\n",
      "  .format(dtypeobj_in, dtypeobj_out))\n"
     ]
    },
    {
     "name": "stdout",
     "output_type": "stream",
     "text": [
      "2\n",
      "(5491, 2776, 3)\n",
      "(5491, 2776)\n",
      "----------------------\n",
      "3033\n",
      "3\n",
      "(5491, 2941, 3)\n",
      "(5491, 2941)\n",
      "----------------------\n",
      "3034\n"
     ]
    },
    {
     "name": "stderr",
     "output_type": "stream",
     "text": [
      "/home/audy/anaconda3/envs/py3.6/lib/python3.6/site-packages/skimage/io/_io.py:140: UserWarning: ../../Data/mask_orient/Mass-Training_P_01801_RIGHT_CC_mask.jpg is a low contrast image\n",
      "  warn('%s is a low contrast image' % fname)\n"
     ]
    },
    {
     "name": "stdout",
     "output_type": "stream",
     "text": [
      "4\n",
      "(4648, 3256, 3)\n",
      "(4648, 3256)\n",
      "----------------------\n",
      "3035\n"
     ]
    },
    {
     "name": "stderr",
     "output_type": "stream",
     "text": [
      "/home/audy/anaconda3/envs/py3.6/lib/python3.6/site-packages/skimage/io/_io.py:140: UserWarning: ../../Data/mask_orient/Mass-Training_P_01801_RIGHT_MLO_mask.jpg is a low contrast image\n",
      "  warn('%s is a low contrast image' % fname)\n"
     ]
    },
    {
     "name": "stdout",
     "output_type": "stream",
     "text": [
      "5\n",
      "(4648, 3304, 3)\n",
      "(4648, 3304)\n",
      "----------------------\n",
      "3036\n"
     ]
    },
    {
     "name": "stderr",
     "output_type": "stream",
     "text": [
      "/home/audy/anaconda3/envs/py3.6/lib/python3.6/site-packages/skimage/io/_io.py:140: UserWarning: ../../Data/mask_orient/Mass-Training_P_01802_LEFT_MLO_mask.jpg is a low contrast image\n",
      "  warn('%s is a low contrast image' % fname)\n"
     ]
    },
    {
     "name": "stdout",
     "output_type": "stream",
     "text": [
      "6\n",
      "(5206, 2821, 3)\n",
      "(5206, 2821)\n",
      "----------------------\n",
      "3037\n"
     ]
    },
    {
     "name": "stderr",
     "output_type": "stream",
     "text": [
      "/home/audy/anaconda3/envs/py3.6/lib/python3.6/site-packages/skimage/io/_io.py:140: UserWarning: ../../Data/mask_orient/Mass-Training_P_01803_RIGHT_CC_mask.jpg is a low contrast image\n",
      "  warn('%s is a low contrast image' % fname)\n"
     ]
    },
    {
     "name": "stdout",
     "output_type": "stream",
     "text": [
      "7\n",
      "(4704, 2672, 3)\n",
      "(4704, 2672)\n",
      "----------------------\n",
      "3038\n"
     ]
    },
    {
     "name": "stderr",
     "output_type": "stream",
     "text": [
      "/home/audy/anaconda3/envs/py3.6/lib/python3.6/site-packages/skimage/io/_io.py:140: UserWarning: ../../Data/mask_orient/Mass-Training_P_01803_RIGHT_MLO_mask.jpg is a low contrast image\n",
      "  warn('%s is a low contrast image' % fname)\n"
     ]
    },
    {
     "name": "stdout",
     "output_type": "stream",
     "text": [
      "8\n",
      "(4624, 2592, 3)\n",
      "(4624, 2592)\n",
      "----------------------\n",
      "3039\n"
     ]
    },
    {
     "name": "stderr",
     "output_type": "stream",
     "text": [
      "/home/audy/anaconda3/envs/py3.6/lib/python3.6/site-packages/skimage/io/_io.py:140: UserWarning: ../../Data/mask_orient/Mass-Training_P_01804_LEFT_MLO_mask.jpg is a low contrast image\n",
      "  warn('%s is a low contrast image' % fname)\n"
     ]
    },
    {
     "name": "stdout",
     "output_type": "stream",
     "text": [
      "9\n",
      "(4592, 2880, 3)\n",
      "(4592, 2880)\n",
      "----------------------\n",
      "3040\n"
     ]
    },
    {
     "name": "stderr",
     "output_type": "stream",
     "text": [
      "/home/audy/anaconda3/envs/py3.6/lib/python3.6/site-packages/skimage/io/_io.py:140: UserWarning: ../../Data/mask_orient/Mass-Training_P_01805_LEFT_CC_mask.jpg is a low contrast image\n",
      "  warn('%s is a low contrast image' % fname)\n"
     ]
    },
    {
     "name": "stdout",
     "output_type": "stream",
     "text": [
      "10\n",
      "(5311, 3466, 3)\n",
      "(5311, 3466)\n",
      "----------------------\n",
      "3041\n"
     ]
    },
    {
     "name": "stderr",
     "output_type": "stream",
     "text": [
      "/home/audy/anaconda3/envs/py3.6/lib/python3.6/site-packages/skimage/io/_io.py:140: UserWarning: ../../Data/mask_orient/Mass-Training_P_01805_LEFT_MLO_mask.jpg is a low contrast image\n",
      "  warn('%s is a low contrast image' % fname)\n"
     ]
    },
    {
     "name": "stdout",
     "output_type": "stream",
     "text": [
      "11\n",
      "(5281, 3391, 3)\n",
      "(5281, 3391)\n",
      "----------------------\n",
      "3042\n"
     ]
    },
    {
     "name": "stderr",
     "output_type": "stream",
     "text": [
      "/home/audy/anaconda3/envs/py3.6/lib/python3.6/site-packages/skimage/io/_io.py:140: UserWarning: ../../Data/mask_orient/Mass-Training_P_01805_RIGHT_MLO_mask.jpg is a low contrast image\n",
      "  warn('%s is a low contrast image' % fname)\n"
     ]
    },
    {
     "name": "stdout",
     "output_type": "stream",
     "text": [
      "12\n",
      "(5311, 3676, 3)\n",
      "(5311, 3676)\n",
      "----------------------\n",
      "3043\n",
      "13\n",
      "(4306, 2281, 3)\n",
      "(4306, 2281)\n",
      "----------------------\n",
      "3044\n"
     ]
    },
    {
     "name": "stderr",
     "output_type": "stream",
     "text": [
      "/home/audy/anaconda3/envs/py3.6/lib/python3.6/site-packages/skimage/io/_io.py:140: UserWarning: ../../Data/mask_orient/Mass-Training_P_01816_LEFT_CC_mask.jpg is a low contrast image\n",
      "  warn('%s is a low contrast image' % fname)\n"
     ]
    },
    {
     "name": "stdout",
     "output_type": "stream",
     "text": [
      "14\n",
      "(4951, 2461, 3)\n",
      "(4951, 2461)\n",
      "----------------------\n",
      "3045\n"
     ]
    },
    {
     "name": "stderr",
     "output_type": "stream",
     "text": [
      "/home/audy/anaconda3/envs/py3.6/lib/python3.6/site-packages/skimage/io/_io.py:140: UserWarning: ../../Data/mask_orient/Mass-Training_P_01816_LEFT_MLO_mask.jpg is a low contrast image\n",
      "  warn('%s is a low contrast image' % fname)\n"
     ]
    },
    {
     "name": "stdout",
     "output_type": "stream",
     "text": [
      "15\n",
      "(5311, 2521, 3)\n",
      "(5311, 2521)\n",
      "----------------------\n",
      "3046\n"
     ]
    },
    {
     "name": "stderr",
     "output_type": "stream",
     "text": [
      "/home/audy/anaconda3/envs/py3.6/lib/python3.6/site-packages/skimage/io/_io.py:140: UserWarning: ../../Data/mask_orient/Mass-Training_P_01817_RIGHT_CC_mask.jpg is a low contrast image\n",
      "  warn('%s is a low contrast image' % fname)\n"
     ]
    },
    {
     "name": "stdout",
     "output_type": "stream",
     "text": [
      "16\n",
      "(4704, 2904, 3)\n",
      "(4704, 2904)\n",
      "----------------------\n",
      "3047\n"
     ]
    },
    {
     "name": "stderr",
     "output_type": "stream",
     "text": [
      "/home/audy/anaconda3/envs/py3.6/lib/python3.6/site-packages/skimage/io/_io.py:140: UserWarning: ../../Data/mask_orient/Mass-Training_P_01817_RIGHT_MLO_mask.jpg is a low contrast image\n",
      "  warn('%s is a low contrast image' % fname)\n"
     ]
    },
    {
     "name": "stdout",
     "output_type": "stream",
     "text": [
      "17\n",
      "(4744, 3176, 3)\n",
      "(4744, 3176)\n",
      "----------------------\n",
      "3048\n"
     ]
    },
    {
     "name": "stderr",
     "output_type": "stream",
     "text": [
      "/home/audy/anaconda3/envs/py3.6/lib/python3.6/site-packages/skimage/io/_io.py:140: UserWarning: ../../Data/mask_orient/Mass-Training_P_01819_RIGHT_CC_mask.jpg is a low contrast image\n",
      "  warn('%s is a low contrast image' % fname)\n"
     ]
    },
    {
     "name": "stdout",
     "output_type": "stream",
     "text": [
      "18\n",
      "(5648, 4040, 3)\n",
      "(5648, 4040)\n",
      "----------------------\n",
      "3049\n"
     ]
    },
    {
     "name": "stderr",
     "output_type": "stream",
     "text": [
      "/home/audy/anaconda3/envs/py3.6/lib/python3.6/site-packages/skimage/io/_io.py:140: UserWarning: ../../Data/mask_orient/Mass-Training_P_01821_LEFT_CC_mask.jpg is a low contrast image\n",
      "  warn('%s is a low contrast image' % fname)\n"
     ]
    },
    {
     "name": "stdout",
     "output_type": "stream",
     "text": [
      "19\n",
      "(5752, 4096, 3)\n",
      "(5752, 4096)\n",
      "----------------------\n",
      "3050\n"
     ]
    },
    {
     "name": "stderr",
     "output_type": "stream",
     "text": [
      "/home/audy/anaconda3/envs/py3.6/lib/python3.6/site-packages/skimage/io/_io.py:140: UserWarning: ../../Data/mask_orient/Mass-Training_P_01821_LEFT_MLO_mask.jpg is a low contrast image\n",
      "  warn('%s is a low contrast image' % fname)\n"
     ]
    },
    {
     "name": "stdout",
     "output_type": "stream",
     "text": [
      "20\n",
      "(5744, 4080, 3)\n",
      "(5744, 4080)\n",
      "----------------------\n",
      "3051\n"
     ]
    },
    {
     "name": "stderr",
     "output_type": "stream",
     "text": [
      "/home/audy/anaconda3/envs/py3.6/lib/python3.6/site-packages/skimage/io/_io.py:140: UserWarning: ../../Data/mask_orient/Mass-Training_P_01822_LEFT_CC_mask.jpg is a low contrast image\n",
      "  warn('%s is a low contrast image' % fname)\n"
     ]
    },
    {
     "name": "stdout",
     "output_type": "stream",
     "text": [
      "21\n",
      "(4552, 2888, 3)\n",
      "(4552, 2888)\n",
      "----------------------\n",
      "3052\n"
     ]
    },
    {
     "name": "stderr",
     "output_type": "stream",
     "text": [
      "/home/audy/anaconda3/envs/py3.6/lib/python3.6/site-packages/skimage/io/_io.py:140: UserWarning: ../../Data/mask_orient/Mass-Training_P_01822_LEFT_MLO_mask.jpg is a low contrast image\n",
      "  warn('%s is a low contrast image' % fname)\n"
     ]
    },
    {
     "name": "stdout",
     "output_type": "stream",
     "text": [
      "22\n",
      "(4568, 2928, 3)\n",
      "(4568, 2928)\n",
      "----------------------\n",
      "3053\n"
     ]
    },
    {
     "name": "stderr",
     "output_type": "stream",
     "text": [
      "/home/audy/anaconda3/envs/py3.6/lib/python3.6/site-packages/skimage/io/_io.py:140: UserWarning: ../../Data/mask_orient/Mass-Training_P_01824_RIGHT_CC_mask.jpg is a low contrast image\n",
      "  warn('%s is a low contrast image' % fname)\n"
     ]
    },
    {
     "name": "stdout",
     "output_type": "stream",
     "text": [
      "23\n",
      "(4568, 3032, 3)\n",
      "(4568, 3032)\n",
      "----------------------\n",
      "3054\n"
     ]
    },
    {
     "name": "stderr",
     "output_type": "stream",
     "text": [
      "/home/audy/anaconda3/envs/py3.6/lib/python3.6/site-packages/skimage/io/_io.py:140: UserWarning: ../../Data/mask_orient/Mass-Training_P_01824_RIGHT_MLO_mask.jpg is a low contrast image\n",
      "  warn('%s is a low contrast image' % fname)\n"
     ]
    },
    {
     "name": "stdout",
     "output_type": "stream",
     "text": [
      "24\n",
      "(4736, 3168, 3)\n",
      "(4736, 3168)\n",
      "----------------------\n",
      "3055\n"
     ]
    },
    {
     "name": "stderr",
     "output_type": "stream",
     "text": [
      "/home/audy/anaconda3/envs/py3.6/lib/python3.6/site-packages/skimage/io/_io.py:140: UserWarning: ../../Data/mask_orient/Mass-Training_P_01826_RIGHT_CC_mask.jpg is a low contrast image\n",
      "  warn('%s is a low contrast image' % fname)\n"
     ]
    },
    {
     "name": "stdout",
     "output_type": "stream",
     "text": [
      "25\n",
      "(6331, 4036, 3)\n",
      "(6331, 4036)\n",
      "----------------------\n",
      "3056\n"
     ]
    },
    {
     "name": "stderr",
     "output_type": "stream",
     "text": [
      "/home/audy/anaconda3/envs/py3.6/lib/python3.6/site-packages/skimage/io/_io.py:140: UserWarning: ../../Data/mask_orient/Mass-Training_P_01826_RIGHT_MLO_mask.jpg is a low contrast image\n",
      "  warn('%s is a low contrast image' % fname)\n"
     ]
    },
    {
     "name": "stdout",
     "output_type": "stream",
     "text": [
      "26\n",
      "(6406, 4021, 3)\n",
      "(6406, 4021)\n",
      "----------------------\n",
      "3057\n"
     ]
    },
    {
     "name": "stderr",
     "output_type": "stream",
     "text": [
      "/home/audy/anaconda3/envs/py3.6/lib/python3.6/site-packages/skimage/io/_io.py:140: UserWarning: ../../Data/mask_orient/Mass-Training_P_01829_LEFT_MLO_mask.jpg is a low contrast image\n",
      "  warn('%s is a low contrast image' % fname)\n"
     ]
    },
    {
     "name": "stdout",
     "output_type": "stream",
     "text": [
      "27\n",
      "(5491, 2611, 3)\n",
      "(5491, 2611)\n",
      "----------------------\n",
      "3058\n"
     ]
    },
    {
     "name": "stderr",
     "output_type": "stream",
     "text": [
      "/home/audy/anaconda3/envs/py3.6/lib/python3.6/site-packages/skimage/io/_io.py:140: UserWarning: ../../Data/mask_orient/Mass-Training_P_01831_RIGHT_CC_mask.jpg is a low contrast image\n",
      "  warn('%s is a low contrast image' % fname)\n"
     ]
    },
    {
     "name": "stdout",
     "output_type": "stream",
     "text": [
      "28\n",
      "(5221, 2461, 3)\n",
      "(4543, 2142)\n",
      "----------------------\n",
      "3059\n"
     ]
    },
    {
     "name": "stderr",
     "output_type": "stream",
     "text": [
      "/home/audy/anaconda3/envs/py3.6/lib/python3.6/site-packages/skimage/io/_io.py:140: UserWarning: ../../Data/mask_orient/Mass-Training_P_01831_RIGHT_MLO_mask.jpg is a low contrast image\n",
      "  warn('%s is a low contrast image' % fname)\n"
     ]
    },
    {
     "name": "stdout",
     "output_type": "stream",
     "text": [
      "29\n",
      "(5236, 2716, 3)\n",
      "(4556, 2363)\n",
      "----------------------\n",
      "3060\n"
     ]
    },
    {
     "name": "stderr",
     "output_type": "stream",
     "text": [
      "/home/audy/anaconda3/envs/py3.6/lib/python3.6/site-packages/skimage/io/_io.py:140: UserWarning: ../../Data/mask_orient/Mass-Training_P_01832_RIGHT_MLO_mask.jpg is a low contrast image\n",
      "  warn('%s is a low contrast image' % fname)\n"
     ]
    },
    {
     "name": "stdout",
     "output_type": "stream",
     "text": [
      "30\n",
      "(5896, 3880, 3)\n",
      "(5896, 3880)\n",
      "----------------------\n",
      "3061\n"
     ]
    },
    {
     "name": "stderr",
     "output_type": "stream",
     "text": [
      "/home/audy/anaconda3/envs/py3.6/lib/python3.6/site-packages/skimage/io/_io.py:140: UserWarning: ../../Data/mask_orient/Mass-Training_P_01840_RIGHT_MLO_mask.jpg is a low contrast image\n",
      "  warn('%s is a low contrast image' % fname)\n"
     ]
    },
    {
     "name": "stdout",
     "output_type": "stream",
     "text": [
      "31\n",
      "(5491, 2296, 3)\n",
      "(5491, 2296)\n",
      "----------------------\n",
      "3062\n"
     ]
    },
    {
     "name": "stderr",
     "output_type": "stream",
     "text": [
      "/home/audy/anaconda3/envs/py3.6/lib/python3.6/site-packages/skimage/io/_io.py:140: UserWarning: ../../Data/mask_orient/Mass-Training_P_01841_RIGHT_CC_mask.jpg is a low contrast image\n",
      "  warn('%s is a low contrast image' % fname)\n"
     ]
    },
    {
     "name": "stdout",
     "output_type": "stream",
     "text": [
      "32\n",
      "(4720, 2328, 3)\n",
      "(4720, 2328)\n",
      "----------------------\n",
      "3063\n"
     ]
    },
    {
     "name": "stderr",
     "output_type": "stream",
     "text": [
      "/home/audy/anaconda3/envs/py3.6/lib/python3.6/site-packages/skimage/io/_io.py:140: UserWarning: ../../Data/mask_orient/Mass-Training_P_01841_RIGHT_MLO_mask.jpg is a low contrast image\n",
      "  warn('%s is a low contrast image' % fname)\n"
     ]
    },
    {
     "name": "stdout",
     "output_type": "stream",
     "text": [
      "33\n",
      "(4696, 2528, 3)\n",
      "(4696, 2528)\n",
      "----------------------\n",
      "3064\n"
     ]
    },
    {
     "name": "stderr",
     "output_type": "stream",
     "text": [
      "/home/audy/anaconda3/envs/py3.6/lib/python3.6/site-packages/skimage/io/_io.py:140: UserWarning: ../../Data/mask_orient/Mass-Training_P_01844_RIGHT_MLO_mask.jpg is a low contrast image\n",
      "  warn('%s is a low contrast image' % fname)\n"
     ]
    },
    {
     "name": "stdout",
     "output_type": "stream",
     "text": [
      "34\n",
      "(4648, 2856, 3)\n",
      "(4648, 2856)\n",
      "----------------------\n",
      "3065\n"
     ]
    },
    {
     "name": "stderr",
     "output_type": "stream",
     "text": [
      "/home/audy/anaconda3/envs/py3.6/lib/python3.6/site-packages/skimage/io/_io.py:140: UserWarning: ../../Data/mask_orient/Mass-Training_P_01848_RIGHT_CC_mask.jpg is a low contrast image\n",
      "  warn('%s is a low contrast image' % fname)\n"
     ]
    },
    {
     "name": "stdout",
     "output_type": "stream",
     "text": [
      "35\n",
      "(5848, 3208, 3)\n",
      "(5848, 3208)\n",
      "----------------------\n",
      "3066\n"
     ]
    },
    {
     "name": "stderr",
     "output_type": "stream",
     "text": [
      "/home/audy/anaconda3/envs/py3.6/lib/python3.6/site-packages/skimage/io/_io.py:140: UserWarning: ../../Data/mask_orient/Mass-Training_P_01848_RIGHT_MLO_mask.jpg is a low contrast image\n",
      "  warn('%s is a low contrast image' % fname)\n"
     ]
    },
    {
     "name": "stdout",
     "output_type": "stream",
     "text": [
      "36\n",
      "(5936, 3248, 3)\n",
      "(5936, 3248)\n",
      "----------------------\n",
      "3067\n"
     ]
    },
    {
     "name": "stderr",
     "output_type": "stream",
     "text": [
      "/home/audy/anaconda3/envs/py3.6/lib/python3.6/site-packages/skimage/io/_io.py:140: UserWarning: ../../Data/mask_orient/Mass-Training_P_01849_RIGHT_CC_mask.jpg is a low contrast image\n",
      "  warn('%s is a low contrast image' % fname)\n"
     ]
    },
    {
     "name": "stdout",
     "output_type": "stream",
     "text": [
      "37\n",
      "(5688, 3968, 3)\n",
      "(5688, 3968)\n",
      "----------------------\n",
      "3068\n"
     ]
    },
    {
     "name": "stderr",
     "output_type": "stream",
     "text": [
      "/home/audy/anaconda3/envs/py3.6/lib/python3.6/site-packages/skimage/io/_io.py:140: UserWarning: ../../Data/mask_orient/Mass-Training_P_01849_RIGHT_MLO_mask.jpg is a low contrast image\n",
      "  warn('%s is a low contrast image' % fname)\n"
     ]
    },
    {
     "name": "stdout",
     "output_type": "stream",
     "text": [
      "38\n",
      "(5728, 3992, 3)\n",
      "(5728, 3992)\n",
      "----------------------\n",
      "3069\n"
     ]
    },
    {
     "name": "stderr",
     "output_type": "stream",
     "text": [
      "/home/audy/anaconda3/envs/py3.6/lib/python3.6/site-packages/skimage/io/_io.py:140: UserWarning: ../../Data/mask_orient/Mass-Training_P_01850_RIGHT_CC_mask.jpg is a low contrast image\n",
      "  warn('%s is a low contrast image' % fname)\n"
     ]
    },
    {
     "name": "stdout",
     "output_type": "stream",
     "text": [
      "39\n",
      "(6451, 3241, 3)\n",
      "(6451, 3241)\n",
      "----------------------\n",
      "3070\n"
     ]
    },
    {
     "name": "stderr",
     "output_type": "stream",
     "text": [
      "/home/audy/anaconda3/envs/py3.6/lib/python3.6/site-packages/skimage/io/_io.py:140: UserWarning: ../../Data/mask_orient/Mass-Training_P_01850_RIGHT_MLO_mask.jpg is a low contrast image\n",
      "  warn('%s is a low contrast image' % fname)\n"
     ]
    },
    {
     "name": "stdout",
     "output_type": "stream",
     "text": [
      "40\n",
      "(6871, 3346, 3)\n",
      "(6871, 3346)\n",
      "----------------------\n",
      "3071\n"
     ]
    },
    {
     "name": "stderr",
     "output_type": "stream",
     "text": [
      "/home/audy/anaconda3/envs/py3.6/lib/python3.6/site-packages/skimage/io/_io.py:140: UserWarning: ../../Data/mask_orient/Mass-Training_P_01853_LEFT_CC_mask.jpg is a low contrast image\n",
      "  warn('%s is a low contrast image' % fname)\n"
     ]
    },
    {
     "name": "stdout",
     "output_type": "stream",
     "text": [
      "41\n",
      "(5491, 3526, 3)\n",
      "(5491, 3526)\n",
      "----------------------\n",
      "3072\n"
     ]
    },
    {
     "name": "stderr",
     "output_type": "stream",
     "text": [
      "/home/audy/anaconda3/envs/py3.6/lib/python3.6/site-packages/skimage/io/_io.py:140: UserWarning: ../../Data/mask_orient/Mass-Training_P_01853_LEFT_MLO_mask.jpg is a low contrast image\n",
      "  warn('%s is a low contrast image' % fname)\n"
     ]
    },
    {
     "name": "stdout",
     "output_type": "stream",
     "text": [
      "42\n",
      "(5476, 3451, 3)\n",
      "(5476, 3451)\n",
      "----------------------\n",
      "3073\n"
     ]
    },
    {
     "name": "stderr",
     "output_type": "stream",
     "text": [
      "/home/audy/anaconda3/envs/py3.6/lib/python3.6/site-packages/skimage/io/_io.py:140: UserWarning: ../../Data/mask_orient/Mass-Training_P_01860_RIGHT_CC_mask.jpg is a low contrast image\n",
      "  warn('%s is a low contrast image' % fname)\n"
     ]
    },
    {
     "name": "stdout",
     "output_type": "stream",
     "text": [
      "43\n",
      "(4321, 2056, 3)\n",
      "(4321, 2056)\n",
      "----------------------\n",
      "3074\n"
     ]
    },
    {
     "name": "stderr",
     "output_type": "stream",
     "text": [
      "/home/audy/anaconda3/envs/py3.6/lib/python3.6/site-packages/skimage/io/_io.py:140: UserWarning: ../../Data/mask_orient/Mass-Training_P_01864_LEFT_CC_mask.jpg is a low contrast image\n",
      "  warn('%s is a low contrast image' % fname)\n"
     ]
    },
    {
     "name": "stdout",
     "output_type": "stream",
     "text": [
      "44\n",
      "(5232, 3888, 3)\n",
      "(5232, 3888)\n",
      "----------------------\n",
      "3075\n"
     ]
    },
    {
     "name": "stderr",
     "output_type": "stream",
     "text": [
      "/home/audy/anaconda3/envs/py3.6/lib/python3.6/site-packages/skimage/io/_io.py:140: UserWarning: ../../Data/mask_orient/Mass-Training_P_01866_RIGHT_CC_mask.jpg is a low contrast image\n",
      "  warn('%s is a low contrast image' % fname)\n"
     ]
    },
    {
     "name": "stdout",
     "output_type": "stream",
     "text": [
      "45\n",
      "(5356, 3376, 3)\n",
      "(5356, 3376)\n",
      "----------------------\n",
      "3076\n"
     ]
    },
    {
     "name": "stderr",
     "output_type": "stream",
     "text": [
      "/home/audy/anaconda3/envs/py3.6/lib/python3.6/site-packages/skimage/io/_io.py:140: UserWarning: ../../Data/mask_orient/Mass-Training_P_01866_RIGHT_MLO_mask.jpg is a low contrast image\n",
      "  warn('%s is a low contrast image' % fname)\n"
     ]
    },
    {
     "name": "stdout",
     "output_type": "stream",
     "text": [
      "46\n",
      "(5311, 3706, 3)\n",
      "(5311, 3706)\n",
      "----------------------\n",
      "3077\n"
     ]
    },
    {
     "name": "stderr",
     "output_type": "stream",
     "text": [
      "/home/audy/anaconda3/envs/py3.6/lib/python3.6/site-packages/skimage/io/_io.py:140: UserWarning: ../../Data/mask_orient/Mass-Training_P_01876_LEFT_CC_mask.jpg is a low contrast image\n",
      "  warn('%s is a low contrast image' % fname)\n"
     ]
    },
    {
     "name": "stdout",
     "output_type": "stream",
     "text": [
      "47\n",
      "(4531, 2101, 3)\n",
      "(4531, 2101)\n",
      "----------------------\n",
      "3078\n"
     ]
    },
    {
     "name": "stderr",
     "output_type": "stream",
     "text": [
      "/home/audy/anaconda3/envs/py3.6/lib/python3.6/site-packages/skimage/io/_io.py:140: UserWarning: ../../Data/mask_orient/Mass-Training_P_01876_LEFT_MLO_mask.jpg is a low contrast image\n",
      "  warn('%s is a low contrast image' % fname)\n"
     ]
    },
    {
     "name": "stdout",
     "output_type": "stream",
     "text": [
      "48\n",
      "(4996, 2341, 3)\n",
      "(4996, 2341)\n",
      "----------------------\n",
      "3079\n"
     ]
    },
    {
     "name": "stderr",
     "output_type": "stream",
     "text": [
      "/home/audy/anaconda3/envs/py3.6/lib/python3.6/site-packages/skimage/io/_io.py:140: UserWarning: ../../Data/mask_orient/Mass-Training_P_01877_LEFT_CC_mask.jpg is a low contrast image\n",
      "  warn('%s is a low contrast image' % fname)\n"
     ]
    },
    {
     "name": "stdout",
     "output_type": "stream",
     "text": [
      "49\n",
      "(5281, 2941, 3)\n",
      "(5281, 2941)\n",
      "----------------------\n",
      "3080\n"
     ]
    },
    {
     "name": "stderr",
     "output_type": "stream",
     "text": [
      "/home/audy/anaconda3/envs/py3.6/lib/python3.6/site-packages/skimage/io/_io.py:140: UserWarning: ../../Data/mask_orient/Mass-Training_P_01877_LEFT_MLO_mask.jpg is a low contrast image\n",
      "  warn('%s is a low contrast image' % fname)\n"
     ]
    },
    {
     "name": "stdout",
     "output_type": "stream",
     "text": [
      "50\n",
      "(5386, 3106, 3)\n",
      "(5386, 3106)\n",
      "----------------------\n",
      "3081\n"
     ]
    },
    {
     "name": "stderr",
     "output_type": "stream",
     "text": [
      "/home/audy/anaconda3/envs/py3.6/lib/python3.6/site-packages/skimage/io/_io.py:140: UserWarning: ../../Data/mask_orient/Mass-Training_P_01878_RIGHT_CC_mask.jpg is a low contrast image\n",
      "  warn('%s is a low contrast image' % fname)\n"
     ]
    },
    {
     "name": "stdout",
     "output_type": "stream",
     "text": [
      "51\n",
      "(4544, 2904, 3)\n",
      "(4544, 2904)\n",
      "----------------------\n",
      "3082\n"
     ]
    },
    {
     "name": "stderr",
     "output_type": "stream",
     "text": [
      "/home/audy/anaconda3/envs/py3.6/lib/python3.6/site-packages/skimage/io/_io.py:140: UserWarning: ../../Data/mask_orient/Mass-Training_P_01878_RIGHT_MLO_mask.jpg is a low contrast image\n",
      "  warn('%s is a low contrast image' % fname)\n"
     ]
    },
    {
     "name": "stdout",
     "output_type": "stream",
     "text": [
      "52\n",
      "(4552, 2840, 3)\n",
      "(4552, 2840)\n",
      "----------------------\n",
      "3083\n"
     ]
    },
    {
     "name": "stderr",
     "output_type": "stream",
     "text": [
      "/home/audy/anaconda3/envs/py3.6/lib/python3.6/site-packages/skimage/io/_io.py:140: UserWarning: ../../Data/mask_orient/Mass-Training_P_01883_LEFT_CC_mask.jpg is a low contrast image\n",
      "  warn('%s is a low contrast image' % fname)\n"
     ]
    },
    {
     "name": "stdout",
     "output_type": "stream",
     "text": [
      "53\n",
      "(5888, 3664, 3)\n",
      "(5888, 3664)\n",
      "----------------------\n",
      "3084\n"
     ]
    },
    {
     "name": "stderr",
     "output_type": "stream",
     "text": [
      "/home/audy/anaconda3/envs/py3.6/lib/python3.6/site-packages/skimage/io/_io.py:140: UserWarning: ../../Data/mask_orient/Mass-Training_P_01886_RIGHT_CC_mask.jpg is a low contrast image\n",
      "  warn('%s is a low contrast image' % fname)\n"
     ]
    },
    {
     "name": "stdout",
     "output_type": "stream",
     "text": [
      "54\n",
      "(5161, 2401, 3)\n",
      "(5161, 2401)\n",
      "----------------------\n",
      "3085\n"
     ]
    },
    {
     "name": "stderr",
     "output_type": "stream",
     "text": [
      "/home/audy/anaconda3/envs/py3.6/lib/python3.6/site-packages/skimage/io/_io.py:140: UserWarning: ../../Data/mask_orient/Mass-Training_P_01887_LEFT_CC_mask.jpg is a low contrast image\n",
      "  warn('%s is a low contrast image' % fname)\n"
     ]
    },
    {
     "name": "stdout",
     "output_type": "stream",
     "text": [
      "55\n",
      "(5206, 3421, 3)\n",
      "(5206, 3421)\n",
      "----------------------\n",
      "3086\n"
     ]
    },
    {
     "name": "stderr",
     "output_type": "stream",
     "text": [
      "/home/audy/anaconda3/envs/py3.6/lib/python3.6/site-packages/skimage/io/_io.py:140: UserWarning: ../../Data/mask_orient/Mass-Training_P_01887_LEFT_MLO_mask.jpg is a low contrast image\n",
      "  warn('%s is a low contrast image' % fname)\n"
     ]
    },
    {
     "name": "stdout",
     "output_type": "stream",
     "text": [
      "56\n",
      "(5281, 3781, 3)\n",
      "(5281, 3781)\n",
      "----------------------\n",
      "3087\n"
     ]
    },
    {
     "name": "stderr",
     "output_type": "stream",
     "text": [
      "/home/audy/anaconda3/envs/py3.6/lib/python3.6/site-packages/skimage/io/_io.py:140: UserWarning: ../../Data/mask_orient/Mass-Training_P_01888_RIGHT_MLO_mask.jpg is a low contrast image\n",
      "  warn('%s is a low contrast image' % fname)\n"
     ]
    },
    {
     "name": "stdout",
     "output_type": "stream",
     "text": [
      "57\n",
      "(4672, 2544, 3)\n",
      "(4672, 2544)\n",
      "----------------------\n",
      "3088\n"
     ]
    },
    {
     "name": "stderr",
     "output_type": "stream",
     "text": [
      "/home/audy/anaconda3/envs/py3.6/lib/python3.6/site-packages/skimage/io/_io.py:140: UserWarning: ../../Data/mask_orient/Mass-Training_P_01889_RIGHT_CC_mask.jpg is a low contrast image\n",
      "  warn('%s is a low contrast image' % fname)\n"
     ]
    },
    {
     "name": "stdout",
     "output_type": "stream",
     "text": [
      "58\n",
      "(5920, 3736, 3)\n",
      "(5920, 3736)\n",
      "----------------------\n",
      "3089\n"
     ]
    },
    {
     "name": "stderr",
     "output_type": "stream",
     "text": [
      "/home/audy/anaconda3/envs/py3.6/lib/python3.6/site-packages/skimage/io/_io.py:140: UserWarning: ../../Data/mask_orient/Mass-Training_P_01889_RIGHT_MLO_mask.jpg is a low contrast image\n",
      "  warn('%s is a low contrast image' % fname)\n"
     ]
    },
    {
     "name": "stdout",
     "output_type": "stream",
     "text": [
      "59\n",
      "(5944, 3712, 3)\n",
      "(5944, 3712)\n",
      "----------------------\n",
      "3090\n"
     ]
    },
    {
     "name": "stderr",
     "output_type": "stream",
     "text": [
      "/home/audy/anaconda3/envs/py3.6/lib/python3.6/site-packages/skimage/io/_io.py:140: UserWarning: ../../Data/mask_orient/Mass-Training_P_01890_LEFT_MLO_mask.jpg is a low contrast image\n",
      "  warn('%s is a low contrast image' % fname)\n"
     ]
    },
    {
     "name": "stdout",
     "output_type": "stream",
     "text": [
      "60\n",
      "(4616, 2832, 3)\n",
      "(4616, 2832)\n",
      "----------------------\n",
      "3091\n"
     ]
    },
    {
     "name": "stderr",
     "output_type": "stream",
     "text": [
      "/home/audy/anaconda3/envs/py3.6/lib/python3.6/site-packages/skimage/io/_io.py:140: UserWarning: ../../Data/mask_orient/Mass-Training_P_01908_LEFT_CC_mask.jpg is a low contrast image\n",
      "  warn('%s is a low contrast image' % fname)\n"
     ]
    },
    {
     "name": "stdout",
     "output_type": "stream",
     "text": [
      "61\n",
      "(5026, 2836, 3)\n",
      "(4373, 2468)\n",
      "----------------------\n",
      "3092\n"
     ]
    },
    {
     "name": "stderr",
     "output_type": "stream",
     "text": [
      "/home/audy/anaconda3/envs/py3.6/lib/python3.6/site-packages/skimage/io/_io.py:140: UserWarning: ../../Data/mask_orient/Mass-Training_P_01946_RIGHT_CC_mask.jpg is a low contrast image\n",
      "  warn('%s is a low contrast image' % fname)\n"
     ]
    },
    {
     "name": "stdout",
     "output_type": "stream",
     "text": [
      "62\n",
      "(5896, 2671, 3)\n",
      "(5896, 2671)\n",
      "----------------------\n",
      "3093\n"
     ]
    },
    {
     "name": "stderr",
     "output_type": "stream",
     "text": [
      "/home/audy/anaconda3/envs/py3.6/lib/python3.6/site-packages/skimage/io/_io.py:140: UserWarning: ../../Data/mask_orient/Mass-Training_P_01946_RIGHT_MLO_mask.jpg is a low contrast image\n",
      "  warn('%s is a low contrast image' % fname)\n"
     ]
    },
    {
     "name": "stdout",
     "output_type": "stream",
     "text": [
      "63\n",
      "(6376, 3301, 3)\n",
      "(5548, 2872)\n",
      "----------------------\n",
      "3094\n"
     ]
    },
    {
     "name": "stderr",
     "output_type": "stream",
     "text": [
      "/home/audy/anaconda3/envs/py3.6/lib/python3.6/site-packages/skimage/io/_io.py:140: UserWarning: ../../Data/mask_orient/Mass-Training_P_01981_RIGHT_CC_mask.jpg is a low contrast image\n",
      "  warn('%s is a low contrast image' % fname)\n"
     ]
    },
    {
     "name": "stdout",
     "output_type": "stream",
     "text": [
      "64\n",
      "(6001, 3001, 3)\n",
      "(5221, 2611)\n",
      "----------------------\n",
      "3095\n"
     ]
    },
    {
     "name": "stderr",
     "output_type": "stream",
     "text": [
      "/home/audy/anaconda3/envs/py3.6/lib/python3.6/site-packages/skimage/io/_io.py:140: UserWarning: ../../Data/mask_orient/Mass-Training_P_01981_RIGHT_MLO_mask.jpg is a low contrast image\n",
      "  warn('%s is a low contrast image' % fname)\n"
     ]
    },
    {
     "name": "stdout",
     "output_type": "stream",
     "text": [
      "65\n",
      "(6286, 3391, 3)\n",
      "(5469, 2951)\n",
      "----------------------\n",
      "3096\n"
     ]
    },
    {
     "name": "stderr",
     "output_type": "stream",
     "text": [
      "/home/audy/anaconda3/envs/py3.6/lib/python3.6/site-packages/skimage/io/_io.py:140: UserWarning: ../../Data/mask_orient/Mass-Training_P_01983_LEFT_MLO_mask.jpg is a low contrast image\n",
      "  warn('%s is a low contrast image' % fname)\n"
     ]
    },
    {
     "name": "stdout",
     "output_type": "stream",
     "text": [
      "66\n",
      "(6481, 3766, 3)\n",
      "(5639, 3277)\n",
      "----------------------\n",
      "3097\n"
     ]
    },
    {
     "name": "stderr",
     "output_type": "stream",
     "text": [
      "/home/audy/anaconda3/envs/py3.6/lib/python3.6/site-packages/skimage/io/_io.py:140: UserWarning: ../../Data/mask_orient/Mass-Training_P_02033_RIGHT_CC_mask.jpg is a low contrast image\n",
      "  warn('%s is a low contrast image' % fname)\n"
     ]
    },
    {
     "name": "stdout",
     "output_type": "stream",
     "text": [
      "67\n",
      "(4921, 2701, 3)\n",
      "(4282, 2350)\n",
      "----------------------\n",
      "3098\n"
     ]
    },
    {
     "name": "stderr",
     "output_type": "stream",
     "text": [
      "/home/audy/anaconda3/envs/py3.6/lib/python3.6/site-packages/skimage/io/_io.py:140: UserWarning: ../../Data/mask_orient/Mass-Training_P_02033_RIGHT_MLO_mask.jpg is a low contrast image\n",
      "  warn('%s is a low contrast image' % fname)\n"
     ]
    },
    {
     "name": "stdout",
     "output_type": "stream",
     "text": [
      "68\n",
      "(5146, 2746, 3)\n",
      "(4478, 2390)\n",
      "----------------------\n",
      "3099\n"
     ]
    },
    {
     "name": "stderr",
     "output_type": "stream",
     "text": [
      "/home/audy/anaconda3/envs/py3.6/lib/python3.6/site-packages/skimage/io/_io.py:140: UserWarning: ../../Data/mask_orient/Mass-Training_P_02079_RIGHT_CC_mask.jpg is a low contrast image\n",
      "  warn('%s is a low contrast image' % fname)\n"
     ]
    },
    {
     "name": "stdout",
     "output_type": "stream",
     "text": [
      "69\n",
      "(5296, 3406, 3)\n",
      "(4608, 2964)\n",
      "----------------------\n",
      "3100\n"
     ]
    },
    {
     "name": "stderr",
     "output_type": "stream",
     "text": [
      "/home/audy/anaconda3/envs/py3.6/lib/python3.6/site-packages/skimage/io/_io.py:140: UserWarning: ../../Data/mask_orient/Mass-Training_P_02079_RIGHT_MLO_mask.jpg is a low contrast image\n",
      "  warn('%s is a low contrast image' % fname)\n"
     ]
    },
    {
     "name": "stdout",
     "output_type": "stream",
     "text": [
      "70\n",
      "(5221, 3451, 3)\n",
      "(4543, 3003)\n",
      "----------------------\n",
      "3101\n"
     ]
    },
    {
     "name": "stderr",
     "output_type": "stream",
     "text": [
      "/home/audy/anaconda3/envs/py3.6/lib/python3.6/site-packages/skimage/io/_io.py:140: UserWarning: ../../Data/mask_orient/Mass-Training_P_02092_LEFT_CC_mask.jpg is a low contrast image\n",
      "  warn('%s is a low contrast image' % fname)\n"
     ]
    },
    {
     "name": "stdout",
     "output_type": "stream",
     "text": [
      "71\n",
      "(5236, 2971, 3)\n",
      "(4556, 2585)\n",
      "----------------------\n",
      "3102\n",
      "72\n",
      "(5341, 3496, 3)\n",
      "(4647, 3042)\n",
      "----------------------\n"
     ]
    },
    {
     "name": "stderr",
     "output_type": "stream",
     "text": [
      "/home/audy/anaconda3/envs/py3.6/lib/python3.6/site-packages/skimage/io/_io.py:140: UserWarning: ../../Data/mask_orient/Mass-Training_P_02092_LEFT_MLO_mask.jpg is a low contrast image\n",
      "  warn('%s is a low contrast image' % fname)\n"
     ]
    }
   ],
   "source": [
    "files = natsorted(os.listdir(image_path))\n",
    "h = []\n",
    "w = []\n",
    "\n",
    "j=0\n",
    "print('total files', len(files))\n",
    "for i in range(len(files)):\n",
    "\n",
    "    if i < 3030:\n",
    "        continue\n",
    "    \n",
    "    print(i)\n",
    "    img = cv2.imread(os.path.join(image_path,files[i]))\n",
    "    mask = cv2.imread(os.path.join(mask_path,files[i].replace('.j','_mask.j')),0)\n",
    "    #iiiiiiprint(files[i])\n",
    "    \n",
    "    h.append(img.shape[0])\n",
    "    w.append(img.shape[1])\n",
    "    \n",
    "    position = get_com_loc(np.mean(img,axis=2))\n",
    "    #print(np.mean(img,axis=2).shape)\n",
    "    \n",
    "    if position == 'right':\n",
    "        img = np.fliplr(img)\n",
    "        mask = np.fliplr(mask)\n",
    "        mask = mask/mask.max()\n",
    "        mask[mask<0.7] = 0\n",
    "        mask[mask>0.7] = 1\n",
    "    \n",
    "    try:\n",
    "        io.imsave(os.path.join(write_image_path,files[i]),img)\n",
    "        io.imsave(os.path.join(write_mask_path,files[i].replace('.j','_mask.j')),mask)\n",
    "        print(j)\n",
    "        print(img.shape)\n",
    "        print(mask.shape)\n",
    "        print('----------------------')\n",
    "        j+=1\n",
    "    except:\n",
    "        import pdb;pdb.set_trace()\n",
    "        \n",
    "np.save('height.npy',h)\n",
    "np.save('width.npy',w)\n",
    "    "
   ]
  }
 ],
 "metadata": {
  "kernelspec": {
   "display_name": "Python 3",
   "language": "python",
   "name": "python3"
  },
  "language_info": {
   "codemirror_mode": {
    "name": "ipython",
    "version": 3
   },
   "file_extension": ".py",
   "mimetype": "text/x-python",
   "name": "python",
   "nbconvert_exporter": "python",
   "pygments_lexer": "ipython3",
   "version": "3.6.5"
  }
 },
 "nbformat": 4,
 "nbformat_minor": 2
}
