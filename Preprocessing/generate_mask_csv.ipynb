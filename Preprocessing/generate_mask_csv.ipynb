{
 "cells": [
  {
   "cell_type": "code",
   "execution_count": 1,
   "metadata": {},
   "outputs": [],
   "source": [
    "import os\n",
    "import pandas as pd\n",
    "import numpy as np"
   ]
  },
  {
   "cell_type": "code",
   "execution_count": 2,
   "metadata": {},
   "outputs": [],
   "source": [
    "path = '../Data/masks/'"
   ]
  },
  {
   "cell_type": "code",
   "execution_count": 3,
   "metadata": {},
   "outputs": [],
   "source": [
    "masks = sorted(os.listdir(path))"
   ]
  },
  {
   "cell_type": "code",
   "execution_count": 4,
   "metadata": {},
   "outputs": [],
   "source": [
    "training = []\n",
    "testing = []\n",
    "\n",
    "for m in masks:\n",
    "    if m.find('Training'):\n",
    "        training.append([m.replace('_mask.','.'),m])\n",
    "    else:\n",
    "        testing.append([m.replace('_mask.','.'),m])"
   ]
  },
  {
   "cell_type": "code",
   "execution_count": 6,
   "metadata": {},
   "outputs": [],
   "source": [
    "df_train = pd.DataFrame(training,columns=['name','mask'])\n",
    "df_test = pd.DataFrame(testing,columns=['name','mask'])"
   ]
  },
  {
   "cell_type": "code",
   "execution_count": 10,
   "metadata": {},
   "outputs": [],
   "source": [
    "df_train.to_csv('../CSV/segmentation_train_file.csv',index=False)\n",
    "df_test.to_csv('../CSV/segmentation_test.csv',index=False)"
   ]
  },
  {
   "cell_type": "code",
   "execution_count": 11,
   "metadata": {},
   "outputs": [],
   "source": [
    "df_train = pd.read_csv('../CSV/segmentation_train_file.csv')\n",
    "df_test = pd.read_csv('../CSV/segmentation_test_file.csv')"
   ]
  },
  {
   "cell_type": "code",
   "execution_count": 12,
   "metadata": {},
   "outputs": [],
   "source": [
    "val_size = len(df_train)*0.2//1"
   ]
  },
  {
   "cell_type": "code",
   "execution_count": 13,
   "metadata": {},
   "outputs": [],
   "source": [
    "shuffled_list = np.arange(len(df_train))\n",
    "np.random.shuffle(shuffled_list)"
   ]
  },
  {
   "cell_type": "code",
   "execution_count": 14,
   "metadata": {},
   "outputs": [],
   "source": [
    "np.save('seg_shuffled_list.npy',shuffled_list)"
   ]
  },
  {
   "cell_type": "code",
   "execution_count": 16,
   "metadata": {},
   "outputs": [],
   "source": [
    "final_training_list = []\n",
    "final_validation_list = []\n",
    "\n",
    "for i in range(len(df_train)):\n",
    "    if i < val_size:\n",
    "        final_validation_list.append([df_train.iloc[i]['name'],df_train.iloc[i]['mask']])\n",
    "    else:\n",
    "        final_training_list.append([df_train.iloc[i]['name'],df_train.iloc[i]['mask']])\n",
    "\n",
    "df_train_1 = pd.DataFrame(final_training_list,columns=['name','mask'])\n",
    "df_valid = pd.DataFrame(final_validation_list,columns=['name','mask'])\n",
    "\n",
    "df_train_1.to_csv('../CSV/segmentation_train.csv',index=False)\n",
    "df_valid.to_csv('../CSV/segmentation_valid.csv',index=False)\n",
    "        \n",
    "    \n",
    "    "
   ]
  },
  {
   "cell_type": "code",
   "execution_count": 19,
   "metadata": {},
   "outputs": [],
   "source": [
    "df_train_1 = pd.read_csv('../CSV/segmentation_train.csv')\n",
    "df_valid = pd.read_csv('../CSV/segmentation_valid.csv')"
   ]
  },
  {
   "cell_type": "code",
   "execution_count": 20,
   "metadata": {},
   "outputs": [
    {
     "data": {
      "text/plain": [
       "0.24968736973739059"
      ]
     },
     "execution_count": 20,
     "metadata": {},
     "output_type": "execute_result"
    }
   ],
   "source": [
    "len(df_valid)/len(df_train_1)"
   ]
  }
 ],
 "metadata": {
  "kernelspec": {
   "display_name": "Python 3",
   "language": "python",
   "name": "python3"
  },
  "language_info": {
   "codemirror_mode": {
    "name": "ipython",
    "version": 3
   },
   "file_extension": ".py",
   "mimetype": "text/x-python",
   "name": "python",
   "nbconvert_exporter": "python",
   "pygments_lexer": "ipython3",
   "version": "3.6.5"
  }
 },
 "nbformat": 4,
 "nbformat_minor": 2
}
