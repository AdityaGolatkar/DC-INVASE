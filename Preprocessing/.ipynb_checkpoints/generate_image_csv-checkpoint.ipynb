{
 "cells": [
  {
   "cell_type": "code",
   "execution_count": 1,
   "metadata": {},
   "outputs": [],
   "source": [
    "import os\n",
    "import pandas as pd\n",
    "import numpy as np\n",
    "import tqdm\n",
    "from tqdm import tqdm"
   ]
  },
  {
   "cell_type": "code",
   "execution_count": 2,
   "metadata": {},
   "outputs": [],
   "source": [
    "path = '../Data/CBIS-DDSM_classification_orient/'"
   ]
  },
  {
   "cell_type": "code",
   "execution_count": 5,
   "metadata": {},
   "outputs": [],
   "source": [
    "calc_train_path = '../CSV/calc_case_description_train_set.csv'\n",
    "calc_test_path = '../CSV/calc_case_description_test_set.csv'\n",
    "mass_train_path = '../CSV/mass_case_description_train_set.csv'\n",
    "mass_test_path = '../CSV/mass_case_description_test_set.csv'"
   ]
  },
  {
   "cell_type": "code",
   "execution_count": 6,
   "metadata": {},
   "outputs": [],
   "source": [
    "calc_train = pd.read_csv(calc_train_path)\n",
    "calc_test = pd.read_csv(calc_test_path)\n",
    "mass_train = pd.read_csv(mass_train_path)\n",
    "mass_test = pd.read_csv(mass_test_path)"
   ]
  },
  {
   "cell_type": "code",
   "execution_count": 7,
   "metadata": {},
   "outputs": [],
   "source": [
    "def get_csv(name):\n",
    "    if name[:4] == 'Calc':\n",
    "        if name[-1] == 't':\n",
    "            return calc_test\n",
    "        else:\n",
    "            return calc_train\n",
    "    else:\n",
    "        if name[-1] == 't':\n",
    "            return mass_test\n",
    "        else:\n",
    "            return mass_train"
   ]
  },
  {
   "cell_type": "code",
   "execution_count": 8,
   "metadata": {},
   "outputs": [],
   "source": [
    "def get_class(csv_file,identity):\n",
    "    sub_csv = csv_file.loc[csv_file['patient_id'] == 'P_'+str(identity)]\n",
    "    category = sub_csv.iloc[0]['pathology']\n",
    "    if category == 'MALIGNANT':\n",
    "        return 1\n",
    "    else:\n",
    "        return 0"
   ]
  },
  {
   "cell_type": "code",
   "execution_count": 10,
   "metadata": {},
   "outputs": [
    {
     "name": "stderr",
     "output_type": "stream",
     "text": [
      "100%|██████████| 3103/3103 [00:01<00:00, 2042.87it/s]\n"
     ]
    }
   ],
   "source": [
    "training_list = []\n",
    "testing_list = []\n",
    "\n",
    "image_list = os.listdir(path)\n",
    "for i in tqdm(range(len(image_list))):\n",
    "    \n",
    "    #import pdb;pdb.set_trace()\n",
    "    image_file = image_list[i]\n",
    "    \n",
    "    if '@' in image_file:\n",
    "        continue\n",
    "    \n",
    "    splitted_name = image_file.split('_')\n",
    "    csv_file = get_csv(splitted_name[0])\n",
    "    category = get_class(csv_file,splitted_name[2])\n",
    "    \n",
    "    if splitted_name[0][-1] == 't':\n",
    "        testing_list.append([image_file,int(category)])\n",
    "    else:\n",
    "        training_list.append([image_file,int(category)])"
   ]
  },
  {
   "cell_type": "code",
   "execution_count": 11,
   "metadata": {},
   "outputs": [],
   "source": [
    "df_train = pd.DataFrame(training_list,columns=['name','category'])\n",
    "df_test = pd.DataFrame(testing_list,columns=['name','category'])\n",
    "\n",
    "df_train.to_csv('../CSV/weak_train.csv',index=False)\n",
    "df_test.to_csv('../CSV/weak_test.csv',index=False)\n",
    "\n",
    "df_train = pd.read_csv('../CSV/weak_train.csv')\n",
    "df_test = pd.read_csv('../CSV/weak_test.csv')\n",
    "\n",
    "train_zero = df_train.loc[df_train['category'] == 0]\n",
    "\n",
    "train_ones = df_train.loc[df_train['category'] == 1]"
   ]
  },
  {
   "cell_type": "code",
   "execution_count": 12,
   "metadata": {},
   "outputs": [
    {
     "data": {
      "text/plain": [
       "1359"
      ]
     },
     "execution_count": 12,
     "metadata": {},
     "output_type": "execute_result"
    }
   ],
   "source": [
    "len(train_zero)"
   ]
  },
  {
   "cell_type": "code",
   "execution_count": 13,
   "metadata": {},
   "outputs": [
    {
     "data": {
      "text/plain": [
       "1099"
      ]
     },
     "execution_count": 13,
     "metadata": {},
     "output_type": "execute_result"
    }
   ],
   "source": [
    "len(train_ones)"
   ]
  },
  {
   "cell_type": "code",
   "execution_count": 14,
   "metadata": {},
   "outputs": [],
   "source": [
    "valid_zero = train_zero.iloc[900:]"
   ]
  },
  {
   "cell_type": "code",
   "execution_count": 15,
   "metadata": {},
   "outputs": [
    {
     "data": {
      "text/plain": [
       "459"
      ]
     },
     "execution_count": 15,
     "metadata": {},
     "output_type": "execute_result"
    }
   ],
   "source": [
    "len(valid_zero)"
   ]
  },
  {
   "cell_type": "code",
   "execution_count": 16,
   "metadata": {},
   "outputs": [],
   "source": [
    "valid_ones = train_ones.iloc[900:]"
   ]
  },
  {
   "cell_type": "code",
   "execution_count": 17,
   "metadata": {},
   "outputs": [
    {
     "data": {
      "text/plain": [
       "199"
      ]
     },
     "execution_count": 17,
     "metadata": {},
     "output_type": "execute_result"
    }
   ],
   "source": [
    "len(valid_ones)"
   ]
  },
  {
   "cell_type": "code",
   "execution_count": 18,
   "metadata": {},
   "outputs": [],
   "source": [
    "train_zero = train_zero.iloc[0:900]"
   ]
  },
  {
   "cell_type": "code",
   "execution_count": 19,
   "metadata": {},
   "outputs": [],
   "source": [
    "train_ones = train_ones.iloc[0:900]"
   ]
  },
  {
   "cell_type": "code",
   "execution_count": 20,
   "metadata": {},
   "outputs": [],
   "source": [
    "train = pd.concat([train_zero,train_ones])"
   ]
  },
  {
   "cell_type": "code",
   "execution_count": 21,
   "metadata": {},
   "outputs": [],
   "source": [
    "valid = pd.concat([valid_zero,valid_ones])"
   ]
  },
  {
   "cell_type": "code",
   "execution_count": 22,
   "metadata": {},
   "outputs": [
    {
     "data": {
      "text/plain": [
       "1800"
      ]
     },
     "execution_count": 22,
     "metadata": {},
     "output_type": "execute_result"
    }
   ],
   "source": [
    "len(train)"
   ]
  },
  {
   "cell_type": "code",
   "execution_count": 23,
   "metadata": {},
   "outputs": [
    {
     "data": {
      "text/plain": [
       "658"
      ]
     },
     "execution_count": 23,
     "metadata": {},
     "output_type": "execute_result"
    }
   ],
   "source": [
    "len(valid)"
   ]
  },
  {
   "cell_type": "code",
   "execution_count": 24,
   "metadata": {},
   "outputs": [],
   "source": [
    "train.to_csv('../CSV/weak_train.csv',index=False)\n",
    "valid.to_csv('../CSV/weak_valid.csv',index=False)"
   ]
  },
  {
   "cell_type": "code",
   "execution_count": 51,
   "metadata": {},
   "outputs": [],
   "source": [
    "df_train = pd.DataFrame(training_list,columns=['name','category'])\n",
    "df_test = pd.DataFrame(testing_list,columns=['name','category'])"
   ]
  },
  {
   "cell_type": "code",
   "execution_count": 52,
   "metadata": {},
   "outputs": [],
   "source": [
    "df_train.to_csv('../../CSV/gain_train.csv',index=False)\n",
    "df_test.to_csv('../../CSV/gain_test.csv',index=False)"
   ]
  },
  {
   "cell_type": "code",
   "execution_count": 53,
   "metadata": {},
   "outputs": [],
   "source": [
    "df_train = pd.read_csv('../../CSV/gain_train.csv')\n",
    "df_test = pd.read_csv('../../CSV/gain_test.csv')"
   ]
  },
  {
   "cell_type": "code",
   "execution_count": 54,
   "metadata": {},
   "outputs": [],
   "source": [
    "val_size = int(len(df_train)*0.2)"
   ]
  },
  {
   "cell_type": "code",
   "execution_count": 55,
   "metadata": {},
   "outputs": [],
   "source": [
    "shuffled_list = np.arange(len(df_train))\n",
    "np.random.shuffle(shuffled_list)"
   ]
  },
  {
   "cell_type": "code",
   "execution_count": 56,
   "metadata": {},
   "outputs": [],
   "source": [
    "np.save('shuffled_list.npy',shuffled_list)"
   ]
  },
  {
   "cell_type": "code",
   "execution_count": 57,
   "metadata": {},
   "outputs": [
    {
     "data": {
      "text/plain": [
       "0.19975589910496339"
      ]
     },
     "execution_count": 57,
     "metadata": {},
     "output_type": "execute_result"
    }
   ],
   "source": [
    "val_size/len(df_train)"
   ]
  },
  {
   "cell_type": "code",
   "execution_count": 58,
   "metadata": {},
   "outputs": [],
   "source": [
    "final_training_list = []\n",
    "final_validation_list = []\n",
    "v = 0\n",
    "t = 0\n",
    "\n",
    "for i in range(len(df_train)):\n",
    "    ind = shuffled_list[i]\n",
    "    if i < val_size:\n",
    "        v+=1\n",
    "        final_validation_list.append([df_train.iloc[ind]['name'],int(df_train.iloc[ind]['category'])])\n",
    "    else:\n",
    "        t+=1\n",
    "        final_training_list.append([df_train.iloc[ind]['name'],int(df_train.iloc[ind]['category'])\n",
    "\n",
    "df_train_1 = pd.DataFrame(final_training_list,columns=['name','category'])\n",
    "df_valid = pd.DataFrame(final_validation_list,columns=['name','category'])\n",
    "\n",
    "df_train_1.to_csv('../../CSV/gain_train.csv',index=False)\n",
    "df_valid.to_csv('../../CSV/gain_valid.csv',index=False)\n",
    "        \n",
    "    \n",
    "    "
   ]
  },
  {
   "cell_type": "code",
   "execution_count": 59,
   "metadata": {
    "scrolled": true
   },
   "outputs": [
    {
     "data": {
      "text/plain": [
       "0.2496187086934418"
      ]
     },
     "execution_count": 59,
     "metadata": {},
     "output_type": "execute_result"
    }
   ],
   "source": [
    "v/t"
   ]
  },
  {
   "cell_type": "code",
   "execution_count": 60,
   "metadata": {},
   "outputs": [
    {
     "data": {
      "text/plain": [
       "0.2496187086934418"
      ]
     },
     "execution_count": 60,
     "metadata": {},
     "output_type": "execute_result"
    }
   ],
   "source": [
    "len(final_validation_list)/len(final_training_list)"
   ]
  },
  {
   "cell_type": "code",
   "execution_count": 61,
   "metadata": {},
   "outputs": [
    {
     "data": {
      "text/plain": [
       "491"
      ]
     },
     "execution_count": 61,
     "metadata": {},
     "output_type": "execute_result"
    }
   ],
   "source": [
    "len(final_validation_list)"
   ]
  },
  {
   "cell_type": "code",
   "execution_count": 62,
   "metadata": {},
   "outputs": [
    {
     "data": {
      "text/plain": [
       "0.19975589910496339"
      ]
     },
     "execution_count": 62,
     "metadata": {},
     "output_type": "execute_result"
    }
   ],
   "source": [
    "val_size/len(df_train)"
   ]
  },
  {
   "cell_type": "code",
   "execution_count": 63,
   "metadata": {},
   "outputs": [],
   "source": [
    "df_train_1 = pd.read_csv('../../CSV/gain_train.csv')\n",
    "df_valid = pd.read_csv('../../CSV/gain_valid.csv')"
   ]
  },
  {
   "cell_type": "code",
   "execution_count": 64,
   "metadata": {},
   "outputs": [
    {
     "data": {
      "text/plain": [
       "0.2496187086934418"
      ]
     },
     "execution_count": 64,
     "metadata": {},
     "output_type": "execute_result"
    }
   ],
   "source": [
    "len(df_valid)/len(df_train_1)"
   ]
  }
 ],
 "metadata": {
  "kernelspec": {
   "display_name": "Python 3",
   "language": "python",
   "name": "python3"
  },
  "language_info": {
   "codemirror_mode": {
    "name": "ipython",
    "version": 3
   },
   "file_extension": ".py",
   "mimetype": "text/x-python",
   "name": "python",
   "nbconvert_exporter": "python",
   "pygments_lexer": "ipython3",
   "version": "3.6.5"
  }
 },
 "nbformat": 4,
 "nbformat_minor": 2
}
