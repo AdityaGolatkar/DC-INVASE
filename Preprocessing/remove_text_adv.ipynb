{
 "cells": [
  {
   "cell_type": "code",
   "execution_count": 1,
   "metadata": {},
   "outputs": [],
   "source": [
    "import os\n",
    "import skimage\n",
    "import skimage.io as io\n",
    "import numpy as np\n",
    "import natsort\n",
    "from natsort import natsorted\n",
    "import shutil"
   ]
  },
  {
   "cell_type": "code",
   "execution_count": 3,
   "metadata": {},
   "outputs": [],
   "source": [
    "path = '../Data/CBIS-DDSM_ex/'\n",
    "write_path = '../Data/CBIS-DDSM_clean_adv/'"
   ]
  },
  {
   "cell_type": "code",
   "execution_count": 14,
   "metadata": {},
   "outputs": [],
   "source": [
    "def get_com_loc(img):\n",
    "    mid_point = img.shape[1]//2\n",
    "    pos_matrix_col = np.zeros(img.shape)\n",
    "    pos_matrix_row = np.zeros(img.shape)\n",
    "    \n",
    "    for i in range(img.shape[1]):\n",
    "        pos_matrix_col[:,i] = i+1\n",
    "    \n",
    "    for i in range(img.shape[0]):\n",
    "        pos_matrix_row[i:] = i+1\n",
    "\n",
    "    com_row = int(np.multiply(pos_matrix_row,img).sum()/img.sum())    \n",
    "    com_col = int(np.multiply(pos_matrix_col,img).sum()/img.sum())\n",
    "\n",
    "    if com_col < mid_point:\n",
    "        return \"left\",com_row,com_col\n",
    "    else:\n",
    "        return \"right\",com_row,com_col\n",
    "    "
   ]
  },
  {
   "cell_type": "code",
   "execution_count": 15,
   "metadata": {},
   "outputs": [],
   "source": [
    "def find_tangent(img,pos,com_row,com_col):\n",
    "    if pos == \"left\":\n",
    "        for i in range(com_col,img.shape[1]):\n",
    "            if img[com_row,i] == 0:\n",
    "                return i\n",
    "                break\n",
    "    else:\n",
    "        for i in range(com_col):\n",
    "            if img[com_row,com_col-i] == 0:\n",
    "                return com_col-i\n",
    "                break\n",
    "            "
   ]
  },
  {
   "cell_type": "code",
   "execution_count": 18,
   "metadata": {},
   "outputs": [],
   "source": [
    "def rectify_img(img,pos,i):\n",
    "    square_size = img.shape[1]//3\n",
    "    strip_thickness = img.shape[1]//5\n",
    "    \n",
    "    if pos == \"left\":\n",
    "        img[:square_size,-square_size:-1] = 0\n",
    "        img[:,-strip_thickness:-1] = 0\n",
    "        img[:,i+10:] = 0\n",
    "    else:\n",
    "        img[:square_size,:square_size] = 0\n",
    "        img[:,:strip_thickness] = 0\n",
    "        img[:,:i-10] = 0\n",
    "    \n",
    "    return img"
   ]
  },
  {
   "cell_type": "code",
   "execution_count": 17,
   "metadata": {},
   "outputs": [
    {
     "name": "stdout",
     "output_type": "stream",
     "text": [
      "0\n",
      "1\n",
      "2\n",
      "3\n",
      "4\n",
      "5\n",
      "6\n",
      "7\n",
      "8\n",
      "9\n",
      "10\n",
      "11\n",
      "12\n",
      "13\n",
      "14\n",
      "15\n",
      "16\n"
     ]
    },
    {
     "ename": "KeyboardInterrupt",
     "evalue": "",
     "output_type": "error",
     "traceback": [
      "\u001b[0;31m---------------------------------------------------------------------------\u001b[0m",
      "\u001b[0;31mKeyboardInterrupt\u001b[0m                         Traceback (most recent call last)",
      "\u001b[0;32m<ipython-input-17-a7d259e4ff29>\u001b[0m in \u001b[0;36m<module>\u001b[0;34m()\u001b[0m\n\u001b[1;32m      8\u001b[0m \u001b[0;34m\u001b[0m\u001b[0m\n\u001b[1;32m      9\u001b[0m     \u001b[0mimg\u001b[0m \u001b[0;34m=\u001b[0m \u001b[0mio\u001b[0m\u001b[0;34m.\u001b[0m\u001b[0mimread\u001b[0m\u001b[0;34m(\u001b[0m\u001b[0mos\u001b[0m\u001b[0;34m.\u001b[0m\u001b[0mpath\u001b[0m\u001b[0;34m.\u001b[0m\u001b[0mjoin\u001b[0m\u001b[0;34m(\u001b[0m\u001b[0mpath\u001b[0m\u001b[0;34m,\u001b[0m\u001b[0mfiles\u001b[0m\u001b[0;34m[\u001b[0m\u001b[0mi\u001b[0m\u001b[0;34m]\u001b[0m\u001b[0;34m)\u001b[0m\u001b[0;34m)\u001b[0m\u001b[0;34m\u001b[0m\u001b[0m\n\u001b[0;32m---> 10\u001b[0;31m     \u001b[0mposition\u001b[0m\u001b[0;34m,\u001b[0m\u001b[0mcom_row\u001b[0m\u001b[0;34m,\u001b[0m\u001b[0mcom_col\u001b[0m \u001b[0;34m=\u001b[0m \u001b[0mget_com_loc\u001b[0m\u001b[0;34m(\u001b[0m\u001b[0mimg\u001b[0m\u001b[0;34m)\u001b[0m\u001b[0;34m\u001b[0m\u001b[0m\n\u001b[0m\u001b[1;32m     11\u001b[0m     \u001b[0mtangent_i\u001b[0m \u001b[0;34m=\u001b[0m \u001b[0mfind_tangent\u001b[0m\u001b[0;34m(\u001b[0m\u001b[0mimg\u001b[0m\u001b[0;34m,\u001b[0m\u001b[0mposition\u001b[0m\u001b[0;34m,\u001b[0m\u001b[0mcom_row\u001b[0m\u001b[0;34m,\u001b[0m\u001b[0mcom_col\u001b[0m\u001b[0;34m)\u001b[0m\u001b[0;34m\u001b[0m\u001b[0m\n\u001b[1;32m     12\u001b[0m     \u001b[0mrectified_img\u001b[0m \u001b[0;34m=\u001b[0m \u001b[0mrectify_img\u001b[0m\u001b[0;34m(\u001b[0m\u001b[0mimg\u001b[0m\u001b[0;34m,\u001b[0m\u001b[0mposition\u001b[0m\u001b[0;34m,\u001b[0m\u001b[0mtangent_i\u001b[0m\u001b[0;34m)\u001b[0m\u001b[0;34m\u001b[0m\u001b[0m\n",
      "\u001b[0;32m<ipython-input-14-9bdca73c5257>\u001b[0m in \u001b[0;36mget_com_loc\u001b[0;34m(img)\u001b[0m\n\u001b[1;32m      8\u001b[0m \u001b[0;34m\u001b[0m\u001b[0m\n\u001b[1;32m      9\u001b[0m     \u001b[0;32mfor\u001b[0m \u001b[0mi\u001b[0m \u001b[0;32min\u001b[0m \u001b[0mrange\u001b[0m\u001b[0;34m(\u001b[0m\u001b[0mimg\u001b[0m\u001b[0;34m.\u001b[0m\u001b[0mshape\u001b[0m\u001b[0;34m[\u001b[0m\u001b[0;36m0\u001b[0m\u001b[0;34m]\u001b[0m\u001b[0;34m)\u001b[0m\u001b[0;34m:\u001b[0m\u001b[0;34m\u001b[0m\u001b[0m\n\u001b[0;32m---> 10\u001b[0;31m         \u001b[0mpos_matrix_row\u001b[0m\u001b[0;34m[\u001b[0m\u001b[0mi\u001b[0m\u001b[0;34m:\u001b[0m\u001b[0;34m]\u001b[0m \u001b[0;34m=\u001b[0m \u001b[0mi\u001b[0m\u001b[0;34m+\u001b[0m\u001b[0;36m1\u001b[0m\u001b[0;34m\u001b[0m\u001b[0m\n\u001b[0m\u001b[1;32m     11\u001b[0m \u001b[0;34m\u001b[0m\u001b[0m\n\u001b[1;32m     12\u001b[0m     \u001b[0mcom_row\u001b[0m \u001b[0;34m=\u001b[0m \u001b[0mint\u001b[0m\u001b[0;34m(\u001b[0m\u001b[0mnp\u001b[0m\u001b[0;34m.\u001b[0m\u001b[0mmultiply\u001b[0m\u001b[0;34m(\u001b[0m\u001b[0mpos_matrix_row\u001b[0m\u001b[0;34m,\u001b[0m\u001b[0mimg\u001b[0m\u001b[0;34m)\u001b[0m\u001b[0;34m.\u001b[0m\u001b[0msum\u001b[0m\u001b[0;34m(\u001b[0m\u001b[0;34m)\u001b[0m\u001b[0;34m/\u001b[0m\u001b[0mimg\u001b[0m\u001b[0;34m.\u001b[0m\u001b[0msum\u001b[0m\u001b[0;34m(\u001b[0m\u001b[0;34m)\u001b[0m\u001b[0;34m)\u001b[0m\u001b[0;34m\u001b[0m\u001b[0m\n",
      "\u001b[0;31mKeyboardInterrupt\u001b[0m: "
     ]
    }
   ],
   "source": [
    "files = natsorted(os.listdir(path))\n",
    "for i in range(len(files)):\n",
    "    print(i)\n",
    "    \n",
    "    if \"@\" in files[i]:\n",
    "        shutil.copy(os.path.join(path,files[i]),os.path.join(write_path,files[i]))\n",
    "        continue\n",
    "        \n",
    "    img = io.imread(os.path.join(path,files[i]))\n",
    "    position,com_row,com_col = get_com_loc(img)\n",
    "    tangent_i = find_tangent(img,position,com_row,com_col)\n",
    "    rectified_img = rectify_img(img,position,tangent_i)\n",
    "    io.imsave(os.path.join(write_path,files[i]),rectified_img)\n",
    "    "
   ]
  }
 ],
 "metadata": {
  "kernelspec": {
   "display_name": "Python 3",
   "language": "python",
   "name": "python3"
  },
  "language_info": {
   "codemirror_mode": {
    "name": "ipython",
    "version": 3
   },
   "file_extension": ".py",
   "mimetype": "text/x-python",
   "name": "python",
   "nbconvert_exporter": "python",
   "pygments_lexer": "ipython3",
   "version": "3.6.4"
  }
 },
 "nbformat": 4,
 "nbformat_minor": 2
}
