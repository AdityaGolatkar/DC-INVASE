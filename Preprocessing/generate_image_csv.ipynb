{
 "cells": [
  {
   "cell_type": "code",
   "execution_count": 1,
   "metadata": {},
   "outputs": [],
   "source": [
    "import os\n",
    "import pandas as pd\n",
    "import numpy as np\n",
    "import tqdm\n",
    "from tqdm import tqdm\n",
    "import natsort\n",
    "from natsort import natsorted"
   ]
  },
  {
   "cell_type": "code",
   "execution_count": 2,
   "metadata": {},
   "outputs": [],
   "source": [
    "path = '../../Data/CBIS-DDSM_clean_1/'"
   ]
  },
  {
   "cell_type": "code",
   "execution_count": 3,
   "metadata": {},
   "outputs": [],
   "source": [
    "calc_train_path = '../../CSV/calc_case_description_train_set.csv'\n",
    "calc_test_path = '../../CSV/calc_case_description_test_set.csv'\n",
    "mass_train_path = '../../CSV/mass_case_description_train_set.csv'\n",
    "mass_test_path = '../../CSV/mass_case_description_test_set.csv'"
   ]
  },
  {
   "cell_type": "code",
   "execution_count": 4,
   "metadata": {},
   "outputs": [],
   "source": [
    "calc_train = pd.read_csv(calc_train_path)\n",
    "calc_test = pd.read_csv(calc_test_path)\n",
    "mass_train = pd.read_csv(mass_train_path)\n",
    "mass_test = pd.read_csv(mass_test_path)"
   ]
  },
  {
   "cell_type": "code",
   "execution_count": 5,
   "metadata": {},
   "outputs": [],
   "source": [
    "def get_csv(name):\n",
    "    if name[:4] == 'Calc':\n",
    "        if name[-1] == 't':\n",
    "            return calc_test\n",
    "        else:\n",
    "            return calc_train\n",
    "    else:\n",
    "        if name[-1] == 't':\n",
    "            return mass_test\n",
    "        else:\n",
    "            return mass_train"
   ]
  },
  {
   "cell_type": "code",
   "execution_count": 6,
   "metadata": {},
   "outputs": [],
   "source": [
    "def get_class(csv_file,identity):\n",
    "    sub_csv = csv_file.loc[csv_file['patient_id'] == 'P_'+str(identity)]\n",
    "    category = sub_csv.iloc[0]['pathology']\n",
    "    if category == 'MALIGNANT':\n",
    "        return 1\n",
    "    else:\n",
    "        return 0"
   ]
  },
  {
   "cell_type": "code",
   "execution_count": 50,
   "metadata": {},
   "outputs": [
    {
     "name": "stderr",
     "output_type": "stream",
     "text": [
      "100%|██████████| 10160/10160 [00:02<00:00, 4441.69it/s]\n"
     ]
    }
   ],
   "source": [
    "training_list = []\n",
    "testing_list = []\n",
    "\n",
    "image_list = natsorted(os.listdir(path))\n",
    "for i in tqdm(range(len(image_list))):\n",
    "    \n",
    "    #import pdb;pdb.set_trace()\n",
    "    image_file = image_list[i]\n",
    "    \n",
    "    if '@' in image_file:\n",
    "        continue\n",
    "    \n",
    "    splitted_name = image_file.split('_')\n",
    "    csv_file = get_csv(splitted_name[0])\n",
    "    category = get_class(csv_file,splitted_name[2])\n",
    "    \n",
    "    if splitted_name[0][-1] == 't':\n",
    "        testing_list.append([image_file,int(category)])\n",
    "    else:\n",
    "        training_list.append([image_file,int(category)])"
   ]
  },
  {
   "cell_type": "code",
   "execution_count": 51,
   "metadata": {},
   "outputs": [],
   "source": [
    "df_train = pd.DataFrame(training_list,columns=['name','category'])\n",
    "df_test = pd.DataFrame(testing_list,columns=['name','category'])"
   ]
  },
  {
   "cell_type": "code",
   "execution_count": 52,
   "metadata": {},
   "outputs": [],
   "source": [
    "df_train.to_csv('../../CSV/gain_train.csv',index=False)\n",
    "df_test.to_csv('../../CSV/gain_test.csv',index=False)"
   ]
  },
  {
   "cell_type": "code",
   "execution_count": 53,
   "metadata": {},
   "outputs": [],
   "source": [
    "df_train = pd.read_csv('../../CSV/gain_train.csv')\n",
    "df_test = pd.read_csv('../../CSV/gain_test.csv')"
   ]
  },
  {
   "cell_type": "code",
   "execution_count": 54,
   "metadata": {},
   "outputs": [],
   "source": [
    "val_size = int(len(df_train)*0.2)"
   ]
  },
  {
   "cell_type": "code",
   "execution_count": 55,
   "metadata": {},
   "outputs": [],
   "source": [
    "shuffled_list = np.arange(len(df_train))\n",
    "np.random.shuffle(shuffled_list)"
   ]
  },
  {
   "cell_type": "code",
   "execution_count": 56,
   "metadata": {},
   "outputs": [],
   "source": [
    "np.save('shuffled_list.npy',shuffled_list)"
   ]
  },
  {
   "cell_type": "code",
   "execution_count": 57,
   "metadata": {},
   "outputs": [
    {
     "data": {
      "text/plain": [
       "0.19975589910496339"
      ]
     },
     "execution_count": 57,
     "metadata": {},
     "output_type": "execute_result"
    }
   ],
   "source": [
    "val_size/len(df_train)"
   ]
  },
  {
   "cell_type": "code",
   "execution_count": 58,
   "metadata": {},
   "outputs": [],
   "source": [
    "final_training_list = []\n",
    "final_validation_list = []\n",
    "v = 0\n",
    "t = 0\n",
    "\n",
    "for i in range(len(df_train)):\n",
    "    ind = shuffled_list[i]\n",
    "    if i < val_size:\n",
    "        v+=1\n",
    "        final_validation_list.append([df_train.iloc[ind]['name'],int(df_train.iloc[ind]['category'])])\n",
    "    else:\n",
    "        t+=1\n",
    "        final_training_list.append([df_train.iloc[ind]['name'],int(df_train.iloc[ind]['category'])\n",
    "\n",
    "df_train_1 = pd.DataFrame(final_training_list,columns=['name','category'])\n",
    "df_valid = pd.DataFrame(final_validation_list,columns=['name','category'])\n",
    "\n",
    "df_train_1.to_csv('../../CSV/gain_train.csv',index=False)\n",
    "df_valid.to_csv('../../CSV/gain_valid.csv',index=False)\n",
    "        \n",
    "    \n",
    "    "
   ]
  },
  {
   "cell_type": "code",
   "execution_count": 59,
   "metadata": {},
   "outputs": [
    {
     "data": {
      "text/plain": [
       "0.2496187086934418"
      ]
     },
     "execution_count": 59,
     "metadata": {},
     "output_type": "execute_result"
    }
   ],
   "source": [
    "v/t"
   ]
  },
  {
   "cell_type": "code",
   "execution_count": 60,
   "metadata": {},
   "outputs": [
    {
     "data": {
      "text/plain": [
       "0.2496187086934418"
      ]
     },
     "execution_count": 60,
     "metadata": {},
     "output_type": "execute_result"
    }
   ],
   "source": [
    "len(final_validation_list)/len(final_training_list)"
   ]
  },
  {
   "cell_type": "code",
   "execution_count": 61,
   "metadata": {},
   "outputs": [
    {
     "data": {
      "text/plain": [
       "491"
      ]
     },
     "execution_count": 61,
     "metadata": {},
     "output_type": "execute_result"
    }
   ],
   "source": [
    "len(final_validation_list)"
   ]
  },
  {
   "cell_type": "code",
   "execution_count": 62,
   "metadata": {},
   "outputs": [
    {
     "data": {
      "text/plain": [
       "0.19975589910496339"
      ]
     },
     "execution_count": 62,
     "metadata": {},
     "output_type": "execute_result"
    }
   ],
   "source": [
    "val_size/len(df_train)"
   ]
  },
  {
   "cell_type": "code",
   "execution_count": 63,
   "metadata": {},
   "outputs": [],
   "source": [
    "df_train_1 = pd.read_csv('../../CSV/gain_train.csv')\n",
    "df_valid = pd.read_csv('../../CSV/gain_valid.csv')"
   ]
  },
  {
   "cell_type": "code",
   "execution_count": 64,
   "metadata": {},
   "outputs": [
    {
     "data": {
      "text/plain": [
       "0.2496187086934418"
      ]
     },
     "execution_count": 64,
     "metadata": {},
     "output_type": "execute_result"
    }
   ],
   "source": [
    "len(df_valid)/len(df_train_1)"
   ]
  }
 ],
 "metadata": {
  "kernelspec": {
   "display_name": "Python 3",
   "language": "python",
   "name": "python3"
  },
  "language_info": {
   "codemirror_mode": {
    "name": "ipython",
    "version": 3
   },
   "file_extension": ".py",
   "mimetype": "text/x-python",
   "name": "python",
   "nbconvert_exporter": "python",
   "pygments_lexer": "ipython3",
   "version": "3.6.5"
  }
 },
 "nbformat": 4,
 "nbformat_minor": 2
}
