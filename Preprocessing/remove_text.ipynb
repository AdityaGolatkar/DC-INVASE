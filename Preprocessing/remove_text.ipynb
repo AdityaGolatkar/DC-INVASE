{
 "cells": [
  {
   "cell_type": "code",
   "execution_count": 2,
   "metadata": {},
   "outputs": [],
   "source": [
    "import os\n",
    "import skimage\n",
    "import skimage.io as io\n",
    "import numpy as np\n",
    "import natsort\n",
    "from natsort import natsorted\n",
    "import shutil"
   ]
  },
  {
   "cell_type": "code",
   "execution_count": 4,
   "metadata": {},
   "outputs": [],
   "source": [
    "path = '../../Data/CBIS-DDSM_ex_1/'\n",
    "write_path = '../../Data/CBIS-DDSM_clean_1/'\n",
    "os.mkdir(write_path)"
   ]
  },
  {
   "cell_type": "code",
   "execution_count": 5,
   "metadata": {},
   "outputs": [],
   "source": [
    "def get_com_loc(img):\n",
    "    mid_point = img.shape[1]//2\n",
    "    pos_matrix = np.zeros(img.shape)\n",
    "    for i in range(img.shape[1]):\n",
    "        pos_matrix[:,i] = i+1\n",
    "    com = np.multiply(pos_matrix,img).sum()/img.sum()\n",
    "\n",
    "    if com < mid_point:\n",
    "        return \"left\"\n",
    "    else:\n",
    "        return \"right\"\n",
    "    "
   ]
  },
  {
   "cell_type": "code",
   "execution_count": 6,
   "metadata": {},
   "outputs": [],
   "source": [
    "def rectify_img(img,pos):\n",
    "    square_size = img.shape[1]//3\n",
    "    strip_thickness = img.shape[1]//10\n",
    "    \n",
    "    if pos == \"left\":\n",
    "        img[:square_size,-square_size:-1] = 0\n",
    "        img[:,-strip_thickness:-1] = 0\n",
    "    else:\n",
    "        img[:square_size,:square_size] = 0\n",
    "        img[:,:strip_thickness] = 0\n",
    "    \n",
    "    return img"
   ]
  },
  {
   "cell_type": "code",
   "execution_count": 7,
   "metadata": {},
   "outputs": [],
   "source": [
    "files = natsorted(os.listdir(path))\n",
    "for i in range(len(files)):\n",
    "    \n",
    "    if \"@\" in files[i]:\n",
    "        shutil.copy(os.path.join(path,files[i]),os.path.join(write_path,files[i]))\n",
    "        continue\n",
    "        \n",
    "    img = io.imread(os.path.join(path,files[i]))\n",
    "    position = get_com_loc(img)\n",
    "    rectified_img = rectify_img(img,position)\n",
    "    io.imsave(os.path.join(write_path,files[i]),rectified_img)\n",
    "    "
   ]
  }
 ],
 "metadata": {
  "kernelspec": {
   "display_name": "Python 3",
   "language": "python",
   "name": "python3"
  },
  "language_info": {
   "codemirror_mode": {
    "name": "ipython",
    "version": 3
   },
   "file_extension": ".py",
   "mimetype": "text/x-python",
   "name": "python",
   "nbconvert_exporter": "python",
   "pygments_lexer": "ipython3",
   "version": "3.6.4"
  }
 },
 "nbformat": 4,
 "nbformat_minor": 2
}
