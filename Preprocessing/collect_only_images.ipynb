{
 "cells": [
  {
   "cell_type": "code",
   "execution_count": 18,
   "metadata": {},
   "outputs": [],
   "source": [
    "import shutil\n",
    "import os\n",
    "import cv2\n",
    "import numpy as np\n",
    "import matplotlib.pyplot as plt"
   ]
  },
  {
   "cell_type": "code",
   "execution_count": 11,
   "metadata": {},
   "outputs": [
    {
     "ename": "FileExistsError",
     "evalue": "[Errno 17] File exists: '../../Data/CBIS-DDSM_classification_1'",
     "output_type": "error",
     "traceback": [
      "\u001b[0;31m---------------------------------------------------------------------------\u001b[0m",
      "\u001b[0;31mFileExistsError\u001b[0m                           Traceback (most recent call last)",
      "\u001b[0;32m<ipython-input-11-b3c6877047f8>\u001b[0m in \u001b[0;36m<module>\u001b[0;34m()\u001b[0m\n\u001b[0;32m----> 1\u001b[0;31m \u001b[0mos\u001b[0m\u001b[0;34m.\u001b[0m\u001b[0mmkdir\u001b[0m\u001b[0;34m(\u001b[0m\u001b[0;34m'../../Data/CBIS-DDSM_classification_1'\u001b[0m\u001b[0;34m)\u001b[0m\u001b[0;34m\u001b[0m\u001b[0m\n\u001b[0m",
      "\u001b[0;31mFileExistsError\u001b[0m: [Errno 17] File exists: '../../Data/CBIS-DDSM_classification_1'"
     ]
    }
   ],
   "source": [
    "os.mkdir('../../Data/CBIS-DDSM_classification_1')"
   ]
  },
  {
   "cell_type": "code",
   "execution_count": 14,
   "metadata": {},
   "outputs": [],
   "source": [
    "path = '../../Data/CBIS-DDSM_clean_1/'"
   ]
  },
  {
   "cell_type": "code",
   "execution_count": 24,
   "metadata": {},
   "outputs": [],
   "source": [
    "for file in sorted(os.listdir(path)):\n",
    "    if '@' in file:\n",
    "        continue\n",
    "    else:\n",
    "        gimg = cv2.imread(os.path.join(path,file),0)\n",
    "        \n",
    "        c1 = cv2.createCLAHE(clipLimit=2.0, tileGridSize=(8,8))\n",
    "        cl1 = c1.apply(gimg)\n",
    "        \n",
    "        c2 = cv2.createCLAHE(clipLimit=4.0, tileGridSize=(4,4))\n",
    "        cl2 = c2.apply(gimg)\n",
    "        \n",
    "        c3 = cv2.createCLAHE(clipLimit=8.0, tileGridSize=(2,2))\n",
    "        cl3 = c3.apply(gimg)\n",
    "        \n",
    "        clahe_image = np.zeros((gimg.shape[0],gimg.shape[1],3))\n",
    "        \n",
    "        clahe_image[:,:,0] = cl1\n",
    "        clahe_image[:,:,1] = cl2\n",
    "        clahe_image[:,:,2] = cl3\n",
    "        \n",
    "        #plt.imshow(clahe_image)\n",
    "        #import pdb\n",
    "        #pdb.set_trace()\n",
    "        cv2.imwrite(os.path.join(path,file).replace('clean','classification'),clahe_image)\n",
    "        \n",
    "        #shutil.copy(os.path.join(path,file),os.path.join(path,file).replace('clean','classification'))"
   ]
  }
 ],
 "metadata": {
  "kernelspec": {
   "display_name": "Python 3",
   "language": "python",
   "name": "python3"
  },
  "language_info": {
   "codemirror_mode": {
    "name": "ipython",
    "version": 3
   },
   "file_extension": ".py",
   "mimetype": "text/x-python",
   "name": "python",
   "nbconvert_exporter": "python",
   "pygments_lexer": "ipython3",
   "version": "3.6.4"
  }
 },
 "nbformat": 4,
 "nbformat_minor": 2
}
