{
 "cells": [
  {
   "cell_type": "code",
   "execution_count": 122,
   "metadata": {},
   "outputs": [],
   "source": [
    "#Pytorch\n",
    "import torch\n",
    "import torch.nn.functional as F\n",
    "import torch.nn as nn\n",
    "import torch.optim as optim\n",
    "from torch.optim import lr_scheduler\n",
    "\n",
    "#Torchvision\n",
    "import torchvision\n",
    "from torchvision import datasets, models, transforms, utils\n",
    "from torch.utils.data import Dataset, DataLoader\n",
    "\n",
    "#Image Processing\n",
    "import matplotlib.pyplot as plt\n",
    "from skimage import io, transform, color\n",
    "import PIL\n",
    "from PIL import Image\n",
    "import augmentations\n",
    "from augmentations import *\n",
    "\n",
    "#Others\n",
    "import sklearn.metrics\n",
    "from sklearn.metrics import *\n",
    "import numpy as np\n",
    "import pandas as pd\n",
    "import cv2\n",
    "import time\n",
    "import os\n",
    "import copy\n",
    "from model_summary import *\n",
    "import pretrainedmodels\n",
    "import tqdm\n",
    "from tqdm import tqdm_notebook as tqdm\n",
    "import warnings\n",
    "warnings.filterwarnings(\"ignore\")\n",
    "\n",
    "import dataloaders\n",
    "from dataloaders import *\n",
    "\n",
    "'''Dataloader'''\n",
    "class dataset(Dataset):\n",
    "\n",
    "    def __init__(self, csv_file, root_dir, transform=None):\n",
    "\n",
    "        self.data_frame = pd.read_csv(csv_file)\n",
    "        self.root_dir = root_dir\n",
    "        self.transform = transform\n",
    "        self.mask_dir = self.root_dir.replace('images','masks')\n",
    "        \n",
    "    def __len__(self):\n",
    "        return len(self.data_frame)\n",
    "\n",
    "    def __getitem__(self, idx):\n",
    "        img_name = os.path.join(self.root_dir,self.data_frame.iloc[idx]['name'])\n",
    "        image = Image.open(img_name)\n",
    "        \n",
    "        mask_name = os.path.join(self.mask_dir,self.data_frame.iloc[idx]['name'])\n",
    "        mask = io.imread(mask_name)\n",
    "        mask = np.array([mask,mask,mask]).transpose((1,2,0))\n",
    "        mask = Image.fromarray(mask)\n",
    "\n",
    "        label = self.data_frame.iloc[idx]['category']       \n",
    "\n",
    "        if self.transform:\n",
    "            image,mask = self.transform(image,mask)\n",
    "        \n",
    "        mask_final = mask[0,:,:]\n",
    "        mask_final[mask_final<0.5] = 0\n",
    "        mask_final[mask_final>0.5] = 1\n",
    "        \n",
    "        return {'image':image, 'category':label, 'mask':mask_final, 'name':self.data_frame.iloc[idx]['name']}\n",
    "    \n",
    "def get_dataloader(data_dir, train_csv_path, image_size, img_mean, img_std, batch_size=1):\n",
    "\n",
    "    data_transforms = {\n",
    "        'train': Compose([\n",
    "            Resize(image_size),\n",
    "            RandomHorizontallyFlip(0.5),\n",
    "            #RandomVerticallyFlip(0.5),\n",
    "            RandomTranslate((0.2,0.2)),\n",
    "            RandomRotate(15),\n",
    "            ToTensor(),\n",
    "            Normalize(img_mean,img_std)\n",
    "        ]),\n",
    "        'valid': Compose([\n",
    "            Resize(image_size),\n",
    "            ToTensor(),\n",
    "            Normalize(img_mean,img_std)\n",
    "        ]),\n",
    "        'test': Compose([\n",
    "            Resize(image_size),\n",
    "            ToTensor(),\n",
    "            Normalize(img_mean,img_std)        \n",
    "        ])\n",
    "    }\n",
    "\n",
    "    image_datasets = {}\n",
    "    dataloaders = {}\n",
    "    dataset_sizes = {}\n",
    "\n",
    "    for x in ['train', 'valid', 'test']:\n",
    "        if x == 'train':\n",
    "            bs = batch_size\n",
    "            sh = True\n",
    "        elif x == 'valid':\n",
    "            bs = batch_size\n",
    "            sh = False\n",
    "        else:\n",
    "            bs = 1\n",
    "            sh = False\n",
    "        image_datasets[x] = dataset(train_csv_path.replace('train',x),root_dir=data_dir,transform=data_transforms[x])\n",
    "        dataloaders[x] = torch.utils.data.DataLoader(image_datasets[x], batch_size=bs,shuffle=sh, num_workers=8)    \n",
    "        dataset_sizes[x] = len(image_datasets[x])\n",
    "\n",
    "    device = torch.device(\"cuda:0\")\n",
    "\n",
    "    return dataloaders,dataset_sizes,image_datasets,device\n",
    "\n",
    "#Selector network\n",
    "\n",
    "#The selector output is 5x5x5. Each patch will have 5 anchor boxes\n",
    "\n",
    "def build_selector():\n",
    "\n",
    "    class mdl(nn.Module):\n",
    "        def __init__(self,base_model):\n",
    "            super().__init__()\n",
    "            self.base = base_model \n",
    "            self.l1 = nn.Conv2d(512,5,3,stride=1)\n",
    "        def forward(self, x):\n",
    "            x = self.base(x)\n",
    "            x = self.l1(x)   \n",
    "            return x\n",
    "\n",
    "    v = models.vgg16_bn(pretrained=True)\n",
    "    v1 = nn.Sequential(*list(v.children())[:-1])\n",
    "\n",
    "    #r = models.resnet101(pretrained=True)\n",
    "    #r1 = nn.Sequential(*list(r.children())[:-2])\n",
    "    \n",
    "    model = mdl(v1[-1])\n",
    "        \n",
    "    return model\n",
    "\n",
    "## Predictor-Discriminator-Baseline\n",
    "def build_baseline_predictor():\n",
    "\n",
    "    class mdl(nn.Module):\n",
    "        def __init__(self,base_model):\n",
    "            super().__init__()\n",
    "            self.base = base_model \n",
    "            self.gap = nn.AdaptiveAvgPool2d((1,1))\n",
    "            self.fc1 = nn.Linear(512,2)\n",
    "\n",
    "        def forward(self, x):\n",
    "            x_base = self.base(x)\n",
    "            x = self.gap(x_base)\n",
    "            x = x.view(x.size(0), -1)\n",
    "            x = self.fc1(x)\n",
    "            return x,x_base \n",
    "\n",
    "    v = models.vgg16_bn(pretrained=True)\n",
    "    v1 = nn.Sequential(*list(v.children())[:-1])\n",
    "\n",
    "    #r = models.resnet101(pretrained=True)\n",
    "    #r1 = nn.Sequential(*list(r.children())[:-2])\n",
    "    \n",
    "    model = mdl(v1[-1])\n",
    "    model.load_state_dict(torch.load('./Weights/grad_cam_vgg_16_oxford.pt'))\n",
    "        \n",
    "    return model\n",
    "\n",
    "def get_sample(target):\n",
    "\n",
    "    prob_vector = F.softmax(target.view(-1))\n",
    "    probs = prob_vector.data.cpu().numpy()\n",
    "    \n",
    "    probs = probs.astype('float64')\n",
    "    probs = probs/probs.sum()\n",
    "    \n",
    "    try:\n",
    "        prob_sample = np.random.multinomial(1,probs,1)\n",
    "    except:import pdb;pdb.set_trace()\n",
    "    return prob_sample.reshape(target.shape)\n",
    "\n",
    "def get_anchor_box(m_r,m_c,img_shape,patch_shape):\n",
    "    \n",
    "    r1 = max(0,m_r - patch_shape[0]//2)\n",
    "    r2 = min(img_shape[0],m_r + patch_shape[0]//2)\n",
    "    \n",
    "    c1 = max(0,m_c - patch_shape[1]//2)\n",
    "    c2 = min(img_shape[1],m_c + patch_shape[1]//2)\n",
    "    \n",
    "    if r1 == 0:\n",
    "        r2 = patch_shape[0]\n",
    "        \n",
    "    if r2 == img_shape[0]:\n",
    "        r1 = img_shape[0]-patch_shape[0]\n",
    "        \n",
    "    if c1 == 0:\n",
    "        c2 = patch_shape[1]\n",
    "        \n",
    "    if c2 == img_shape[1]:\n",
    "        c1 = img_shape[1]-patch_shape[1]\n",
    "        \n",
    "    if r2-r1 != patch_shape[0] and c2-c1 != patch_shape[1]:\n",
    "        import pdb;pdb.set_trace()\n",
    "    \n",
    "    return r1,r2,c1,c2\n",
    "\n",
    "def get_patch_center(inp,img_shape,width_scale=1):\n",
    "    \n",
    "    grid = inp\n",
    "    _,c,h,w = inp.shape\n",
    "    _,c_l,h_l,w_l = np.where(grid==1)\n",
    "    \n",
    "    c_l = c_l[0]\n",
    "    h_l = h_l[0]\n",
    "    w_l = w_l[0]\n",
    "    \n",
    "    patch_h = img_shape[0]//h\n",
    "    patch_w = img_shape[1]//(w*width_scale)\n",
    "    \n",
    "    patch_h_4 = patch_h//4\n",
    "    patch_w_4 = patch_w//4\n",
    "    \n",
    "    r1 = h_l*patch_h\n",
    "    r2 = (h_l+1)*patch_h\n",
    "    \n",
    "    c1 = c_l*patch_w\n",
    "    c2 = (c_l+1)*patch_w\n",
    "    \n",
    "    m_r = (r1+r2)//2\n",
    "    m_c = (c1+c2)//2\n",
    "    \n",
    "    if c_l == 1:\n",
    "        m_r = m_r - patch_h_4\n",
    "        m_c = m_c - patch_w_4\n",
    "        \n",
    "    elif c_l == 2:\n",
    "        m_r = m_r - patch_h_4\n",
    "        m_c = m_c + patch_w_4\n",
    "\n",
    "    elif c_l == 3:\n",
    "        m_r = m_r + patch_h_4\n",
    "        m_c = m_c + patch_w_4\n",
    "\n",
    "    elif c_l == 4:\n",
    "        m_r = m_r + patch_h_4\n",
    "        m_c = m_c - patch_w_4\n",
    "\n",
    "    m_r = int(m_r)\n",
    "    m_c = int(m_c)\n",
    "    \n",
    "    return m_r,m_c\n",
    "\n",
    "def intersection_metric(anchor,mask):\n",
    "    r1,r2,c1,c2 = anchor\n",
    "    #return mask[0,r1:r2,c1:c2].sum()/((r2-r1)*(c2-c1))\n",
    "    return mask[0,r1:r2,c1:c2].mean()\n",
    "    \n",
    "    \n",
    "## DC-INVASE class\n",
    "class dc_invase():\n",
    "    def __init__(self,epochs,input_shape,patch_shape):\n",
    "        \n",
    "        #Initialization\n",
    "        self.data_dir =  '../Data/oxford_pets/sparse_images/'\n",
    "        self.train_csv = '../CSV/oxford_pet_train.csv'\n",
    "        self.num_epochs = epochs\n",
    "        self.input_shape = input_shape\n",
    "        self.patch_shape = patch_shape\n",
    "        self.batch_size = 1\n",
    "        self.img_mean = [0.485, 0.456, 0.406]\n",
    "        self.img_std = [0.229, 0.224, 0.225]\n",
    "        \n",
    "        self.exp_name = './Weights/weak_sup_ox_1'\n",
    "        \n",
    "        #Define the four models\n",
    "        self.selector = build_selector()\n",
    "        self.baseline = build_baseline_predictor()\n",
    "        self.predictor = build_baseline_predictor()\n",
    "        \n",
    "        #Put them on the GPU\n",
    "        self.selector = self.selector.cuda()\n",
    "        self.baseline = self.baseline.cuda()\n",
    "        self.predictor = self.predictor.cuda()\n",
    "        \n",
    "        '''baseline in evaluate mode'''\n",
    "        self.baseline.eval()\n",
    "        \n",
    "        #Get the dataloaders\n",
    "        self.dataloaders,self.dataset_sizes,self.dataset,self.device = get_dataloader(self.data_dir,self.train_csv,\\\n",
    "                                                        self.input_shape,self.img_mean,self.img_std,self.batch_size)\n",
    "        \n",
    "        #Define optimizers one for each model\n",
    "        self.optimizer_sel = optim.Adam(self.selector.parameters(), lr=1e-4, betas=(0.9, 0.999), eps=1e-08, weight_decay=1e-6, amsgrad=False)\n",
    "        self.optimizer_pred = optim.Adam(self.predictor.parameters(), lr=1e-4, betas=(0.9, 0.999), eps=1e-08, weight_decay=1e-6, amsgrad=False)\n",
    "\n",
    "        \n",
    "    def train(self):\n",
    "        \n",
    "        since = time.time()\n",
    "        best_iou = 0\n",
    "        best_acc = 0\n",
    "        best_auc = 0\n",
    "        best_col = 0\n",
    "        best_row = 0\n",
    "        best_agree = 0\n",
    "\n",
    "        for epoch in range(self.num_epochs):\n",
    "            print('Epoch {}/{}'.format(epoch, self.num_epochs - 1),flush=True)\n",
    "            print('-' * 10,flush=True)\n",
    "\n",
    "            # Each epoch has a training and validation phase\n",
    "            for phase in ['train', 'valid']:\n",
    "                if phase == 'train':                \n",
    "                    #Set the models to training mode\n",
    "                    self.selector.train()\n",
    "                    self.baseline.eval()\n",
    "        \n",
    "                else:\n",
    "                    #Set the models to evaluation mode\n",
    "                    self.selector.eval()\n",
    "                    self.predictor.eval()\n",
    "                    \n",
    "                #Keep a track of all the three loss\n",
    "                running_sel_loss = 0.0\n",
    "                running_pred_loss = 0.0\n",
    "              \n",
    "                #Metrics : accuracy\n",
    "                running_pred_acc = 0\n",
    "                running_base_acc = 0\n",
    "                running_int = 0\n",
    "                running_agree = 0\n",
    "                \n",
    "                '''col and row list'''\n",
    "                running_col = 0\n",
    "                running_row = 0\n",
    "                \n",
    "                \n",
    "                '''aucroc'''\n",
    "                y_true = []\n",
    "                y_pred = []\n",
    "                \n",
    "                #tqdm bar\n",
    "                pbar = tqdm(total=self.dataset_sizes[phase])\n",
    "\n",
    "                # Iterate over data.\n",
    "                for sampled_batch in self.dataloaders[phase]:\n",
    "                    \n",
    "                    inputs = sampled_batch['image']\n",
    "                    labels = sampled_batch['category']\n",
    "                    mask = sampled_batch['mask']\n",
    "                    \n",
    "                    #Input needs to be float and labels long\n",
    "                    inputs = inputs.float().to(self.device)\n",
    "                    labels = labels.long().to(self.device)\n",
    "                    mask = mask.to(self.device)\n",
    "                    \n",
    "                    # zero the parameter gradients\n",
    "                    self.optimizer_sel.zero_grad()\n",
    "                    self.optimizer_pred.zero_grad()\n",
    "                    \n",
    "                    # forward\n",
    "                    # track history if only in train\n",
    "                    with torch.set_grad_enabled(phase == 'train'):\n",
    "                        \n",
    "                        #import pdb;pdb.set_trace()\n",
    "                        \n",
    "                        #Generate predictor output probabilities\n",
    "                        base_out,_ = self.baseline(inputs)\n",
    "                        base_prob = F.softmax(base_out)\n",
    "                        _, base_preds = torch.max(base_out, 1)\n",
    "                        \n",
    "                        #=>Baseline Cross entropy\n",
    "                        base_ce_loss = F.cross_entropy(base_out,labels)\n",
    "                                          \n",
    "                        '''Generate selection probabilites using selector function'''\n",
    "                        sel_prob = self.selector(inputs)\n",
    "                           \n",
    "                        '''Sample using selector output'''\n",
    "                        probs_sample = get_sample(sel_prob)\n",
    "\n",
    "                        m_r,m_c = get_patch_center(probs_sample,self.input_shape,1)\n",
    "\n",
    "                        r1,r2,c1,c2 = get_anchor_box(m_r,m_c,self.input_shape,self.patch_shape)\n",
    "                        \n",
    "                        \n",
    "                        '''Patch midpoint'''\n",
    "                        running_col += (c1+c2)/2\n",
    "                        running_row += (r1+r2)/2\n",
    "                        \n",
    "                        '''Intersection metric'''\n",
    "                        int_met = intersection_metric([r1,r2,c1,c2],mask)\n",
    "                        \n",
    "                        '''Extract patch'''\n",
    "                        patch = inputs[0,:,r1:r2,c1:c2].unsqueeze(dim=0)\n",
    "\n",
    "                        '''Generate predictor output probabilities using the baseline cnn'''\n",
    "                        pred_out,_ = self.predictor(patch)\n",
    "                        pred_prob = F.softmax(pred_out)\n",
    "                        _, pred_preds = torch.max(pred_out, 1)\n",
    "\n",
    "                        '''predictor cross entropy'''\n",
    "                        pred_ce_loss = F.cross_entropy(pred_out,labels)\n",
    "                        \n",
    "                        '''aucroc'''\n",
    "                        y_true.append(labels.data)\n",
    "                        y_pred.append(pred_prob.data[0][1])\n",
    "                        \n",
    "                        if base_preds == pred_preds:\n",
    "                            running_agree += 1\n",
    "\n",
    "\n",
    "                        with torch.no_grad():\n",
    "\n",
    "                            k_l = pred_ce_loss - base_ce_loss                  \n",
    "\n",
    "                        probs_sample = torch.Tensor(probs_sample).to(self.device)\n",
    "                        \n",
    "                        probs_sample = probs_sample.view(-1)\n",
    "                        sel_prob = F.softmax(sel_prob.view(-1))\n",
    "                        \n",
    "                        distribution_loss = torch.sum(probs_sample*torch.log(sel_prob + 1e-8)) #+ (1-probs_sample)*torch.log(1 - sel_prob + 1e-8))\n",
    "                                                \n",
    "                        sel_loss = distribution_loss*(k_l)# + 10*abs((r1+r2)/2-self.input_shape[0]//2)/self.input_shape[0]\n",
    "                                                                \n",
    "                        '''Back propogation'''\n",
    "                        if phase == 'train':\n",
    "                            \n",
    "                            '''update predictor'''\n",
    "                            pred_ce_loss.backward(retain_graph=True)\n",
    "                            self.optimizer_sel.zero_grad()\n",
    "                            self.optimizer_pred.step()\n",
    "                            \n",
    "                            '''update selector'''\n",
    "                            sel_loss.backward()\n",
    "                            self.optimizer_pred.zero_grad()\n",
    "                            self.optimizer_sel.step()\n",
    "                                    \n",
    "                    # statistics\n",
    "                    running_sel_loss += sel_loss.item() * inputs.size(0)\n",
    "                    running_pred_loss += pred_ce_loss.item() * inputs.size(0)\n",
    "                \n",
    "                    running_pred_acc += torch.sum(pred_preds == labels.data)\n",
    "                    running_base_acc += torch.sum(base_preds == labels.data)\n",
    "                    running_int += int_met * inputs.size(0)\n",
    "                    \n",
    "                    \n",
    "                    pbar.update(inputs.shape[0])\n",
    "                pbar.close()\n",
    "\n",
    "                epoch_sel_loss = running_sel_loss / self.dataset_sizes[phase]\n",
    "                epoch_pred_loss = running_pred_loss / self.dataset_sizes[phase]\n",
    "                \n",
    "                epoch_base_acc = running_base_acc.double()/ self.dataset_sizes[phase]\n",
    "                epoch_pred_acc = running_pred_acc.double() / self.dataset_sizes[phase]\n",
    "                epoch_int = running_int / self.dataset_sizes[phase]\n",
    "                epoch_agree = running_agree / self.dataset_sizes[phase]\n",
    "                \n",
    "                epoch_auc_roc = sklearn.metrics.roc_auc_score(y_true,y_pred,average='weighted')\n",
    "                epoch_row = running_row/self.dataset_sizes[phase]\n",
    "                epoch_col = running_col/self.dataset_sizes[phase]\n",
    "                \n",
    "                print('{} Sel_Loss: {:.4f} Pred_Loss: {:.4f} BAC: {:.4f} PAC: {:.4f} Agree: {:.4f} Int: {:.4f} Auc: {:4f} Row: {:4f} Col: {:4f}'.format(\n",
    "                    phase, epoch_sel_loss, epoch_pred_loss, epoch_base_acc, epoch_pred_acc, epoch_agree, epoch_int, epoch_auc_roc,epoch_row,epoch_col))\n",
    "\n",
    "                print('Best auc: {:.4f} Best row: {:.4f} Best Col: {:.4f} Best Int: {:.4f} Best Agree: {:.4f}'.format(best_auc, best_row,\n",
    "                                                       best_col, best_iou, best_agree))\n",
    "                \n",
    "                # deep copy the model\n",
    "                if phase == 'valid' and epoch_auc_roc > best_auc:\n",
    "                    \n",
    "                    best_row = epoch_row\n",
    "                    best_col = epoch_col\n",
    "                    best_iou = epoch_int\n",
    "                    best_agree = epoch_agree\n",
    "                    best_auc = epoch_auc_roc\n",
    "                    \n",
    "                    torch.save(self.selector.state_dict(),self.exp_name+'_sel.pt')\n",
    "                    torch.save(self.predictor.state_dict(),self.exp_name+'_pred.pt')\n",
    "\n",
    "\n",
    "        time_elapsed = time.time() - since\n",
    "        print('Training complete in {:.0f}m {:.0f}s'.format(\n",
    "            time_elapsed // 60, time_elapsed % 60))\n",
    "        print('Best iou: {:4f}'.format(best_iou))\n",
    "\n",
    "        torch.save(self.baseline.state_dict(),self.exp_name+'_base_final.pt')\n",
    "        torch.save(self.selector.state_dict(),self.exp_name+'_sel_final.pt')\n",
    "\n",
    "        print('Training completed finally !!!!!')\n",
    "        \n",
    "    def test(self):\n",
    "                \n",
    "        self.selector.load_state_dict(torch.load(self.exp_name+'_sel.pt'))\n",
    "        self.selector.eval()\n",
    "        \n",
    "        self.predictor.load_state_dict(torch.load(self.exp_name+'_pred.pt'))\n",
    "        self.predictor.eval()\n",
    "        \n",
    "        acc = 0\n",
    "        total = 0\n",
    "        iou = 0\n",
    "        \n",
    "        y_true = []\n",
    "        y_pred = []\n",
    "        \n",
    "        patch_list = []\n",
    "        image_list = []\n",
    "        \n",
    "        mode = 'test'\n",
    "        \n",
    "        with torch.no_grad():\n",
    "            \n",
    "            pbar = tqdm(total=self.dataset_sizes[mode])\n",
    "            for data in self.dataloaders[mode]:\n",
    "\n",
    "                inputs = data['image']\n",
    "                labels = data['category']\n",
    "                mask = data['mask']\n",
    "                \n",
    "                inputs = inputs.to(self.device)\n",
    "                labels = labels.to(self.device) \n",
    "                \n",
    "                '''Generate selection probabilites using selector function'''\n",
    "                sel_prob = self.selector(inputs)\n",
    "\n",
    "                '''Sample using selector output'''\n",
    "                probs_sample = get_sample(sel_prob)\n",
    "\n",
    "                m_r,m_c = get_patch_center(probs_sample,self.input_shape,1)\n",
    "\n",
    "                r1,r2,c1,c2 = get_anchor_box(m_r,m_c,self.input_shape,self.patch_shape)\n",
    "\n",
    "                assert r2-r1 == self.patch_shape[0]\n",
    "                assert c2-c1 == self.patch_shape[1]\n",
    "                \n",
    "                '''Intersection metric'''\n",
    "                int_met = intersection_metric([r1,r2,c1,c2],mask)\n",
    "\n",
    "                '''Extract patch'''\n",
    "                patch = inputs[0,:,r1:r2,c1:c2].unsqueeze(dim=0)\n",
    "\n",
    "                '''Generate predictor output probabilities using the baseline cnn'''\n",
    "                pred_out,_ = self.predictor(patch)\n",
    "                pred_prob = F.softmax(pred_out)\n",
    "                _, pred_preds = torch.max(pred_out, 1)\n",
    "\n",
    "                '''aucroc'''\n",
    "                y_true.append(labels.data)\n",
    "                y_pred.append(pred_prob.data[0][1])\n",
    "\n",
    "                if pred_preds == labels.data:\n",
    "                    acc+=1\n",
    "    \n",
    "                iou += int_met\n",
    "                \n",
    "                base_path = '../Experiments/Oxford_pets/'\n",
    "                name = data['name'][0]\n",
    "\n",
    "                pr = name.replace('.j','_weak_sup.j')\n",
    "                \n",
    "                image_np = cv2.resize(cv2.imread('../Data/oxford_pets/sparse_images/'+name),(256,256))\n",
    "                patch_np = image_np[r1:r2,c1:c2,:]\n",
    "                cv2.imwrite(base_path+pr,patch_np)\n",
    "                \n",
    "                patch_list.append(patch_np)\n",
    "                image_list.append(image_np)\n",
    "\n",
    "                pbar.update(inputs.shape[0])\n",
    "                \n",
    "            pbar.close()\n",
    "            \n",
    "            acc /= self.dataset_sizes[mode]\n",
    "            iou /= self.dataset_sizes[mode]\n",
    "            auc = sklearn.metrics.roc_auc_score(y_true,y_pred,average='weighted')\n",
    "            \n",
    "            print('Acc: {:.4f} IoU: {:.4f} AUC: {:.4f}'.format(acc,iou,auc))                \n",
    "\n",
    "            return patch_list,image_list\n",
    "            \n",
    "    def return_model(self):\n",
    "        self.selector.load_state_dict(torch.load(self.exp_name+'_sel.pt'))\n",
    "        self.selector.eval()\n",
    "        return self.selector,self.dataloaders['valid']"
   ]
  },
  {
   "cell_type": "code",
   "execution_count": 123,
   "metadata": {
    "scrolled": true
   },
   "outputs": [],
   "source": [
    "dc = dc_invase(20,(256,256),(64,64))"
   ]
  },
  {
   "cell_type": "code",
   "execution_count": 115,
   "metadata": {},
   "outputs": [
    {
     "data": {
      "application/vnd.jupyter.widget-view+json": {
       "model_id": "3ce4475a475340f384c3d84fc300a67d",
       "version_major": 2,
       "version_minor": 0
      },
      "text/plain": [
       "HBox(children=(IntProgress(value=0, max=1000), HTML(value='')))"
      ]
     },
     "metadata": {},
     "output_type": "display_data"
    },
    {
     "name": "stdout",
     "output_type": "stream",
     "text": [
      "Acc: 0.8420 IoU: 0.4859 AUC: 0.9224\n"
     ]
    }
   ],
   "source": [
    "p,i = dc.test()"
   ]
  },
  {
   "cell_type": "code",
   "execution_count": 121,
   "metadata": {},
   "outputs": [
    {
     "data": {
      "image/png": "[encoded data removed]",
      "text/plain": [
       "<Figure size 432x288 with 2 Axes>"
      ]
     },
     "metadata": {},
     "output_type": "display_data"
    }
   ],
   "source": [
    "t = 5\n",
    "f = plt.figure()\n",
    "f.add_subplot(1,2,1)\n",
    "plt.imshow(p[t])\n",
    "f.add_subplot(1,2, 2)\n",
    "plt.imshow(i[t])\n",
    "plt.show(block=True)"
   ]
  },
  {
   "cell_type": "code",
   "execution_count": null,
   "metadata": {
    "scrolled": true
   },
   "outputs": [
    {
     "name": "stdout",
     "output_type": "stream",
     "text": [
      "Epoch 0/19\n",
      "----------\n"
     ]
    },
    {
     "data": {
      "application/vnd.jupyter.widget-view+json": {
       "model_id": "bf8f3b1fb9024ae79629080a148c424e",
       "version_major": 2,
       "version_minor": 0
      },
      "text/plain": [
       "HBox(children=(IntProgress(value=0, max=1999), HTML(value='')))"
      ]
     },
     "metadata": {},
     "output_type": "display_data"
    },
    {
     "name": "stdout",
     "output_type": "stream",
     "text": [
      "train Sel_Loss: -0.7950 Pred_Loss: 0.6813 BAC: 0.9935 PAC: 0.5898 Agree: 0.5913 Int: 0.4482 Auc: 0.642645 Row: 105.193597 Col: 120.862431\n",
      "Best auc: 0.0000 Best row: 0.0000 Best Col: 0.0000 Best Int: 0.0000 Best Agree: 0.0000\n"
     ]
    },
    {
     "data": {
      "application/vnd.jupyter.widget-view+json": {
       "model_id": "46ceaef026694ec797b9d9ca0e350bd5",
       "version_major": 2,
       "version_minor": 0
      },
      "text/plain": [
       "HBox(children=(IntProgress(value=0, max=1000), HTML(value='')))"
      ]
     },
     "metadata": {},
     "output_type": "display_data"
    },
    {
     "name": "stdout",
     "output_type": "stream",
     "text": [
      "valid Sel_Loss: -90.9107 Pred_Loss: 18.8593 BAC: 0.9700 PAC: 0.6310 Agree: 0.6230 Int: 0.3904 Auc: 0.705868 Row: 121.619000 Col: 111.464000\n",
      "Best auc: 0.0000 Best row: 0.0000 Best Col: 0.0000 Best Int: 0.0000 Best Agree: 0.0000\n",
      "Epoch 1/19\n",
      "----------\n"
     ]
    },
    {
     "data": {
      "application/vnd.jupyter.widget-view+json": {
       "model_id": "69b702a99b6249f19b19e7762069037b",
       "version_major": 2,
       "version_minor": 0
      },
      "text/plain": [
       "HBox(children=(IntProgress(value=0, max=1999), HTML(value='')))"
      ]
     },
     "metadata": {},
     "output_type": "display_data"
    },
    {
     "name": "stdout",
     "output_type": "stream",
     "text": [
      "train Sel_Loss: -0.1327 Pred_Loss: 0.7728 BAC: 0.9925 PAC: 0.5103 Agree: 0.5118 Int: 0.3884 Auc: 0.501409 Row: 100.861431 Col: 117.430715\n",
      "Best auc: 0.7059 Best row: 121.6190 Best Col: 111.4640 Best Int: 0.3904 Best Agree: 0.6230\n"
     ]
    },
    {
     "data": {
      "application/vnd.jupyter.widget-view+json": {
       "model_id": "a1b5ae30798c40a0a22e8a81f5c44404",
       "version_major": 2,
       "version_minor": 0
      },
      "text/plain": [
       "HBox(children=(IntProgress(value=0, max=1000), HTML(value='')))"
      ]
     },
     "metadata": {},
     "output_type": "display_data"
    },
    {
     "name": "stdout",
     "output_type": "stream",
     "text": [
      "valid Sel_Loss: -1.6820 Pred_Loss: 0.6942 BAC: 0.9700 PAC: 0.5000 Agree: 0.5120 Int: 0.3993 Auc: 0.627326 Row: 119.092000 Col: 102.929000\n",
      "Best auc: 0.7059 Best row: 121.6190 Best Col: 111.4640 Best Int: 0.3904 Best Agree: 0.6230\n",
      "Epoch 2/19\n",
      "----------\n"
     ]
    },
    {
     "data": {
      "application/vnd.jupyter.widget-view+json": {
       "model_id": "1113e37f94654866a3f755f001d3f4fe",
       "version_major": 2,
       "version_minor": 0
      },
      "text/plain": [
       "HBox(children=(IntProgress(value=0, max=1999), HTML(value='')))"
      ]
     },
     "metadata": {},
     "output_type": "display_data"
    },
    {
     "name": "stdout",
     "output_type": "stream",
     "text": [
      "train Sel_Loss: -0.1019 Pred_Loss: 0.6744 BAC: 0.9910 PAC: 0.5818 Agree: 0.5818 Int: 0.1672 Auc: 0.614433 Row: 115.015008 Col: 45.987994\n",
      "Best auc: 0.7059 Best row: 121.6190 Best Col: 111.4640 Best Int: 0.3904 Best Agree: 0.6230\n"
     ]
    },
    {
     "data": {
      "application/vnd.jupyter.widget-view+json": {
       "model_id": "a31a21561ea84b3fbd0d3d8bacc2ae4b",
       "version_major": 2,
       "version_minor": 0
      },
      "text/plain": [
       "HBox(children=(IntProgress(value=0, max=1000), HTML(value='')))"
      ]
     },
     "metadata": {},
     "output_type": "display_data"
    },
    {
     "name": "stdout",
     "output_type": "stream",
     "text": [
      "valid Sel_Loss: -1.9207 Pred_Loss: 0.6384 BAC: 0.9700 PAC: 0.6410 Agree: 0.6330 Int: 0.2938 Auc: 0.696312 Row: 123.581000 Col: 87.629000\n",
      "Best auc: 0.7059 Best row: 121.6190 Best Col: 111.4640 Best Int: 0.3904 Best Agree: 0.6230\n",
      "Epoch 3/19\n",
      "----------\n"
     ]
    },
    {
     "data": {
      "application/vnd.jupyter.widget-view+json": {
       "model_id": "f33f6c6d4faf418483b17a1a5ba49b5a",
       "version_major": 2,
       "version_minor": 0
      },
      "text/plain": [
       "HBox(children=(IntProgress(value=0, max=1999), HTML(value='')))"
      ]
     },
     "metadata": {},
     "output_type": "display_data"
    },
    {
     "name": "stdout",
     "output_type": "stream",
     "text": [
      "train Sel_Loss: -0.0595 Pred_Loss: 0.6452 BAC: 0.9925 PAC: 0.6333 Agree: 0.6308 Int: 0.1599 Auc: 0.658938 Row: 121.651826 Col: 42.344172\n",
      "Best auc: 0.7059 Best row: 121.6190 Best Col: 111.4640 Best Int: 0.3904 Best Agree: 0.6230\n"
     ]
    },
    {
     "data": {
      "application/vnd.jupyter.widget-view+json": {
       "model_id": "4bfdf33143bf4fcbb74c94b5fb4f7977",
       "version_major": 2,
       "version_minor": 0
      },
      "text/plain": [
       "HBox(children=(IntProgress(value=0, max=1000), HTML(value='')))"
      ]
     },
     "metadata": {},
     "output_type": "display_data"
    },
    {
     "name": "stdout",
     "output_type": "stream",
     "text": [
      "valid Sel_Loss: -1.7272 Pred_Loss: 0.6617 BAC: 0.9700 PAC: 0.6290 Agree: 0.6150 Int: 0.2840 Auc: 0.686784 Row: 118.836000 Col: 77.617000\n",
      "Best auc: 0.7059 Best row: 121.6190 Best Col: 111.4640 Best Int: 0.3904 Best Agree: 0.6230\n",
      "Epoch 4/19\n",
      "----------\n"
     ]
    },
    {
     "data": {
      "application/vnd.jupyter.widget-view+json": {
       "model_id": "1a68a313e4c0406282743b89d2e08e1f",
       "version_major": 2,
       "version_minor": 0
      },
      "text/plain": [
       "HBox(children=(IntProgress(value=0, max=1999), HTML(value='')))"
      ]
     },
     "metadata": {},
     "output_type": "display_data"
    },
    {
     "name": "stdout",
     "output_type": "stream",
     "text": [
      "train Sel_Loss: -0.0478 Pred_Loss: 0.6487 BAC: 0.9930 PAC: 0.6168 Agree: 0.6178 Int: 0.1627 Auc: 0.659908 Row: 107.300150 Col: 42.836918\n",
      "Best auc: 0.7059 Best row: 121.6190 Best Col: 111.4640 Best Int: 0.3904 Best Agree: 0.6230\n"
     ]
    },
    {
     "data": {
      "application/vnd.jupyter.widget-view+json": {
       "model_id": "22ce2481caa24d56b39c04cfa4ebfa54",
       "version_major": 2,
       "version_minor": 0
      },
      "text/plain": [
       "HBox(children=(IntProgress(value=0, max=1000), HTML(value='')))"
      ]
     },
     "metadata": {},
     "output_type": "display_data"
    },
    {
     "name": "stdout",
     "output_type": "stream",
     "text": [
      "valid Sel_Loss: -1.5400 Pred_Loss: 0.6289 BAC: 0.9700 PAC: 0.6440 Agree: 0.6380 Int: 0.2983 Auc: 0.701444 Row: 121.437000 Col: 80.855000\n",
      "Best auc: 0.7059 Best row: 121.6190 Best Col: 111.4640 Best Int: 0.3904 Best Agree: 0.6230\n",
      "Epoch 5/19\n",
      "----------\n"
     ]
    },
    {
     "data": {
      "application/vnd.jupyter.widget-view+json": {
       "model_id": "a7563c5ff2e34b04bd36b6a245f7a68e",
       "version_major": 2,
       "version_minor": 0
      },
      "text/plain": [
       "HBox(children=(IntProgress(value=0, max=1999), HTML(value='')))"
      ]
     },
     "metadata": {},
     "output_type": "display_data"
    }
   ],
   "source": [
    "dc.train()"
   ]
  },
  {
   "cell_type": "code",
   "execution_count": 44,
   "metadata": {},
   "outputs": [
    {
     "data": {
      "text/plain": [
       "<matplotlib.image.AxesImage at 0x7f85c4cdf710>"
      ]
     },
     "execution_count": 44,
     "metadata": {},
     "output_type": "execute_result"
    },
    {
     "data": {
      "image/png": "[encoded data removed]",
      "text/plain": [
       "<Figure size 432x288 with 1 Axes>"
      ]
     },
     "metadata": {},
     "output_type": "display_data"
    }
   ],
   "source": [
    "plt.imshow(cv2.imread('../Experiments/Oxford_pets/cat_Abyssinian_'))"
   ]
  },
  {
   "cell_type": "code",
   "execution_count": null,
   "metadata": {},
   "outputs": [],
   "source": [
    "%d"
   ]
  },
  {
   "cell_type": "code",
   "execution_count": null,
   "metadata": {},
   "outputs": [],
   "source": [
    "%d"
   ]
  },
  {
   "cell_type": "code",
   "execution_count": null,
   "metadata": {},
   "outputs": [],
   "source": [
    "plt.imshow(cv2.imread('../Experiments/Oxford_pets/cat_Abyssinian_105_bin_8x8_samp_share_1_final.jpg'))"
   ]
  },
  {
   "cell_type": "code",
   "execution_count": null,
   "metadata": {
    "scrolled": true
   },
   "outputs": [],
   "source": [
    "dc.train()"
   ]
  },
  {
   "cell_type": "code",
   "execution_count": null,
   "metadata": {},
   "outputs": [],
   "source": []
  },
  {
   "cell_type": "code",
   "execution_count": null,
   "metadata": {},
   "outputs": [],
   "source": [
    "!nvidia-smi"
   ]
  }
 ],
 "metadata": {
  "kernelspec": {
   "display_name": "Python 3",
   "language": "python",
   "name": "python3"
  },
  "language_info": {
   "codemirror_mode": {
    "name": "ipython",
    "version": 3
   },
   "file_extension": ".py",
   "mimetype": "text/x-python",
   "name": "python",
   "nbconvert_exporter": "python",
   "pygments_lexer": "ipython3",
   "version": "3.6.5"
  }
 },
 "nbformat": 4,
 "nbformat_minor": 2
}
