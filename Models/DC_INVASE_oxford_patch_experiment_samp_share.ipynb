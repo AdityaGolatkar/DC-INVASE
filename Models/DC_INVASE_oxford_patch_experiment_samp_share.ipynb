{
 "cells": [
  {
   "cell_type": "code",
   "execution_count": 1,
   "metadata": {
    "scrolled": true
   },
   "outputs": [],
   "source": [
    "#Pytorch\n",
    "import torch\n",
    "import torch.nn.functional as F\n",
    "import torch.nn as nn\n",
    "import torch.optim as optim\n",
    "from torch.optim import lr_scheduler\n",
    "\n",
    "#Torchvision\n",
    "import torchvision\n",
    "from torchvision import datasets, models, transforms, utils\n",
    "from torch.utils.data import Dataset, DataLoader\n",
    "\n",
    "#Image Processing\n",
    "import matplotlib.pyplot as plt\n",
    "from skimage import io, transform, color\n",
    "import PIL\n",
    "from PIL import Image\n",
    "import augmentations\n",
    "from augmentations import *\n",
    "\n",
    "#Others\n",
    "import sklearn.metrics\n",
    "from sklearn.metrics import *\n",
    "import numpy as np\n",
    "import pandas as pd\n",
    "import cv2\n",
    "import time\n",
    "import os\n",
    "import copy\n",
    "from model_summary import *\n",
    "import pretrainedmodels\n",
    "import tqdm\n",
    "from tqdm import tqdm_notebook as tqdm\n",
    "import warnings\n",
    "warnings.filterwarnings(\"ignore\")\n",
    "\n",
    "import dataloaders\n",
    "from dataloaders import *\n",
    "\n",
    "## Dataloader\n",
    "## Dataloader\n",
    "\n",
    "class dataset(Dataset):\n",
    "\n",
    "    def __init__(self, csv_file, root_dir, transform=None):\n",
    "\n",
    "        self.data_frame = pd.read_csv(csv_file)\n",
    "        self.root_dir = root_dir\n",
    "        self.transform = transform\n",
    "        self.mask_dir = self.root_dir.replace('images','masks')\n",
    "        \n",
    "    def __len__(self):\n",
    "        return len(self.data_frame)\n",
    "\n",
    "    def __getitem__(self, idx):\n",
    "        img_name = os.path.join(self.root_dir,self.data_frame.iloc[idx]['name'])\n",
    "        image = Image.open(img_name)\n",
    "        \n",
    "        mask_name = os.path.join(self.mask_dir,self.data_frame.iloc[idx]['name'])\n",
    "        mask = io.imread(mask_name)\n",
    "        mask = np.array([mask,mask,mask]).transpose((1,2,0))\n",
    "        mask = Image.fromarray(mask)\n",
    "\n",
    "        label = self.data_frame.iloc[idx]['category']       \n",
    "\n",
    "        if self.transform:\n",
    "            image,mask = self.transform(image,mask)\n",
    "        \n",
    "        mask_final = mask[0,:,:]\n",
    "        mask_final[mask_final<0.5] = 0\n",
    "        mask_final[mask_final>0.5] = 1\n",
    "        \n",
    "        return {'image':image, 'category':label, 'mask':mask_final, 'name':self.data_frame.iloc[idx]['name']}\n",
    "    \n",
    "\n",
    "def get_dataloader(data_dir, train_csv_path, image_size, img_mean, img_std, batch_size=1):\n",
    "\n",
    "    data_transforms = {\n",
    "        'train': Compose([\n",
    "            Resize(image_size),\n",
    "            RandomHorizontallyFlip(0.5),\n",
    "            RandomVerticallyFlip(0.5),\n",
    "            RandomTranslate((0.2,0.2)),\n",
    "            RandomRotate(15),\n",
    "            ToTensor(),\n",
    "            Normalize(img_mean,img_std)\n",
    "        ]),\n",
    "        'valid': Compose([\n",
    "            Resize(image_size),\n",
    "            ToTensor(),\n",
    "            Normalize(img_mean,img_std)\n",
    "        ]),\n",
    "        'test': Compose([\n",
    "            Resize(image_size),\n",
    "            ToTensor(),\n",
    "            Normalize(img_mean,img_std)        \n",
    "        ])\n",
    "    }\n",
    "\n",
    "    image_datasets = {}\n",
    "    dataloaders = {}\n",
    "    dataset_sizes = {}\n",
    "\n",
    "    for x in ['train', 'valid', 'test']:\n",
    "        if x == 'train':\n",
    "            bs = batch_size\n",
    "            sh = True\n",
    "        elif x == 'valid':\n",
    "            bs = batch_size\n",
    "            sh = False\n",
    "        else:\n",
    "            bs = 1\n",
    "            sh = False\n",
    "        image_datasets[x] = dataset(train_csv_path.replace('train',x),root_dir=data_dir,transform=data_transforms[x])\n",
    "        dataloaders[x] = torch.utils.data.DataLoader(image_datasets[x], batch_size=bs,shuffle=sh, num_workers=8)    \n",
    "        dataset_sizes[x] = len(image_datasets[x])\n",
    "\n",
    "    device = torch.device(\"cuda:0\")\n",
    "\n",
    "    return dataloaders,dataset_sizes,image_datasets,device\n",
    "\n",
    "## Selector network (U-Net)\n",
    "\n",
    "def build_selector():\n",
    "    class unetConv2(nn.Module):\n",
    "        def __init__(self, in_size, out_size, is_batchnorm):\n",
    "            super(unetConv2, self).__init__()\n",
    "\n",
    "            if is_batchnorm:\n",
    "                self.conv1 = nn.Sequential(nn.Conv2d(in_size, out_size, 3, 1, 1),\n",
    "                                           nn.BatchNorm2d(out_size),\n",
    "                                           nn.ReLU(),)\n",
    "                self.conv2 = nn.Sequential(nn.Conv2d(out_size, out_size, 3, 1, 1),\n",
    "                                           nn.BatchNorm2d(out_size),\n",
    "                                           nn.ReLU(),)\n",
    "            else:\n",
    "                self.conv1 = nn.Sequential(nn.Conv2d(in_size, out_size, 3, 1, 1),\n",
    "                                           nn.ReLU(),)\n",
    "                self.conv2 = nn.Sequential(nn.Conv2d(out_size, out_size, 3, 1, 1),\n",
    "                                           nn.ReLU(),)\n",
    "        def forward(self, inputs):\n",
    "            outputs = self.conv1(inputs)\n",
    "            outputs = self.conv2(outputs)\n",
    "            return outputs\n",
    "\n",
    "    class unetUp(nn.Module):\n",
    "        def __init__(self, in_size, out_size, is_deconv):\n",
    "            super(unetUp, self).__init__()\n",
    "            self.conv = unetConv2(in_size, out_size, False)\n",
    "            if is_deconv:\n",
    "                self.up = nn.ConvTranspose2d(in_size, out_size, kernel_size=2, stride=2)\n",
    "            else:\n",
    "                self.up = nn.UpsamplingBilinear2d(scale_factor=2)\n",
    "\n",
    "        def forward(self, inputs1, inputs2):\n",
    "            outputs2 = self.up(inputs2)\n",
    "            offset = outputs2.size()[2] - inputs1.size()[2]\n",
    "            padding = 2 * [offset // 2, offset // 2]\n",
    "            outputs1 = F.pad(inputs1, padding)\n",
    "            return self.conv(torch.cat([outputs1, outputs2], 1))\n",
    "\n",
    "    class unet(nn.Module):\n",
    "\n",
    "        def __init__(self, feature_scale=4, n_classes=1, is_deconv=True, in_channels=3, is_batchnorm=True):\n",
    "            super(unet, self).__init__()\n",
    "            self.is_deconv = is_deconv\n",
    "            self.in_channels = in_channels\n",
    "            self.is_batchnorm = is_batchnorm\n",
    "            self.feature_scale = feature_scale\n",
    "\n",
    "            filters = [32, 64, 128, 256, 512, 512, 1024]\n",
    "            filters = [int(x / self.feature_scale) for x in filters]\n",
    "\n",
    "            #downsampling\n",
    "            self.conv1 = unetConv2(self.in_channels, filters[0], self.is_batchnorm)\n",
    "            self.maxpool1 = nn.MaxPool2d(kernel_size=2)\n",
    "\n",
    "            self.conv2 = unetConv2(filters[0], filters[1], self.is_batchnorm)\n",
    "            self.maxpool2 = nn.MaxPool2d(kernel_size=2)\n",
    "\n",
    "            self.conv3 = unetConv2(filters[1], filters[2], self.is_batchnorm)\n",
    "            self.maxpool3 = nn.MaxPool2d(kernel_size=2)\n",
    "\n",
    "            self.conv4 = unetConv2(filters[2], filters[3], self.is_batchnorm)\n",
    "            self.maxpool4 = nn.MaxPool2d(kernel_size=2)\n",
    "                    \n",
    "            self.conv5 = unetConv2(filters[3], filters[4], self.is_batchnorm)\n",
    "            self.maxpool5 = nn.MaxPool2d(kernel_size=2)\n",
    "            \n",
    "            self.conv6 = unetConv2(filters[4], filters[5], self.is_batchnorm)\n",
    "            self.maxpool6 = nn.MaxPool2d(kernel_size=2)\n",
    "            \n",
    "            self.center = unetConv2(filters[5], filters[6], self.is_batchnorm)\n",
    "\n",
    "            # upsampling\n",
    "            \n",
    "            self.up_concat6 = unetUp(filters[6], filters[5], self.is_deconv)\n",
    "            \n",
    "#             self.up_concat3 = unetUp(filters[3], filters[2], self.is_deconv)\n",
    "#             self.up_concat2 = unetUp(filters[2], filters[1], self.is_deconv)\n",
    "#             self.up_concat1 = unetUp(filters[1], filters[0], self.is_deconv)\n",
    "\n",
    "            # final conv (without any concat)\n",
    "            self.final = nn.Conv2d(filters[5], n_classes, 1)\n",
    "\n",
    "        def forward(self, inputs):\n",
    "            conv1 = self.conv1(inputs)\n",
    "            maxpool1 = self.maxpool1(conv1)\n",
    "\n",
    "            conv2 = self.conv2(maxpool1)\n",
    "            maxpool2 = self.maxpool2(conv2)\n",
    "\n",
    "            conv3 = self.conv3(maxpool2)\n",
    "            maxpool3 = self.maxpool3(conv3)\n",
    "\n",
    "            conv4 = self.conv4(maxpool3)\n",
    "            maxpool4 = self.maxpool4(conv4)\n",
    "            \n",
    "            conv5 = self.conv5(maxpool4)\n",
    "            maxpool5 = self.maxpool5(conv5)\n",
    "            \n",
    "            conv6 = self.conv6(maxpool5)\n",
    "            maxpool6 = self.maxpool6(conv6)\n",
    "\n",
    "            center = self.center(maxpool6)\n",
    "            up6 = self.up_concat6(conv6, center)\n",
    "            #up3 = self.up_concat3(conv3, up4)\n",
    "            #up2 = self.up_concat2(conv2, up3)\n",
    "            #up1 = self.up_concat1(conv1, up2)\n",
    "\n",
    "            final = self.final(up6)\n",
    "\n",
    "            return final\n",
    "    \n",
    "    model = unet()\n",
    "    return model\n",
    "\n",
    "#a = build_selector()\n",
    "\n",
    "#summary(a.cuda(),(3,224,224))\n",
    "\n",
    "## Predictor-Discriminator-Baseline\n",
    "def build_pdb():\n",
    "\n",
    "    class mdl(nn.Module):\n",
    "        def __init__(self,base_model):\n",
    "            super().__init__()\n",
    "            self.base = base_model \n",
    "            self.gap = nn.AdaptiveAvgPool2d((1,1))\n",
    "            self.fc1 = nn.Linear(512,2)\n",
    "\n",
    "        def forward(self, x):\n",
    "            x_base = self.base(x)\n",
    "            x = self.gap(x_base)\n",
    "            x = x.view(x.size(0), -1)\n",
    "            x = self.fc1(x)\n",
    "            return x,x_base \n",
    "\n",
    "    v = models.vgg16_bn(pretrained=True)\n",
    "    v1 = nn.Sequential(*list(v.children())[:-1])\n",
    "\n",
    "    #r = models.resnet101(pretrained=True)\n",
    "    #r1 = nn.Sequential(*list(r.children())[:-2])\n",
    "    \n",
    "    model = mdl(v1[-1][:-1])\n",
    "    model.load_state_dict(torch.load('../Weights/grad_cam_vgg_16_oxford.pt'))\n",
    "        \n",
    "    return model\n",
    "\n",
    "# IoU\n",
    "def get_IoU(pred, targs):\n",
    "    return (pred*targs).sum() / ((pred+targs).sum() - (pred*targs).sum())\n",
    "    \n",
    "## Sampler\n",
    "\n",
    "def sampler(gen_prob):\n",
    "\n",
    "    # Sampling\n",
    "    samples = np.random.binomial(1, gen_prob, gen_prob.shape)\n",
    "\n",
    "    return samples\n",
    "\n",
    "def test_samples(gen_prob):\n",
    "    out = torch.zeros(gen_prob.shape)\n",
    "    out[gen_prob>0.5] = 1\n",
    "    return out\n",
    "\n",
    "## Mask generation\n",
    "\n",
    "class get_prob_mask(torch.nn.Module):\n",
    "    def __init__(self,img_size,patch_size):\n",
    "        super(get_prob_mask, self).__init__()\n",
    "        self.i_h = img_size[0]\n",
    "        self.i_w = img_size[1]\n",
    "        self.p_h = patch_size[0]\n",
    "        self.p_w = patch_size[1]\n",
    "        \n",
    "    def forward(self,x):\n",
    "        b,c,h,w = x.size()\n",
    "        mask = torch.zeros((b,c,self.i_h,self.i_w))\n",
    "        for i in range(h):\n",
    "            for j in range(w):\n",
    "                mask[0][0][i*self.p_h:(i+1)*self.p_h,j*self.p_w:(j+1)*self.p_w] = x[0][0][i,j]\n",
    "                #import pdb;pdb.set_trace()\n",
    "        return mask\n",
    "    \n",
    "\n",
    "## DC-INVASE class\n",
    "\n",
    "class dc_invase():\n",
    "    def __init__(self):\n",
    "        \n",
    "        #Initialization\n",
    "        self.data_dir =  '../Data/oxford_pets/sparse_images/'\n",
    "        self.train_csv = '../CSV/oxford_pet_train.csv'\n",
    "        self.num_epochs = 10\n",
    "        self.input_shape = (256,256)\n",
    "        self.patch_shape = (32,32)\n",
    "        self.batch_size = 1\n",
    "        self.img_mean = [0,0,0]#[0.485, 0.456, 0.406]\n",
    "        self.img_std = [1,1,1]#[0.229, 0.224, 0.225]\n",
    "        self.alpha = 1\n",
    "        self.beta = 0.007#0.05 for 64x64\n",
    "        self.exp_name = '../Weights/dci_patchwise_32x32_oxford_share'\n",
    "        \n",
    "        #Define the four models\n",
    "        self.selector = build_selector()\n",
    "        self.baseline = build_pdb()\n",
    "        \n",
    "        #Put them on the GPU\n",
    "        self.selector = self.selector.cuda()\n",
    "        self.baseline = self.baseline.cuda()\n",
    "        \n",
    "        #Get the dataloaders\n",
    "        self.dataloaders,self.dataset_sizes,self.dataset,self.device = get_dataloader(self.data_dir,self.train_csv,\\\n",
    "                                                        self.input_shape,self.img_mean,self.img_std,self.batch_size)\n",
    "        \n",
    "        #Define optimizers one for each model\n",
    "        self.optimizer_sel = optim.Adam(self.selector.parameters(), lr=1e-4, betas=(0.9, 0.999), eps=1e-08, weight_decay=1e-5, amsgrad=False)\n",
    "        self.optimizer_base = optim.Adam(self.baseline.parameters(), lr=1e-4, betas=(0.9, 0.999), eps=1e-08, weight_decay=1e-5, amsgrad=False)\n",
    "        \n",
    "        #Define the interpolation function\n",
    "        self.prob_mask = get_prob_mask(self.input_shape,self.patch_shape)\n",
    "             \n",
    "    def train(self):\n",
    "        \n",
    "        since = time.time()\n",
    "        best_iou = 0\n",
    "\n",
    "        for epoch in range(self.num_epochs):\n",
    "            print('Epoch {}/{}'.format(epoch, self.num_epochs - 1),flush=True)\n",
    "            print('-' * 10,flush=True)\n",
    "\n",
    "            # Each epoch has a training and validation phase\n",
    "            for phase in ['train', 'valid']:\n",
    "                if phase == 'train':                \n",
    "                    #Set the models to training mode\n",
    "                    self.selector.train()\n",
    "                    self.baseline.train()\n",
    "                \n",
    "                else:\n",
    "                    #Set the models to evaluation mode\n",
    "                    self.selector.eval()\n",
    "                    self.baseline.eval()\n",
    "                    \n",
    "                #Keep a track of all the three loss\n",
    "                running_sel_loss = 0.0\n",
    "                running_base_loss = 0.0\n",
    "                running_pred_loss = 0.0\n",
    "                running_dis_loss = 0.0\n",
    "                running_final_base = 0.0\n",
    "                running_spa = 0.0\n",
    "              \n",
    "                #Metrics : accuracy\n",
    "                running_pred_acc = 0\n",
    "                running_dis_acc = 0\n",
    "                running_base_acc = 0\n",
    "                running_iou = 0\n",
    "\n",
    "                #tqdm bar\n",
    "                pbar = tqdm(total=self.dataset_sizes[phase])\n",
    "\n",
    "                # Iterate over data.\n",
    "                for sampled_batch in self.dataloaders[phase]:\n",
    "\n",
    "                    inputs = sampled_batch['image']\n",
    "                    labels = sampled_batch['category']\n",
    "                    mask = sampled_batch['mask']\n",
    "                    \n",
    "                    #Input needs to be float and labels long\n",
    "                    inputs = inputs.float().to(self.device)\n",
    "                    labels = labels.long().to(self.device)\n",
    "                    mask = mask.to(self.device)\n",
    "                    \n",
    "                    # zero the parameter gradients\n",
    "                    self.optimizer_sel.zero_grad()\n",
    "                    self.optimizer_base.zero_grad()\n",
    "\n",
    "                    # forward\n",
    "                    # track history if only in train\n",
    "                    with torch.set_grad_enabled(phase == 'train'):\n",
    "                        \n",
    "                        #import pdb;pdb.set_trace()\n",
    "                        \n",
    "                        #Generate predictor output probabilities\n",
    "                        base_out,_ = self.baseline(inputs)\n",
    "                        base_prob = F.softmax(base_out)\n",
    "                        _, base_preds = torch.max(base_out, 1)\n",
    "                        \n",
    "                        #=>Baseline Cross entropy\n",
    "                        base_ce_loss = F.cross_entropy(base_out,labels)\n",
    "                        \n",
    "                        #Generate selection probabilites using selector function.\n",
    "                        sel_prob = self.selector(inputs)\n",
    "                        #sel_prob = F.sigmoid(sel_prob)\n",
    "                        sel_prob = sel_prob - sel_prob.min()\n",
    "                        sel_prob = sel_prob/sel_prob.max()\n",
    "                        \n",
    "                        pred_ce_loss = 0\n",
    "                        dis_loss = 0\n",
    "                        sel_loss = 0\n",
    "                        sparsity = 0\n",
    "                        iou = 0\n",
    "                        \n",
    "                        no_of_samples = 1\n",
    "                        for sampling_ind in range(no_of_samples):\n",
    "                        \n",
    "                            #Sample using the selector distribution.\n",
    "                            bin_samples = sampler(sel_prob.data.cpu().numpy())\n",
    "                            \n",
    "                            #print(bin_samples,phase)\n",
    "                            \n",
    "                            bin_samples = torch.Tensor(bin_samples).to(self.device)\n",
    "                            \n",
    "                            #Interpolate the selector output\n",
    "                            bin_mask = self.prob_mask(bin_samples).to(self.device)\n",
    "                            #print(bin_samples)\n",
    "                            \n",
    "                            #Compute the sparsity and iou\n",
    "                            sparsity+=torch.mean(bin_samples)\n",
    "                            #print(sparsity)\n",
    "                            iou+=get_IoU(bin_mask,mask)\n",
    "\n",
    "                            #Compute the Complementary selection probability\n",
    "                            comp_bin_mask = 1 - bin_mask\n",
    "\n",
    "                            #Generate X_S the selection probability masked image\n",
    "                            x_s = inputs*bin_mask\n",
    "\n",
    "                            #Generate X_S_bar the complementary selection probability masked image\n",
    "                            x_s_bar = inputs*comp_bin_mask\n",
    "\n",
    "                            #Generate predictor output probabilities using the baseline cnn\n",
    "                            pred_out,_ = self.baseline(x_s)\n",
    "                            pred_prob = F.softmax(pred_out)\n",
    "                            _, pred_preds = torch.max(pred_out, 1)\n",
    "\n",
    "                            #Generate discriminator probabilities using the baseline cnn\n",
    "                            dis_out,_ = self.baseline(x_s_bar)\n",
    "                            dis_prob = F.softmax(dis_out)\n",
    "                            _, dis_preds = torch.max(dis_out, 1)\n",
    "                            #dis_metric += torch.mean(torch.abs(dis_prob-0.5)) \n",
    "                            #print(torch.mean(torch.abs(dis_prob-0.5)))\n",
    "                            \n",
    "                            #Predictor Cross entropy\n",
    "                            pred_ce_loss += F.cross_entropy(pred_out,labels)\n",
    "\n",
    "                            #Discriminator loss = probability of the actual label\n",
    "                            dis_loss += dis_prob[0][labels[0]]\n",
    "                            #print(pred_out,dis_out,labels)\n",
    "\n",
    "                            with torch.no_grad():\n",
    "                                dis_ce_loss = F.cross_entropy(dis_out,labels)\n",
    "\n",
    "                                #first KL divergence term\n",
    "                                kl_1 = -base_ce_loss + pred_ce_loss\n",
    "\n",
    "                                #second KL divergence term\n",
    "                                kl_2 = -base_ce_loss + dis_ce_loss\n",
    "\n",
    "                                #the difference in the two KL divergence terms\n",
    "                                kl_diff = kl_1 - self.alpha*kl_2\n",
    "\n",
    "                            #Selector function loss\n",
    "                            l1_loss = torch.mean(sel_prob)                        \n",
    "\n",
    "                            distribution_loss = torch.mean(bin_samples*torch.log(sel_prob + 1e-8) + (1-bin_samples)*torch.log(1 - sel_prob + 1e-8))\n",
    "\n",
    "                            sel_loss += distribution_loss*kl_diff + self.beta*l1_loss\n",
    "                            #print(distribution_loss*kl_diff,self.beta*l1_loss)\n",
    "                            \n",
    "                        pred_ce_loss /= no_of_samples\n",
    "                        dis_loss /= no_of_samples\n",
    "                        sel_loss /= no_of_samples\n",
    "                        sparsity /= no_of_samples\n",
    "                        iou /= no_of_samples\n",
    "                        \n",
    "                        final_baseline_loss = base_ce_loss + pred_ce_loss + dis_loss\n",
    "                        \n",
    "                        # backward + optimize only if in training phase\n",
    "                        if phase == 'train':\n",
    "                            \n",
    "                            #The gradients of pred_ce_loss should not update the params of disc or sel\n",
    "                            final_baseline_loss.backward(retain_graph=True)\n",
    "                            self.optimizer_sel.zero_grad()\n",
    "                            self.optimizer_base.step()\n",
    "                            \n",
    "                            #Update sel\n",
    "                            sel_loss.backward()\n",
    "                            self.optimizer_base.zero_grad()\n",
    "                            self.optimizer_sel.step()\n",
    "                                    \n",
    "                    # statistics\n",
    "                    running_sel_loss += sel_loss.item() * inputs.size(0)\n",
    "                    running_pred_loss += pred_ce_loss.item() * inputs.size(0)\n",
    "                    running_dis_loss += dis_loss.item() * inputs.size(0)\n",
    "                    running_base_loss += base_ce_loss.item() * inputs.size(0)\n",
    "                    running_final_base += final_baseline_loss.item() * inputs.size(0)\n",
    "                    running_spa += sparsity *inputs.size(0)\n",
    "                \n",
    "                    running_pred_acc += torch.sum(pred_preds == labels.data)\n",
    "                    running_dis_acc += torch.sum(dis_preds == (1-labels.data))\n",
    "                    running_base_acc += torch.sum(base_preds == labels.data)\n",
    "                    running_iou += iou * inputs.size(0)\n",
    "                    \n",
    "                    pbar.update(inputs.shape[0])\n",
    "                pbar.close()\n",
    "\n",
    "                epoch_base_loss = running_base_loss / self.dataset_sizes[phase]\n",
    "                epoch_final_base = running_final_base / self.dataset_sizes[phase]\n",
    "                epoch_sel_loss = running_sel_loss / self.dataset_sizes[phase]\n",
    "                epoch_pred_loss = running_pred_loss / self.dataset_sizes[phase]\n",
    "                epoch_dis_loss = running_dis_loss / self.dataset_sizes[phase]\n",
    "                epoch_spa = running_spa / self.dataset_sizes[phase]\n",
    "                \n",
    "                epoch_base_acc = running_base_acc.double()/ self.dataset_sizes[phase]\n",
    "                epoch_pred_acc = running_pred_acc.double() / self.dataset_sizes[phase]\n",
    "                epoch_dis_acc = running_dis_acc.double() / self.dataset_sizes[phase]\n",
    "                epoch_iou = running_iou / self.dataset_sizes[phase]\n",
    "                \n",
    "                print('{} Final_Base: {:.4f} Base_Loss: {:.4f} Sel_Loss: {:.4f} Pred_Loss: {:.4f} Dis_Loss: {:.4f} Spa: {:.4f} BAC: {:.4f} PAC: {:.4f} DAC: {:.4f} IoU: {:.4f}'.format(\n",
    "                    phase, epoch_final_base, epoch_base_loss, epoch_sel_loss, epoch_pred_loss, epoch_dis_loss, epoch_spa, epoch_base_acc, epoch_pred_acc, epoch_dis_acc,epoch_iou))\n",
    "\n",
    "                # deep copy the model\n",
    "                if phase == 'valid' and epoch_iou > best_iou:\n",
    "                    \n",
    "                    best_iou = epoch_iou\n",
    "                    torch.save(self.selector.state_dict(),self.exp_name+'_sel.pt')\n",
    "                    torch.save(self.baseline.state_dict(),self.exp_name+'_base.pt')\n",
    "                    #import pdb;pdb.set_trace()\n",
    "\n",
    "\n",
    "        time_elapsed = time.time() - since\n",
    "        print('Training complete in {:.0f}m {:.0f}s'.format(\n",
    "            time_elapsed // 60, time_elapsed % 60))\n",
    "        print('Best iou: {:4f}'.format(best_iou))\n",
    "\n",
    "        torch.save(self.baseline.state_dict(),self.exp_name+'_base_final.pt')\n",
    "        torch.save(self.selector.state_dict(),self.exp_name+'_sel_final.pt')\n",
    "\n",
    "        print('Training completed finally !!!!!')\n",
    "        \n",
    "    def get_cam(self):\n",
    "                \n",
    "        self.selector.load_state_dict(torch.load(self.exp_name+'_sel_final.pt'))\n",
    "        self.selector.eval()\n",
    "        \n",
    "        acc = 0\n",
    "        total = 0\n",
    "        mode = 'test'\n",
    "\n",
    "        cm = []\n",
    "        m = []\n",
    "        bm = []\n",
    "        \n",
    "        params = list(self.selector.parameters())                        \n",
    "        weight_softmax = torch.squeeze(params[-2].data)\n",
    "        \n",
    "        iou = 0\n",
    "        \n",
    "        with torch.no_grad():\n",
    "            \n",
    "            pbar = tqdm(total=self.dataset_sizes[mode])\n",
    "            for data in self.dataloaders[mode]:\n",
    "\n",
    "                inputs = data['image']\n",
    "                labels = data['category']\n",
    "\n",
    "                inputs = inputs.to(self.device)\n",
    "                labels = labels.to(self.device) \n",
    "                \n",
    "                sel_prob = self.selector(inputs)\n",
    "                sel_prob = sel_prob - sel_prob.min()\n",
    "                sel_prob = sel_prob/sel_prob.max()\n",
    "\n",
    "                #Threshold using 0.5\n",
    "                #bin_samples = test_samples(sel_prob.data)\n",
    "                \n",
    "                #Sample using the distribution induced\n",
    "                bin_samples = sampler(sel_prob.data.cpu().numpy())\n",
    "                bin_samples = torch.Tensor(bin_samples).to(self.device)\n",
    "                bin_mask = self.prob_mask(bin_samples).to(self.device) \n",
    "\n",
    "                base_path = '../Experiments/Oxford_pets/'\n",
    "                name = data['name'][0]\n",
    "\n",
    "                #heatmap = cv2.applyColorMap(np.uint8(255*bin_mask.cpu().numpy().squeeze()), cv2.COLORMAP_JET)\n",
    "                heatmap = bin_mask.cpu().numpy().squeeze()\n",
    "                heatmap = np.expand_dims(heatmap,axis=2)\n",
    "                #heatmap = np.float32(heatmap) / 255\n",
    "                cam_f = heatmap*np.float32(inputs.cpu().numpy().squeeze().transpose((1,2,0)))\n",
    "                cam_f = cam_f / np.max(cam_f)\n",
    "                #cam_f = heatmap\n",
    "                pr = name.replace('.j','_bin_64x64_samp_share_1_final.j')\n",
    "                cv2.imwrite(base_path+pr,cam_f*255)\n",
    "\n",
    "                \n",
    "                pbar.update(inputs.shape[0])\n",
    "                \n",
    "            pbar.close()\n",
    "        \n",
    "\n",
    "    def return_model(self):\n",
    "        self.selector.load_state_dict(torch.load(self.exp_name+'_sel.pt'))\n",
    "        self.selector.eval()\n",
    "        return self.selector,self.dataloaders['valid']"
   ]
  },
  {
   "cell_type": "code",
   "execution_count": 2,
   "metadata": {
    "scrolled": true
   },
   "outputs": [],
   "source": [
    "dc = dc_invase()"
   ]
  },
  {
   "cell_type": "code",
   "execution_count": null,
   "metadata": {
    "scrolled": true
   },
   "outputs": [
    {
     "name": "stdout",
     "output_type": "stream",
     "text": [
      "Epoch 0/9\n",
      "----------\n"
     ]
    },
    {
     "data": {
      "application/vnd.jupyter.widget-view+json": {
       "model_id": "2478d4ff15414e7fbb401ca2e35f5316",
       "version_major": 2,
       "version_minor": 0
      },
      "text/plain": [
       "HBox(children=(IntProgress(value=0, max=1999), HTML(value='')))"
      ]
     },
     "metadata": {},
     "output_type": "display_data"
    },
    {
     "name": "stdout",
     "output_type": "stream",
     "text": [
      "\n",
      "train Final_Base: 1.4630 Base_Loss: 0.3253 Sel_Loss: 0.0426 Pred_Loss: 0.5675 Dis_Loss: 0.5702 Spa: 0.3479 BAC: 0.8749 PAC: 0.6993 DAC: 0.3812 IoU: 0.2410\n"
     ]
    },
    {
     "data": {
      "application/vnd.jupyter.widget-view+json": {
       "model_id": "d55e4c2b804d4a62af454dd8b6c41402",
       "version_major": 2,
       "version_minor": 0
      },
      "text/plain": [
       "HBox(children=(IntProgress(value=0, max=1000), HTML(value='')))"
      ]
     },
     "metadata": {},
     "output_type": "display_data"
    },
    {
     "name": "stdout",
     "output_type": "stream",
     "text": [
      "\n",
      "valid Final_Base: 1.4226 Base_Loss: 0.2144 Sel_Loss: 0.1753 Pred_Loss: 0.5923 Dis_Loss: 0.6160 Spa: 0.3473 BAC: 0.9180 PAC: 0.7120 DAC: 0.3860 IoU: 0.2869\n",
      "Epoch 1/9\n",
      "----------\n"
     ]
    },
    {
     "data": {
      "application/vnd.jupyter.widget-view+json": {
       "model_id": "4ba0a47505634d03920a251713bb5b24",
       "version_major": 2,
       "version_minor": 0
      },
      "text/plain": [
       "HBox(children=(IntProgress(value=0, max=1999), HTML(value='')))"
      ]
     },
     "metadata": {},
     "output_type": "display_data"
    },
    {
     "name": "stdout",
     "output_type": "stream",
     "text": [
      "\n",
      "train Final_Base: 1.2422 Base_Loss: 0.2430 Sel_Loss: 0.2064 Pred_Loss: 0.5122 Dis_Loss: 0.4869 Spa: 0.3080 BAC: 0.9100 PAC: 0.7394 DAC: 0.5138 IoU: 0.2630\n"
     ]
    },
    {
     "data": {
      "application/vnd.jupyter.widget-view+json": {
       "model_id": "a86f16153a0a449db45ba75c2128e285",
       "version_major": 2,
       "version_minor": 0
      },
      "text/plain": [
       "HBox(children=(IntProgress(value=0, max=1000), HTML(value='')))"
      ]
     },
     "metadata": {},
     "output_type": "display_data"
    },
    {
     "name": "stdout",
     "output_type": "stream",
     "text": [
      "\n",
      "valid Final_Base: 1.9631 Base_Loss: 0.7207 Sel_Loss: 0.3148 Pred_Loss: 0.7246 Dis_Loss: 0.5178 Spa: 0.3565 BAC: 0.8290 PAC: 0.6090 DAC: 0.4800 IoU: 0.2901\n",
      "Epoch 2/9\n",
      "----------\n"
     ]
    },
    {
     "data": {
      "application/vnd.jupyter.widget-view+json": {
       "model_id": "444d6dba63fd4794a0a33fac3a95e102",
       "version_major": 2,
       "version_minor": 0
      },
      "text/plain": [
       "HBox(children=(IntProgress(value=0, max=1999), HTML(value='')))"
      ]
     },
     "metadata": {},
     "output_type": "display_data"
    },
    {
     "name": "stdout",
     "output_type": "stream",
     "text": [
      "\n",
      "train Final_Base: 1.0691 Base_Loss: 0.2143 Sel_Loss: 0.4216 Pred_Loss: 0.5183 Dis_Loss: 0.3366 Spa: 0.2544 BAC: 0.9130 PAC: 0.7364 DAC: 0.7004 IoU: 0.2080\n"
     ]
    },
    {
     "data": {
      "application/vnd.jupyter.widget-view+json": {
       "model_id": "44623d27658f441aa8b45eb34adcd5ec",
       "version_major": 2,
       "version_minor": 0
      },
      "text/plain": [
       "HBox(children=(IntProgress(value=0, max=1000), HTML(value='')))"
      ]
     },
     "metadata": {},
     "output_type": "display_data"
    },
    {
     "name": "stdout",
     "output_type": "stream",
     "text": [
      "\n",
      "valid Final_Base: 1.6851 Base_Loss: 0.3113 Sel_Loss: 0.0905 Pred_Loss: 0.7240 Dis_Loss: 0.6498 Spa: 0.1967 BAC: 0.8370 PAC: 0.5930 DAC: 0.3150 IoU: 0.1818\n",
      "Epoch 3/9\n",
      "----------\n"
     ]
    },
    {
     "data": {
      "application/vnd.jupyter.widget-view+json": {
       "model_id": "c731a4f79973443690d934fc44c1a7e2",
       "version_major": 2,
       "version_minor": 0
      },
      "text/plain": [
       "HBox(children=(IntProgress(value=0, max=1999), HTML(value='')))"
      ]
     },
     "metadata": {},
     "output_type": "display_data"
    },
    {
     "name": "stdout",
     "output_type": "stream",
     "text": [
      "\n",
      "train Final_Base: 0.9409 Base_Loss: 0.1705 Sel_Loss: 0.6623 Pred_Loss: 0.5256 Dis_Loss: 0.2448 Spa: 0.2021 BAC: 0.9315 PAC: 0.7154 DAC: 0.7759 IoU: 0.1695\n"
     ]
    },
    {
     "data": {
      "application/vnd.jupyter.widget-view+json": {
       "model_id": "c090c2306abd415480fec0839fb55b57",
       "version_major": 2,
       "version_minor": 0
      },
      "text/plain": [
       "HBox(children=(IntProgress(value=0, max=1000), HTML(value='')))"
      ]
     },
     "metadata": {},
     "output_type": "display_data"
    },
    {
     "name": "stdout",
     "output_type": "stream",
     "text": [
      "\n",
      "valid Final_Base: 8.5520 Base_Loss: 0.3263 Sel_Loss: -0.9205 Pred_Loss: 7.6081 Dis_Loss: 0.6176 Spa: 0.1900 BAC: 0.8680 PAC: 0.5010 DAC: 0.3770 IoU: 0.1276\n",
      "Epoch 4/9\n",
      "----------\n"
     ]
    },
    {
     "data": {
      "application/vnd.jupyter.widget-view+json": {
       "model_id": "ce0ada8f394e4d09a5279168697528ac",
       "version_major": 2,
       "version_minor": 0
      },
      "text/plain": [
       "HBox(children=(IntProgress(value=0, max=1999), HTML(value='')))"
      ]
     },
     "metadata": {},
     "output_type": "display_data"
    },
    {
     "name": "stdout",
     "output_type": "stream",
     "text": [
      "\n",
      "train Final_Base: 0.8372 Base_Loss: 0.1310 Sel_Loss: 0.9457 Pred_Loss: 0.4965 Dis_Loss: 0.2097 Spa: 0.2295 BAC: 0.9485 PAC: 0.7579 DAC: 0.8089 IoU: 0.1802\n"
     ]
    },
    {
     "data": {
      "application/vnd.jupyter.widget-view+json": {
       "model_id": "11e623b509854b7895dac75ffb2ff31c",
       "version_major": 2,
       "version_minor": 0
      },
      "text/plain": [
       "HBox(children=(IntProgress(value=0, max=1000), HTML(value='')))"
      ]
     },
     "metadata": {},
     "output_type": "display_data"
    },
    {
     "name": "stdout",
     "output_type": "stream",
     "text": [
      "\n",
      "valid Final_Base: 2.1716 Base_Loss: 0.7875 Sel_Loss: 0.1177 Pred_Loss: 0.7509 Dis_Loss: 0.6332 Spa: 0.2417 BAC: 0.8160 PAC: 0.5510 DAC: 0.3400 IoU: 0.1945\n",
      "Epoch 5/9\n",
      "----------\n"
     ]
    },
    {
     "data": {
      "application/vnd.jupyter.widget-view+json": {
       "model_id": "d3cdd9ef0c224732ba9da8f445ed89f0",
       "version_major": 2,
       "version_minor": 0
      },
      "text/plain": [
       "HBox(children=(IntProgress(value=0, max=1999), HTML(value='')))"
      ]
     },
     "metadata": {},
     "output_type": "display_data"
    },
    {
     "name": "stdout",
     "output_type": "stream",
     "text": [
      "\n",
      "train Final_Base: 0.8216 Base_Loss: 0.1260 Sel_Loss: 0.9216 Pred_Loss: 0.5260 Dis_Loss: 0.1695 Spa: 0.1821 BAC: 0.9500 PAC: 0.7299 DAC: 0.8339 IoU: 0.1361\n"
     ]
    },
    {
     "data": {
      "application/vnd.jupyter.widget-view+json": {
       "model_id": "17820a05f7c4450c8890f4ec23862a94",
       "version_major": 2,
       "version_minor": 0
      },
      "text/plain": [
       "HBox(children=(IntProgress(value=0, max=1000), HTML(value='')))"
      ]
     },
     "metadata": {},
     "output_type": "display_data"
    },
    {
     "name": "stdout",
     "output_type": "stream",
     "text": [
      "\n",
      "valid Final_Base: 2.6677 Base_Loss: 0.7634 Sel_Loss: 0.3409 Pred_Loss: 1.3495 Dis_Loss: 0.5548 Spa: 0.1771 BAC: 0.8320 PAC: 0.5110 DAC: 0.4490 IoU: 0.1277\n",
      "Epoch 6/9\n",
      "----------\n"
     ]
    },
    {
     "data": {
      "application/vnd.jupyter.widget-view+json": {
       "model_id": "da8d473511ce4d2480b04bf68546deb0",
       "version_major": 2,
       "version_minor": 0
      },
      "text/plain": [
       "HBox(children=(IntProgress(value=0, max=1999), HTML(value='')))"
      ]
     },
     "metadata": {},
     "output_type": "display_data"
    },
    {
     "name": "stdout",
     "output_type": "stream",
     "text": [
      "\n",
      "train Final_Base: 0.7262 Base_Loss: 0.1020 Sel_Loss: 1.1436 Pred_Loss: 0.4694 Dis_Loss: 0.1549 Spa: 0.2018 BAC: 0.9640 PAC: 0.7639 DAC: 0.8589 IoU: 0.1647\n"
     ]
    },
    {
     "data": {
      "application/vnd.jupyter.widget-view+json": {
       "model_id": "0407c2f1c5d14ed3bfd17798431ec8ba",
       "version_major": 2,
       "version_minor": 0
      },
      "text/plain": [
       "HBox(children=(IntProgress(value=0, max=1000), HTML(value='')))"
      ]
     },
     "metadata": {},
     "output_type": "display_data"
    }
   ],
   "source": [
    "dc.train()"
   ]
  },
  {
   "cell_type": "code",
   "execution_count": null,
   "metadata": {},
   "outputs": [],
   "source": [
    "!nvidia-smi"
   ]
  }
 ],
 "metadata": {
  "kernelspec": {
   "display_name": "Python 3",
   "language": "python",
   "name": "python3"
  },
  "language_info": {
   "codemirror_mode": {
    "name": "ipython",
    "version": 3
   },
   "file_extension": ".py",
   "mimetype": "text/x-python",
   "name": "python",
   "nbconvert_exporter": "python",
   "pygments_lexer": "ipython3",
   "version": "3.6.5"
  }
 },
 "nbformat": 4,
 "nbformat_minor": 2
}
