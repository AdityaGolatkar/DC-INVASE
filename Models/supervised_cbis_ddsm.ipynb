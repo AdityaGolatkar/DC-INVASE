{
 "cells": [
  {
   "cell_type": "code",
   "execution_count": 20,
   "metadata": {},
   "outputs": [],
   "source": [
    "#Pytorch\n",
    "import torch\n",
    "import torch.nn.functional as F\n",
    "import torch.nn as nn\n",
    "import torch.optim as optim\n",
    "from torch.optim import lr_scheduler\n",
    "\n",
    "#Torchvision\n",
    "import torchvision\n",
    "from torchvision import datasets, models, transforms, utils\n",
    "from torch.utils.data import Dataset, DataLoader\n",
    "\n",
    "#Image Processing\n",
    "import matplotlib.pyplot as plt\n",
    "from skimage import io, transform, color\n",
    "import PIL\n",
    "from PIL import Image\n",
    "import augmentations\n",
    "from augmentations import *\n",
    "\n",
    "#Others\n",
    "import sklearn.metrics\n",
    "from sklearn.metrics import *\n",
    "import numpy as np\n",
    "import pandas as pd\n",
    "import cv2\n",
    "import time\n",
    "import os\n",
    "import copy\n",
    "from model_summary import *\n",
    "import pretrainedmodels\n",
    "import tqdm\n",
    "from tqdm import tqdm_notebook as tqdm\n",
    "import warnings\n",
    "warnings.filterwarnings(\"ignore\")\n",
    "\n",
    "## Dataloader\n",
    "\n",
    "class dataset(Dataset):\n",
    "\n",
    "    def __init__(self, csv_file, root_dir, transform=None):\n",
    "\n",
    "        self.data_frame = pd.read_csv(csv_file)\n",
    "        self.root_dir = root_dir\n",
    "        self.transform = transform\n",
    "        self.mask_dir = '../Data/mask_orient_cropped/'\n",
    "        self.dist_mask_dir = '../Data/distance_mask_orient_cropped/'\n",
    "        \n",
    "    def __len__(self):\n",
    "        return len(self.data_frame)\n",
    "\n",
    "    def __getitem__(self, idx):\n",
    "\n",
    "        #get the image\n",
    "        img_name = os.path.join(self.root_dir,self.data_frame.iloc[idx]['name'])\n",
    "        image = Image.open(img_name)\n",
    "        \n",
    "        #get the mask\n",
    "        mask_name = os.path.join(self.mask_dir,self.data_frame.iloc[idx]['name'].replace('.j','_mask.j'))\n",
    "        mask = io.imread(mask_name)\n",
    "        \n",
    "        #get the distance mask\n",
    "        dist_mask_name = os.path.join(self.dist_mask_dir,self.data_frame.iloc[idx]['name'].replace('.j','_mask.j'))\n",
    "        dist_mask = io.imread(dist_mask_name)\n",
    "\n",
    "        #add the distance mask as the final channel of the \n",
    "        mask = np.array([mask,mask,dist_mask]).transpose((1,2,0))\n",
    "        mask = Image.fromarray(mask)     \n",
    "\n",
    "        if self.transform:\n",
    "            image,mask = self.transform(image,mask)\n",
    "        \n",
    "        mask_final = mask[0,:,:]\n",
    "        mask_final[mask_final<0.5] = 0\n",
    "        mask_final[mask_final>0.5] = 1\n",
    "        \n",
    "        dist_mask = mask[2,:,:]\n",
    "        \n",
    "        return {'image':image, 'mask':mask_final, 'dist_mask':dist_mask, 'name':self.data_frame.iloc[idx]['name']}\n",
    "    \n",
    "\n",
    "def get_dataloader(data_dir, train_csv_path, img_mean, img_std, batch_size=1):\n",
    "\n",
    "    data_transforms = {\n",
    "        'train': Compose([\n",
    "            RandomHorizontallyFlip(0.5),\n",
    "            RandomVerticallyFlip(0.5),\n",
    "            RandomTranslate((0.1,0.1)),\n",
    "            RandomRotate(90),\n",
    "            ToTensor(),\n",
    "            Normalize(img_mean,img_std)\n",
    "        ]),\n",
    "        'valid': Compose([\n",
    "            ToTensor(),\n",
    "            Normalize(img_mean,img_std)\n",
    "        ]),\n",
    "        'test': Compose([\n",
    "            ToTensor(),\n",
    "            Normalize(img_mean,img_std)        \n",
    "        ])\n",
    "    }\n",
    "\n",
    "    image_datasets = {}\n",
    "    dataloaders = {}\n",
    "    dataset_sizes = {}\n",
    "\n",
    "    for x in ['train', 'valid', 'test']:\n",
    "        if x == 'train':\n",
    "            bs = batch_size\n",
    "            sh = True\n",
    "        elif x == 'valid':\n",
    "            bs = batch_size\n",
    "            sh = False\n",
    "        else:\n",
    "            bs = 1\n",
    "            sh = False\n",
    "        image_datasets[x] = dataset(train_csv_path.replace('train',x),root_dir=data_dir,transform=data_transforms[x])\n",
    "        dataloaders[x] = torch.utils.data.DataLoader(image_datasets[x], batch_size=bs,shuffle=sh, num_workers=8)    \n",
    "        dataset_sizes[x] = len(image_datasets[x])\n",
    "\n",
    "    device = torch.device(\"cuda:0\")\n",
    "\n",
    "    return dataloaders,dataset_sizes,image_datasets,device\n",
    "\n",
    "# a,_,_,_ = get_dataloader('../Data/CBIS-DDSM_classification_orient_cropped/','../CSV/gain_train.csv',[0,0,0],[1,1,1],1)\n",
    "\n",
    "class SaveFeatures():\n",
    "    features=None\n",
    "    def __init__(self, m): self.hook = m.register_forward_hook(self.hook_fn)\n",
    "    def hook_fn(self, module, input, output): self.features = output\n",
    "    def remove(self): self.hook.remove()\n",
    "\n",
    "class UnetBlock(nn.Module):\n",
    "    def __init__(self, up_in, x_in, n_out):\n",
    "        super().__init__()\n",
    "        up_out = x_out = n_out//2\n",
    "        self.x_conv  = nn.Conv2d(x_in,  x_out,  1)\n",
    "        self.tr_conv = nn.ConvTranspose2d(up_in, up_out, 2, stride=2)\n",
    "        self.bn = nn.BatchNorm2d(n_out)\n",
    "        \n",
    "    def forward(self, up_p, x_p):\n",
    "        up_p = self.tr_conv(up_p)\n",
    "        x_p = self.x_conv(x_p)\n",
    "        cat_p = torch.cat([up_p,x_p], dim=1)\n",
    "        return self.bn(F.relu(cat_p))\n",
    "\n",
    "class Unet34(nn.Module):\n",
    "    def __init__(self, rn):\n",
    "        super().__init__()\n",
    "        self.rn = rn\n",
    "        self.sfs = [SaveFeatures(rn[0][i]) for i in [12,22,32,42]]\n",
    "        self.up1 = UnetBlock(512,512,256)\n",
    "        self.up2 = UnetBlock(256,512,256)\n",
    "        self.up3 = UnetBlock(256,256,256)\n",
    "        self.up4 = UnetBlock(256,128,256)\n",
    "        self.up5 = nn.ConvTranspose2d(256, 1, 2, stride=2)\n",
    "        \n",
    "    def forward(self,x):\n",
    "        x = F.relu(self.rn(x))\n",
    "        x = self.up1(x, self.sfs[3].features)\n",
    "        x = self.up2(x, self.sfs[2].features)\n",
    "        x = self.up3(x, self.sfs[1].features)\n",
    "        x = self.up4(x, self.sfs[0].features)\n",
    "        x = self.up5(x)\n",
    "        return x\n",
    "    \n",
    "    def close(self):\n",
    "        for sf in self.sfs: sf.remove()\n",
    "\n",
    "def build_model():\n",
    "    v = models.vgg16_bn(pretrained=True)\n",
    "    v1 = nn.Sequential(*list(v.children())[:-1])\n",
    "    m = Unet34(v1)\n",
    "    return m\n",
    "\n",
    "# a = build_model()\n",
    "\n",
    "# summary(a.cuda(),(3,256,256))\n",
    "\n",
    "def get_IoU(pred, targs):\n",
    "    return 2*(pred*targs).sum() / ((pred+targs).sum())# - (pred*targs).sum())\n",
    "\n",
    "def new_metric(preds,targs,device,patch_size=64):\n",
    "    \n",
    "    mask = targs\n",
    "    b,c,h,w = preds.size()\n",
    "    \n",
    "#     conv_filter = torch.ones((1, 1, 5, 5))/25\n",
    "#     conv_filter = conv_filter.to(device)\n",
    "#     filtered_preds = F.conv2d(preds, conv_filter, padding=2)\n",
    "#     max_loc = torch.argmax(filtered_preds)\n",
    "#     h_loc = int(max_loc%h)\n",
    "#     w_loc = int(max_loc/h)\n",
    "\n",
    "    temp = preds\n",
    "    temp = temp.detach().cpu().numpy()\n",
    "    temp = temp.squeeze()\n",
    "    temp[temp>0] = 1\n",
    "    temp[temp<0] = 0\n",
    "    #import pdb;pdb.set_trace()\n",
    "    hs,ws = np.where(temp==1)\n",
    "    try:\n",
    "        h_loc = int(hs.mean())\n",
    "        w_loc = int(ws.mean())\n",
    "    except:\n",
    "        return 0\n",
    "    \n",
    "    h_up = max(0,h_loc-patch_size//2)\n",
    "    h_bottom = min(h,h_loc+patch_size//2)\n",
    "    \n",
    "    w_left = max(0,w_loc-patch_size//2)\n",
    "    w_right = min(w,w_loc+patch_size//2)\n",
    "    \n",
    "    if h_up == 0:\n",
    "        h_bottom = min(patch_size,h)\n",
    "    elif h_bottom == h:\n",
    "        h_up = max(0,-patch_size+h)\n",
    "        \n",
    "    if w_left == 0:\n",
    "        w_right = min(patch_size,w)\n",
    "    elif w_right == w:\n",
    "        w_left = max(0,-patch_size+w)\n",
    "    \n",
    "    mask_loc = mask[0,h_up:h_bottom,w_left:w_right]\n",
    "    return 1.0*mask_loc.sum()/(mask.sum()+1)\n",
    "    \n",
    "    \n",
    "class SoftDiceLoss(nn.Module):\n",
    "    def __init__(self, weight=None, size_average=True):\n",
    "        super(SoftDiceLoss, self).__init__()\n",
    "\n",
    "    def forward(self, logits, targets):\n",
    "        smooth = 1\n",
    "        num = targets.size(0)\n",
    "        probs = F.sigmoid(1*(logits))\n",
    "        m1 = probs.view(num, -1)\n",
    "        m2 = targets.view(num, -1)\n",
    "        intersection = (m1 * m2)\n",
    "\n",
    "        score = 2. * (intersection.sum(1) + smooth) / (m1.sum(1) + m2.sum(1) + smooth)\n",
    "        score = 1 - score.sum() / num\n",
    "        return score\n",
    "    \n",
    "class DistanceLoss(nn.Module):\n",
    "    def __init__(self, weight=None, size_average=True):\n",
    "        super(DistanceLoss, self).__init__()\n",
    "\n",
    "    def forward(self, logits, targets, mask):\n",
    "    \n",
    "        num = targets.size(0)\n",
    "        probs = F.sigmoid(logits)\n",
    "        pr = probs.view(num, -1)\n",
    "        di = targets.view(num, -1)\n",
    "        ma = mask.view(num,-1)\n",
    "        \n",
    "#         intersection = (m1 * m2)\n",
    "#         score = intersection.sum()/m2.sum()\n",
    "\n",
    "        #loss = di*((1-pr)*ma + pr*(1-ma))\n",
    "        loss = -(ma*torch.log(pr+1e-6)*di + (1-ma)*torch.log(1-pr+1e-6)*di)\n",
    "        \n",
    "        return torch.mean(loss)\n",
    "    \n",
    "class FocalLoss(nn.Module):\n",
    "    def __init__(self, gamma=0, alpha=None):\n",
    "        super(FocalLoss, self).__init__()\n",
    "        self.gamma = gamma\n",
    "        self.alpha = alpha\n",
    "        \n",
    "    def forward(self, input, target):\n",
    "        input = input.view(-1)\n",
    "        target = target.view(-1)\n",
    "        target_a = target*self.alpha\n",
    "        target_1_a = (1-target)*(1-self.alpha)\n",
    "        \n",
    "        pt = F.sigmoid(input)\n",
    "    \n",
    "        loss = target_a*((1-pt)**self.gamma)*torch.log(pt+1e-8) + target_1_a*((pt)**self.gamma)*torch.log(1-pt+1e-8) \n",
    "        loss = -loss.mean()\n",
    "        \n",
    "        return loss   \n",
    "    \n",
    "class VGG_unet_bc():\n",
    "    def __init__(self):\n",
    "        \n",
    "        #Initialization\n",
    "        self.data_dir = '../Data/CBIS-DDSM_classification_orient_cropped/'\n",
    "        self.train_csv = '../CSV/mass_segmentation_train.csv'\n",
    "        self.num_epochs = 30\n",
    "        self.batch_size = 1\n",
    "        self.img_mean = [0.253, 0.238, 0.234]\n",
    "        self.img_std = [0.272, 0.268, 0.262]\n",
    "        self.exp_name = 'Weights/VGG_unet_cbis_ddsm_diceloss_distloss'\n",
    "        self.mean_pixel = 0\n",
    "        \n",
    "        #Define the three models\n",
    "        self.model = build_model()\n",
    "        \n",
    "        #Put them on the GPU\n",
    "        self.model = self.model.cuda()\n",
    "        #self.model.load_state_dict(torch.load(self.exp_name+'.pt'))\n",
    "        \n",
    "        #Get the dataloaders\n",
    "        self.dataloaders,self.dataset_sizes,self.dataset,self.device = get_dataloader(self.data_dir,self.train_csv,\\\n",
    "                                                        self.img_mean,self.img_std,self.batch_size)\n",
    "        \n",
    "\n",
    "        self.optimizer = optim.Adam(self.model.parameters(),lr=1e-4, betas=(0.9, 0.999), eps=1e-08, weight_decay=0, amsgrad=False)\n",
    "        \n",
    "        #self.lr_scheduler = CosineAnnealingLR(self.optimizer,T_max=10,eta_min=1e-4)\n",
    "    \n",
    "        \n",
    "    def train(self):\n",
    "        \n",
    "        since = time.time()\n",
    "        best_epoch_acc = 0.0\n",
    "        best_epoch_iou = 0.0\n",
    "        best_epoch_metric = 0.0\n",
    "        \n",
    "        for epoch in range(self.num_epochs):\n",
    "            print('Epoch {}/{}'.format(epoch, self.num_epochs - 1),flush=True)\n",
    "            print('-' * 10,flush=True)\n",
    "\n",
    "            # Each epoch has a training and validation phase\n",
    "            for phase in ['train', 'valid']:\n",
    "                if phase == 'train':\n",
    "                    \n",
    "                    #Set the models to training mode\n",
    "                    #self.lr_scheduler.step()\n",
    "                    self.model.train()\n",
    "                \n",
    "                else:\n",
    "                    #Set the models to evaluation mode\n",
    "                    self.model.eval()\n",
    "                    \n",
    "                #Keep a track of all the three loss\n",
    "                running_loss = 0.0\n",
    "                running_dice_loss = 0.0\n",
    "                running_dist_loss = 0.0\n",
    "                running_mean_loss = 0.0\n",
    "                \n",
    "                #Metrics : predictor auc and selector iou\n",
    "                running_iou = 0\n",
    "                running_new_metric = 0\n",
    "                \n",
    "                #tqdm bar\n",
    "                pbar = tqdm(total=self.dataset_sizes[phase])\n",
    "\n",
    "                # Iterate over data.\n",
    "                for sampled_batch in self.dataloaders[phase]:\n",
    "\n",
    "                    inputs = sampled_batch['image']\n",
    "                    mask = sampled_batch['mask']\n",
    "                    dist_mask = sampled_batch['dist_mask']\n",
    "                   \n",
    "                    #Input needs to be float and labels long\n",
    "                    inputs = inputs.float().to(self.device)\n",
    "                    mask = mask.to(self.device)\n",
    "                    dist_mask = dist_mask.to(self.device)\n",
    "                    \n",
    "                    # zero the parameter gradients\n",
    "                    self.optimizer.zero_grad()\n",
    "                \n",
    "                    # forward\n",
    "                    # track history if only in train\n",
    "                    with torch.set_grad_enabled(phase == 'train'):\n",
    "                        \n",
    "                        outputs = self.model(inputs)\n",
    "                        \n",
    "                        out4loss = outputs.view(-1)\n",
    "                        mask4loss = mask.view(-1)\n",
    "                        dm4loss = dist_mask.view(-1)\n",
    "                        \n",
    "                        z_c = float((mask==0).sum())\n",
    "                        o_c = float((mask==1).sum())\n",
    "                        alpha = z_c/(z_c+o_c)\n",
    "                        \n",
    "                        ce_loss = nn.BCEWithLogitsLoss()(out4loss,mask4loss)\n",
    "                        #ce_loss = FocalLoss(2,alpha)(outputs,mask)\n",
    "                        dice_loss = SoftDiceLoss()(outputs,mask)\n",
    "                        dist_loss = DistanceLoss()(outputs,dist_mask,mask)\n",
    "                        mean_loss = torch.abs(torch.mean(outputs) - self.mean_pixel)\n",
    "                        #print(mean_loss,torch.mean(outputs))\n",
    "                        \n",
    "                        loss = ce_loss + dist_loss\n",
    "                        #print(dice_loss,dist_loss)\n",
    "                        \n",
    "                        #print((F.sigmoid(out4loss)*dm4loss).sum(),(outputs>0).sum(),maskdm4loss.sum())\n",
    "                        #import pdb;pdb.set_trace()\n",
    "                        \n",
    "                        # backward + optimize only if in training phase\n",
    "                        if phase == 'train':\n",
    "                            \n",
    "                            loss.backward()\n",
    "                            self.optimizer.step()\n",
    "                                    \n",
    "                    out4iou = out4loss\n",
    "                    out4iou[out4loss>0] = 1\n",
    "                    out4iou[out4loss<0] = 0\n",
    "                    # statistics\n",
    "                    running_loss += loss.item() * inputs.size(0)\n",
    "                    running_dice_loss += dice_loss.item() * inputs.size(0)\n",
    "                    running_dist_loss += dist_loss.item() * inputs.size(0)\n",
    "                    running_mean_loss += mean_loss.item() * inputs.size(0)\n",
    "                    running_iou += get_IoU(out4loss,mask4loss) * inputs.size(0)\n",
    "                    running_new_metric += new_metric(outputs,mask,self.device,64) * inputs.size(0)\n",
    "                    #print(running_new_metric)\n",
    "                    #print(running_iou)\n",
    "                    \n",
    "                    pbar.update(inputs.shape[0])\n",
    "                pbar.close()\n",
    "\n",
    "                epoch_loss = running_loss / self.dataset_sizes[phase]\n",
    "                epoch_dice_loss = running_dice_loss / self.dataset_sizes[phase]\n",
    "                epoch_dist_loss = running_dist_loss / self.dataset_sizes[phase]\n",
    "                epoch_mean_loss = running_mean_loss / self.dataset_sizes[phase]\n",
    "                epoch_iou = running_iou / self.dataset_sizes[phase]\n",
    "                epoch_new_metric = running_new_metric / self.dataset_sizes[phase]\n",
    "                \n",
    "                print('{} Loss: {:.4f} Dice_Loss: {:.4f} Dist_Loss: {:.4f} Mean_Loss: {:.4f} IoU: {:.4f} New Metric: {:.4f}'.format(\n",
    "                    phase, epoch_loss, epoch_dice_loss, epoch_dist_loss, epoch_mean_loss, epoch_iou, epoch_new_metric))\n",
    "\n",
    "                # deep copy the model\n",
    "                if phase == 'valid' and epoch_new_metric > best_epoch_metric:\n",
    "                    best_epoch_metric = epoch_new_metric\n",
    "                    torch.save(self.model.state_dict(),self.exp_name+'.pt')\n",
    "                    \n",
    "        time_elapsed = time.time() - since\n",
    "        print('Training complete in {:.0f}m {:.0f}s'.format(\n",
    "            time_elapsed // 60, time_elapsed % 60))\n",
    "        print('Best new metric: {:4f}'.format(best_epoch_metric))\n",
    "\n",
    "        torch.save(self.model.state_dict(),self.exp_name+'_final.pt')\n",
    "        \n",
    "        print('Training completed finally !!!!!')\n",
    "        \n",
    "        \n",
    "    def test_model(self):\n",
    "                \n",
    "        self.model.load_state_dict(torch.load(self.exp_name+'.pt'))\n",
    "        self.model.eval()\n",
    "        \n",
    "        mIoU = 0\n",
    "        running_iou = 0\n",
    "        running_new_metric = 0\n",
    "        \n",
    "        total = 0\n",
    "        mode = 'valid'\n",
    "\n",
    "        image_list = []\n",
    "        mask_list = []\n",
    "        pred_list = []\n",
    "        i=0\n",
    "        \n",
    "        with torch.no_grad():\n",
    "            \n",
    "            for data in self.dataloaders[mode]:\n",
    "\n",
    "                images = data['image'].to(self.device)\n",
    "                mask = data['mask'].to(self.device)\n",
    "                dist_mask = data['dist_mask']\n",
    "                \n",
    "                preds = self.model(images)\n",
    "                \n",
    "                out4metric = preds.view(-1)\n",
    "                mask4metric = mask.view(-1)\n",
    "                \n",
    "#                 prediction = preds[:]\n",
    "                \n",
    "#                 #import pdb;pdb.set_trace()\n",
    "#                 sorted_pixels = sorted(prediction.cpu().numpy().reshape(-1))\n",
    "                \n",
    "#                 thresh = float(sorted_pixels[int(0.99*len(sorted_pixels))])\n",
    "                \n",
    "#                 i+=1\n",
    "#                 prediction[prediction>thresh] = 255\n",
    "#                 prediction[prediction<thresh] = 0\n",
    "#                 prediction = prediction/255\n",
    "\n",
    "                prediction = preds\n",
    "                prediction[prediction>0] = 1\n",
    "                prediction[prediction<0] = 0\n",
    "\n",
    "                running_iou += get_IoU(prediction.view(-1),mask4metric) * images.size(0)\n",
    "                running_new_metric += new_metric(prediction,mask,self.device,64)\n",
    "                \n",
    "                base_path = '../Experiments/cbis_ddsm_sup/'\n",
    "                name = data['name'][0]\n",
    "\n",
    "                pr = name.replace('.j','_supervised_out_mask_2.j')\n",
    "                \n",
    "                preds = preds - preds.min()\n",
    "                preds = preds/preds.max()\n",
    "                \n",
    "                cv2.imwrite(base_path+pr,prediction.cpu().numpy().squeeze()*255)\n",
    "                #cv2.imwrite(base_path+pr.replace('.j','_probs.j'),preds.cpu().numpy().squeeze()*255)\n",
    "                \n",
    "                \n",
    "        mIoU = running_iou/self.dataset_sizes[mode]\n",
    "        new_met = running_new_metric/self.dataset_sizes[mode]\n",
    "        print('mean IoU:',mIoU)\n",
    "        print('new metric',new_met)\n",
    "\n",
    "#                 image_list.append(images.squeeze().cpu().numpy().transpose((1,2,0)))\n",
    "#                 mask_list.append(mask.transpose((1,2,0)).squeeze())\n",
    "#                 pred_list.append(preds.squeeze().cpu().numpy())\n",
    "\n",
    "#         return image_list,mask_list,pred_list\n",
    "    "
   ]
  },
  {
   "cell_type": "code",
   "execution_count": 21,
   "metadata": {},
   "outputs": [],
   "source": [
    "u = VGG_unet_bc()"
   ]
  },
  {
   "cell_type": "code",
   "execution_count": 22,
   "metadata": {
    "scrolled": true
   },
   "outputs": [
    {
     "name": "stdout",
     "output_type": "stream",
     "text": [
      "Epoch 0/29\n",
      "----------\n"
     ]
    },
    {
     "data": {
      "application/vnd.jupyter.widget-view+json": {
       "model_id": "1dd73a9321a34ec8a0e2f590633e2ee0",
       "version_major": 2,
       "version_minor": 0
      },
      "text/plain": [
       "HBox(children=(IntProgress(value=0, max=924), HTML(value='')))"
      ]
     },
     "metadata": {},
     "output_type": "display_data"
    },
    {
     "name": "stdout",
     "output_type": "stream",
     "text": [
      "\n",
      "train Loss: 0.4906 Dice_Loss: 0.9722 Dist_Loss: 0.1275 Mean_Loss: 1.1094 IoU: 0.2037 New Metric: 0.4298\n"
     ]
    },
    {
     "data": {
      "application/vnd.jupyter.widget-view+json": {
       "model_id": "e2c54c61e6a84338bea701e71dd6354c",
       "version_major": 2,
       "version_minor": 0
      },
      "text/plain": [
       "HBox(children=(IntProgress(value=0, max=307), HTML(value='')))"
      ]
     },
     "metadata": {},
     "output_type": "display_data"
    },
    {
     "name": "stdout",
     "output_type": "stream",
     "text": [
      "\n",
      "valid Loss: 0.0996 Dice_Loss: 0.9528 Dist_Loss: 0.0283 Mean_Loss: 2.8049 IoU: 0.2065 New Metric: 0.3452\n",
      "Epoch 1/29\n",
      "----------\n"
     ]
    },
    {
     "data": {
      "application/vnd.jupyter.widget-view+json": {
       "model_id": "b5fd22104f4745b0b3a2496e54ba1c55",
       "version_major": 2,
       "version_minor": 0
      },
      "text/plain": [
       "HBox(children=(IntProgress(value=0, max=924), HTML(value='')))"
      ]
     },
     "metadata": {},
     "output_type": "display_data"
    },
    {
     "name": "stdout",
     "output_type": "stream",
     "text": [
      "\n",
      "train Loss: 0.0552 Dice_Loss: 0.8986 Dist_Loss: 0.0118 Mean_Loss: 3.6419 IoU: nan New Metric: 0.5292\n"
     ]
    },
    {
     "data": {
      "application/vnd.jupyter.widget-view+json": {
       "model_id": "4a94168adadd41229bcb8960b7923598",
       "version_major": 2,
       "version_minor": 0
      },
      "text/plain": [
       "HBox(children=(IntProgress(value=0, max=307), HTML(value='')))"
      ]
     },
     "metadata": {},
     "output_type": "display_data"
    },
    {
     "name": "stdout",
     "output_type": "stream",
     "text": [
      "\n",
      "valid Loss: 0.0348 Dice_Loss: 0.8998 Dist_Loss: 0.0062 Mean_Loss: 4.5155 IoU: 0.1533 New Metric: 0.2538\n",
      "Epoch 2/29\n",
      "----------\n"
     ]
    },
    {
     "data": {
      "application/vnd.jupyter.widget-view+json": {
       "model_id": "152645a723cd43a5bd6dbe03b9eafd2f",
       "version_major": 2,
       "version_minor": 0
      },
      "text/plain": [
       "HBox(children=(IntProgress(value=0, max=924), HTML(value='')))"
      ]
     },
     "metadata": {},
     "output_type": "display_data"
    },
    {
     "name": "stdout",
     "output_type": "stream",
     "text": [
      "\n",
      "train Loss: 0.0278 Dice_Loss: 0.8178 Dist_Loss: 0.0042 Mean_Loss: 4.9440 IoU: nan New Metric: 0.5452\n"
     ]
    },
    {
     "data": {
      "application/vnd.jupyter.widget-view+json": {
       "model_id": "d8b1fcf00c994533a9e10c8c6ee0155c",
       "version_major": 2,
       "version_minor": 0
      },
      "text/plain": [
       "HBox(children=(IntProgress(value=0, max=307), HTML(value='')))"
      ]
     },
     "metadata": {},
     "output_type": "display_data"
    },
    {
     "name": "stdout",
     "output_type": "stream",
     "text": [
      "\n",
      "valid Loss: 0.0254 Dice_Loss: 0.8132 Dist_Loss: 0.0033 Mean_Loss: 5.5387 IoU: 0.2428 New Metric: 0.3876\n",
      "Epoch 3/29\n",
      "----------\n"
     ]
    },
    {
     "data": {
      "application/vnd.jupyter.widget-view+json": {
       "model_id": "c0c5116828bc43d986b4e29427e07ac8",
       "version_major": 2,
       "version_minor": 0
      },
      "text/plain": [
       "HBox(children=(IntProgress(value=0, max=924), HTML(value='')))"
      ]
     },
     "metadata": {},
     "output_type": "display_data"
    },
    {
     "name": "stdout",
     "output_type": "stream",
     "text": [
      "\n",
      "train Loss: 0.0223 Dice_Loss: 0.7549 Dist_Loss: 0.0027 Mean_Loss: 5.7675 IoU: 0.3359 New Metric: 0.5686\n"
     ]
    },
    {
     "data": {
      "application/vnd.jupyter.widget-view+json": {
       "model_id": "f4c0a28edbb440f49c13b24c5129bf1b",
       "version_major": 2,
       "version_minor": 0
      },
      "text/plain": [
       "HBox(children=(IntProgress(value=0, max=307), HTML(value='')))"
      ]
     },
     "metadata": {},
     "output_type": "display_data"
    },
    {
     "name": "stdout",
     "output_type": "stream",
     "text": [
      "\n",
      "valid Loss: 0.0224 Dice_Loss: 0.7751 Dist_Loss: 0.0022 Mean_Loss: 6.3067 IoU: 0.2569 New Metric: 0.4237\n",
      "Epoch 4/29\n",
      "----------\n"
     ]
    },
    {
     "data": {
      "application/vnd.jupyter.widget-view+json": {
       "model_id": "bc2bbba4126245bab762c7b731f96c3b",
       "version_major": 2,
       "version_minor": 0
      },
      "text/plain": [
       "HBox(children=(IntProgress(value=0, max=924), HTML(value='')))"
      ]
     },
     "metadata": {},
     "output_type": "display_data"
    },
    {
     "name": "stdout",
     "output_type": "stream",
     "text": [
      "\n",
      "train Loss: 0.0205 Dice_Loss: 0.7257 Dist_Loss: 0.0023 Mean_Loss: 6.3957 IoU: nan New Metric: 0.5747\n"
     ]
    },
    {
     "data": {
      "application/vnd.jupyter.widget-view+json": {
       "model_id": "fdcf2bbb95494e10ae32913e5a1ef8fc",
       "version_major": 2,
       "version_minor": 0
      },
      "text/plain": [
       "HBox(children=(IntProgress(value=0, max=307), HTML(value='')))"
      ]
     },
     "metadata": {},
     "output_type": "display_data"
    },
    {
     "name": "stdout",
     "output_type": "stream",
     "text": [
      "\n",
      "valid Loss: 0.0229 Dice_Loss: 0.7715 Dist_Loss: 0.0019 Mean_Loss: 6.8843 IoU: 0.2400 New Metric: 0.3851\n",
      "Epoch 5/29\n",
      "----------\n"
     ]
    },
    {
     "data": {
      "application/vnd.jupyter.widget-view+json": {
       "model_id": "bdbc8351dd5a46f4936d3f2b0042ddb7",
       "version_major": 2,
       "version_minor": 0
      },
      "text/plain": [
       "HBox(children=(IntProgress(value=0, max=924), HTML(value='')))"
      ]
     },
     "metadata": {},
     "output_type": "display_data"
    },
    {
     "name": "stdout",
     "output_type": "stream",
     "text": [
      "\n",
      "train Loss: 0.0197 Dice_Loss: 0.7025 Dist_Loss: 0.0020 Mean_Loss: 6.8925 IoU: nan New Metric: 0.5895\n"
     ]
    },
    {
     "data": {
      "application/vnd.jupyter.widget-view+json": {
       "model_id": "176b0d359d9448b8adbc4b96e444332e",
       "version_major": 2,
       "version_minor": 0
      },
      "text/plain": [
       "HBox(children=(IntProgress(value=0, max=307), HTML(value='')))"
      ]
     },
     "metadata": {},
     "output_type": "display_data"
    },
    {
     "name": "stdout",
     "output_type": "stream",
     "text": [
      "\n",
      "valid Loss: 0.0249 Dice_Loss: 0.7748 Dist_Loss: 0.0020 Mean_Loss: 7.3350 IoU: 0.2161 New Metric: 0.3356\n",
      "Epoch 6/29\n",
      "----------\n"
     ]
    },
    {
     "data": {
      "application/vnd.jupyter.widget-view+json": {
       "model_id": "9d7d62a990894cc1807c376d5d5dcf27",
       "version_major": 2,
       "version_minor": 0
      },
      "text/plain": [
       "HBox(children=(IntProgress(value=0, max=924), HTML(value='')))"
      ]
     },
     "metadata": {},
     "output_type": "display_data"
    },
    {
     "name": "stdout",
     "output_type": "stream",
     "text": [
      "\n",
      "train Loss: 0.0193 Dice_Loss: 0.6970 Dist_Loss: 0.0019 Mean_Loss: 7.2976 IoU: nan New Metric: 0.5809\n"
     ]
    },
    {
     "data": {
      "application/vnd.jupyter.widget-view+json": {
       "model_id": "60301e77c3574670989a7fd69811b4b1",
       "version_major": 2,
       "version_minor": 0
      },
      "text/plain": [
       "HBox(children=(IntProgress(value=0, max=307), HTML(value='')))"
      ]
     },
     "metadata": {},
     "output_type": "display_data"
    },
    {
     "name": "stdout",
     "output_type": "stream",
     "text": [
      "\n",
      "valid Loss: 0.0234 Dice_Loss: 0.7859 Dist_Loss: 0.0016 Mean_Loss: 7.8259 IoU: 0.1852 New Metric: 0.3008\n",
      "Epoch 7/29\n",
      "----------\n"
     ]
    },
    {
     "data": {
      "application/vnd.jupyter.widget-view+json": {
       "model_id": "f865b40ba14f4be581f33bf784adc87d",
       "version_major": 2,
       "version_minor": 0
      },
      "text/plain": [
       "HBox(children=(IntProgress(value=0, max=924), HTML(value='')))"
      ]
     },
     "metadata": {},
     "output_type": "display_data"
    },
    {
     "name": "stdout",
     "output_type": "stream",
     "text": [
      "\n",
      "train Loss: 0.0188 Dice_Loss: 0.6819 Dist_Loss: 0.0019 Mean_Loss: 7.6185 IoU: nan New Metric: 0.6121\n"
     ]
    },
    {
     "data": {
      "application/vnd.jupyter.widget-view+json": {
       "model_id": "7847a498d97e48ddbe305086ee1fd95b",
       "version_major": 2,
       "version_minor": 0
      },
      "text/plain": [
       "HBox(children=(IntProgress(value=0, max=307), HTML(value='')))"
      ]
     },
     "metadata": {},
     "output_type": "display_data"
    },
    {
     "name": "stdout",
     "output_type": "stream",
     "text": [
      "\n",
      "valid Loss: 0.0233 Dice_Loss: 0.7511 Dist_Loss: 0.0016 Mean_Loss: 8.2533 IoU: 0.2299 New Metric: 0.3739\n",
      "Epoch 8/29\n",
      "----------\n"
     ]
    },
    {
     "data": {
      "application/vnd.jupyter.widget-view+json": {
       "model_id": "6831d875360444acb8617df46b0f5e12",
       "version_major": 2,
       "version_minor": 0
      },
      "text/plain": [
       "HBox(children=(IntProgress(value=0, max=924), HTML(value='')))"
      ]
     },
     "metadata": {},
     "output_type": "display_data"
    },
    {
     "name": "stdout",
     "output_type": "stream",
     "text": [
      "\n",
      "train Loss: 0.0184 Dice_Loss: 0.6760 Dist_Loss: 0.0018 Mean_Loss: 7.8734 IoU: nan New Metric: 0.6099\n"
     ]
    },
    {
     "data": {
      "application/vnd.jupyter.widget-view+json": {
       "model_id": "07f610d07e044a4eb73b4ca2e6408d0d",
       "version_major": 2,
       "version_minor": 0
      },
      "text/plain": [
       "HBox(children=(IntProgress(value=0, max=307), HTML(value='')))"
      ]
     },
     "metadata": {},
     "output_type": "display_data"
    },
    {
     "name": "stdout",
     "output_type": "stream",
     "text": [
      "\n",
      "valid Loss: 0.0237 Dice_Loss: 0.7246 Dist_Loss: 0.0018 Mean_Loss: 8.1604 IoU: 0.2828 New Metric: 0.4362\n",
      "Epoch 9/29\n",
      "----------\n"
     ]
    },
    {
     "data": {
      "application/vnd.jupyter.widget-view+json": {
       "model_id": "c30f4074d68949f3961a81d1fc5ee0f0",
       "version_major": 2,
       "version_minor": 0
      },
      "text/plain": [
       "HBox(children=(IntProgress(value=0, max=924), HTML(value='')))"
      ]
     },
     "metadata": {},
     "output_type": "display_data"
    },
    {
     "name": "stdout",
     "output_type": "stream",
     "text": [
      "\n",
      "train Loss: 0.0183 Dice_Loss: 0.6690 Dist_Loss: 0.0018 Mean_Loss: 8.0675 IoU: nan New Metric: 0.6149\n"
     ]
    },
    {
     "data": {
      "application/vnd.jupyter.widget-view+json": {
       "model_id": "e5cb8e4a9ade4bed8687b1a972c62394",
       "version_major": 2,
       "version_minor": 0
      },
      "text/plain": [
       "HBox(children=(IntProgress(value=0, max=307), HTML(value='')))"
      ]
     },
     "metadata": {},
     "output_type": "display_data"
    },
    {
     "name": "stdout",
     "output_type": "stream",
     "text": [
      "\n",
      "valid Loss: 0.0240 Dice_Loss: 0.7547 Dist_Loss: 0.0016 Mean_Loss: 8.4868 IoU: 0.2251 New Metric: 0.3266\n",
      "Epoch 10/29\n",
      "----------\n"
     ]
    },
    {
     "data": {
      "application/vnd.jupyter.widget-view+json": {
       "model_id": "598d7b1450ec40c0adce38ae99e06a48",
       "version_major": 2,
       "version_minor": 0
      },
      "text/plain": [
       "HBox(children=(IntProgress(value=0, max=924), HTML(value='')))"
      ]
     },
     "metadata": {},
     "output_type": "display_data"
    },
    {
     "name": "stdout",
     "output_type": "stream",
     "text": [
      "\n",
      "train Loss: 0.0178 Dice_Loss: 0.6551 Dist_Loss: 0.0017 Mean_Loss: 8.2303 IoU: nan New Metric: 0.6346\n"
     ]
    },
    {
     "data": {
      "application/vnd.jupyter.widget-view+json": {
       "model_id": "f7d23e0bb80e479aac0dfd588d6fd2bf",
       "version_major": 2,
       "version_minor": 0
      },
      "text/plain": [
       "HBox(children=(IntProgress(value=0, max=307), HTML(value='')))"
      ]
     },
     "metadata": {},
     "output_type": "display_data"
    },
    {
     "name": "stdout",
     "output_type": "stream",
     "text": [
      "\n",
      "valid Loss: 0.0216 Dice_Loss: 0.7219 Dist_Loss: 0.0016 Mean_Loss: 8.5272 IoU: 0.2774 New Metric: 0.4192\n",
      "Epoch 11/29\n",
      "----------\n"
     ]
    },
    {
     "data": {
      "application/vnd.jupyter.widget-view+json": {
       "model_id": "ef139a88efd54d0b86842a628a633408",
       "version_major": 2,
       "version_minor": 0
      },
      "text/plain": [
       "HBox(children=(IntProgress(value=0, max=924), HTML(value='')))"
      ]
     },
     "metadata": {},
     "output_type": "display_data"
    },
    {
     "name": "stdout",
     "output_type": "stream",
     "text": [
      "\n",
      "train Loss: 0.0175 Dice_Loss: 0.6488 Dist_Loss: 0.0017 Mean_Loss: 8.3517 IoU: nan New Metric: 0.6490\n"
     ]
    },
    {
     "data": {
      "application/vnd.jupyter.widget-view+json": {
       "model_id": "8d831cd3e4eb4111adf7ba8701c5da6e",
       "version_major": 2,
       "version_minor": 0
      },
      "text/plain": [
       "HBox(children=(IntProgress(value=0, max=307), HTML(value='')))"
      ]
     },
     "metadata": {},
     "output_type": "display_data"
    },
    {
     "name": "stdout",
     "output_type": "stream",
     "text": [
      "\n",
      "valid Loss: 0.0238 Dice_Loss: 0.6961 Dist_Loss: 0.0019 Mean_Loss: 8.6771 IoU: 0.3167 New Metric: 0.4543\n",
      "Epoch 12/29\n",
      "----------\n"
     ]
    },
    {
     "data": {
      "application/vnd.jupyter.widget-view+json": {
       "model_id": "335f235ad6504c6789e9c0164445452e",
       "version_major": 2,
       "version_minor": 0
      },
      "text/plain": [
       "HBox(children=(IntProgress(value=0, max=924), HTML(value='')))"
      ]
     },
     "metadata": {},
     "output_type": "display_data"
    },
    {
     "name": "stdout",
     "output_type": "stream",
     "text": [
      "\n",
      "train Loss: 0.0176 Dice_Loss: 0.6503 Dist_Loss: 0.0017 Mean_Loss: 8.4707 IoU: nan New Metric: 0.6302\n"
     ]
    },
    {
     "data": {
      "application/vnd.jupyter.widget-view+json": {
       "model_id": "354a77f888a84fd0a8a46a827a204f68",
       "version_major": 2,
       "version_minor": 0
      },
      "text/plain": [
       "HBox(children=(IntProgress(value=0, max=307), HTML(value='')))"
      ]
     },
     "metadata": {},
     "output_type": "display_data"
    },
    {
     "name": "stdout",
     "output_type": "stream",
     "text": [
      "\n",
      "valid Loss: 0.0233 Dice_Loss: 0.7222 Dist_Loss: 0.0022 Mean_Loss: 8.8466 IoU: 0.3004 New Metric: 0.4369\n",
      "Epoch 13/29\n",
      "----------\n"
     ]
    },
    {
     "data": {
      "application/vnd.jupyter.widget-view+json": {
       "model_id": "9a8ff38d8aaf4baa8b78c5b8a81156f2",
       "version_major": 2,
       "version_minor": 0
      },
      "text/plain": [
       "HBox(children=(IntProgress(value=0, max=924), HTML(value='')))"
      ]
     },
     "metadata": {},
     "output_type": "display_data"
    },
    {
     "name": "stdout",
     "output_type": "stream",
     "text": [
      "\n",
      "train Loss: 0.0172 Dice_Loss: 0.6478 Dist_Loss: 0.0017 Mean_Loss: 8.5678 IoU: nan New Metric: 0.6396\n"
     ]
    },
    {
     "data": {
      "application/vnd.jupyter.widget-view+json": {
       "model_id": "45a982a543fe4b109546d692ebc05304",
       "version_major": 2,
       "version_minor": 0
      },
      "text/plain": [
       "HBox(children=(IntProgress(value=0, max=307), HTML(value='')))"
      ]
     },
     "metadata": {},
     "output_type": "display_data"
    },
    {
     "name": "stdout",
     "output_type": "stream",
     "text": [
      "\n",
      "valid Loss: 0.0237 Dice_Loss: 0.7369 Dist_Loss: 0.0017 Mean_Loss: 9.0713 IoU: 0.2569 New Metric: 0.3564\n",
      "Epoch 14/29\n",
      "----------\n"
     ]
    },
    {
     "data": {
      "application/vnd.jupyter.widget-view+json": {
       "model_id": "82fddb1a16914277ab563f64265f16d3",
       "version_major": 2,
       "version_minor": 0
      },
      "text/plain": [
       "HBox(children=(IntProgress(value=0, max=924), HTML(value='')))"
      ]
     },
     "metadata": {},
     "output_type": "display_data"
    },
    {
     "name": "stdout",
     "output_type": "stream",
     "text": [
      "\n",
      "train Loss: 0.0173 Dice_Loss: 0.6471 Dist_Loss: 0.0017 Mean_Loss: 8.6512 IoU: nan New Metric: 0.6417\n"
     ]
    },
    {
     "data": {
      "application/vnd.jupyter.widget-view+json": {
       "model_id": "7d21ddba3e9946cd80461849ccdb4ff1",
       "version_major": 2,
       "version_minor": 0
      },
      "text/plain": [
       "HBox(children=(IntProgress(value=0, max=307), HTML(value='')))"
      ]
     },
     "metadata": {},
     "output_type": "display_data"
    },
    {
     "name": "stdout",
     "output_type": "stream",
     "text": [
      "\n",
      "valid Loss: 0.0231 Dice_Loss: 0.7023 Dist_Loss: 0.0017 Mean_Loss: 9.0783 IoU: 0.3038 New Metric: 0.4105\n",
      "Epoch 15/29\n",
      "----------\n"
     ]
    },
    {
     "data": {
      "application/vnd.jupyter.widget-view+json": {
       "model_id": "7df983bfafb647e2b6bd6479b08221b8",
       "version_major": 2,
       "version_minor": 0
      },
      "text/plain": [
       "HBox(children=(IntProgress(value=0, max=924), HTML(value='')))"
      ]
     },
     "metadata": {},
     "output_type": "display_data"
    },
    {
     "name": "stdout",
     "output_type": "stream",
     "text": [
      "\n",
      "train Loss: 0.0170 Dice_Loss: 0.6415 Dist_Loss: 0.0016 Mean_Loss: 8.7263 IoU: nan New Metric: 0.6478\n"
     ]
    },
    {
     "data": {
      "application/vnd.jupyter.widget-view+json": {
       "model_id": "13fa6c2be2794afeb2f2351c549c0d32",
       "version_major": 2,
       "version_minor": 0
      },
      "text/plain": [
       "HBox(children=(IntProgress(value=0, max=307), HTML(value='')))"
      ]
     },
     "metadata": {},
     "output_type": "display_data"
    },
    {
     "name": "stdout",
     "output_type": "stream",
     "text": [
      "\n",
      "valid Loss: 0.0229 Dice_Loss: 0.7335 Dist_Loss: 0.0015 Mean_Loss: 9.0591 IoU: 0.2513 New Metric: 0.3425\n",
      "Epoch 16/29\n",
      "----------\n"
     ]
    },
    {
     "data": {
      "application/vnd.jupyter.widget-view+json": {
       "model_id": "57f7858626c7486e9bf45359a26b32de",
       "version_major": 2,
       "version_minor": 0
      },
      "text/plain": [
       "HBox(children=(IntProgress(value=0, max=924), HTML(value='')))"
      ]
     },
     "metadata": {},
     "output_type": "display_data"
    },
    {
     "name": "stdout",
     "output_type": "stream",
     "text": [
      "\n",
      "train Loss: 0.0167 Dice_Loss: 0.6304 Dist_Loss: 0.0016 Mean_Loss: 8.7886 IoU: nan New Metric: 0.6633\n"
     ]
    },
    {
     "data": {
      "application/vnd.jupyter.widget-view+json": {
       "model_id": "318d462355d64da8b7e72c3771ecb20b",
       "version_major": 2,
       "version_minor": 0
      },
      "text/plain": [
       "HBox(children=(IntProgress(value=0, max=307), HTML(value='')))"
      ]
     },
     "metadata": {},
     "output_type": "display_data"
    },
    {
     "name": "stdout",
     "output_type": "stream",
     "text": [
      "\n",
      "valid Loss: 0.0249 Dice_Loss: 0.7303 Dist_Loss: 0.0016 Mean_Loss: 9.3761 IoU: 0.2663 New Metric: 0.3693\n",
      "Epoch 17/29\n",
      "----------\n"
     ]
    },
    {
     "data": {
      "application/vnd.jupyter.widget-view+json": {
       "model_id": "25c3311ef0094cad99b65c671e569b5f",
       "version_major": 2,
       "version_minor": 0
      },
      "text/plain": [
       "HBox(children=(IntProgress(value=0, max=924), HTML(value='')))"
      ]
     },
     "metadata": {},
     "output_type": "display_data"
    },
    {
     "name": "stdout",
     "output_type": "stream",
     "text": [
      "\n",
      "train Loss: 0.0163 Dice_Loss: 0.6244 Dist_Loss: 0.0015 Mean_Loss: 8.8599 IoU: nan New Metric: 0.6726\n"
     ]
    },
    {
     "data": {
      "application/vnd.jupyter.widget-view+json": {
       "model_id": "53d0c1712c814c28b85d3e61a2315034",
       "version_major": 2,
       "version_minor": 0
      },
      "text/plain": [
       "HBox(children=(IntProgress(value=0, max=307), HTML(value='')))"
      ]
     },
     "metadata": {},
     "output_type": "display_data"
    },
    {
     "name": "stdout",
     "output_type": "stream",
     "text": [
      "\n",
      "valid Loss: 0.0269 Dice_Loss: 0.7228 Dist_Loss: 0.0017 Mean_Loss: 9.2665 IoU: 0.2738 New Metric: 0.3715\n",
      "Epoch 18/29\n",
      "----------\n"
     ]
    },
    {
     "data": {
      "application/vnd.jupyter.widget-view+json": {
       "model_id": "e8861cab7b9642448e054385645902af",
       "version_major": 2,
       "version_minor": 0
      },
      "text/plain": [
       "HBox(children=(IntProgress(value=0, max=924), HTML(value='')))"
      ]
     },
     "metadata": {},
     "output_type": "display_data"
    },
    {
     "name": "stdout",
     "output_type": "stream",
     "text": [
      "\n",
      "train Loss: 0.0165 Dice_Loss: 0.6283 Dist_Loss: 0.0016 Mean_Loss: 8.9392 IoU: nan New Metric: 0.6715\n"
     ]
    },
    {
     "data": {
      "application/vnd.jupyter.widget-view+json": {
       "model_id": "b2352a3cd04a4ae08ae7fcb86b667482",
       "version_major": 2,
       "version_minor": 0
      },
      "text/plain": [
       "HBox(children=(IntProgress(value=0, max=307), HTML(value='')))"
      ]
     },
     "metadata": {},
     "output_type": "display_data"
    },
    {
     "name": "stdout",
     "output_type": "stream",
     "text": [
      "\n",
      "valid Loss: 0.0248 Dice_Loss: 0.7178 Dist_Loss: 0.0018 Mean_Loss: 9.4999 IoU: 0.2723 New Metric: 0.3976\n",
      "Epoch 19/29\n",
      "----------\n"
     ]
    },
    {
     "data": {
      "application/vnd.jupyter.widget-view+json": {
       "model_id": "dda02a25d6d544958b38c524235a3634",
       "version_major": 2,
       "version_minor": 0
      },
      "text/plain": [
       "HBox(children=(IntProgress(value=0, max=924), HTML(value='')))"
      ]
     },
     "metadata": {},
     "output_type": "display_data"
    },
    {
     "name": "stdout",
     "output_type": "stream",
     "text": [
      "\n",
      "train Loss: 0.0164 Dice_Loss: 0.6236 Dist_Loss: 0.0016 Mean_Loss: 9.0027 IoU: nan New Metric: 0.6716\n"
     ]
    },
    {
     "data": {
      "application/vnd.jupyter.widget-view+json": {
       "model_id": "7a83340e731343cd8444802f8555bc5a",
       "version_major": 2,
       "version_minor": 0
      },
      "text/plain": [
       "HBox(children=(IntProgress(value=0, max=307), HTML(value='')))"
      ]
     },
     "metadata": {},
     "output_type": "display_data"
    },
    {
     "name": "stdout",
     "output_type": "stream",
     "text": [
      "\n",
      "valid Loss: 0.0236 Dice_Loss: 0.6975 Dist_Loss: 0.0016 Mean_Loss: 9.4731 IoU: 0.2949 New Metric: 0.4092\n",
      "Epoch 20/29\n",
      "----------\n"
     ]
    },
    {
     "data": {
      "application/vnd.jupyter.widget-view+json": {
       "model_id": "b30e121b86d44ca8b4a0330c9f14c52c",
       "version_major": 2,
       "version_minor": 0
      },
      "text/plain": [
       "HBox(children=(IntProgress(value=0, max=924), HTML(value='')))"
      ]
     },
     "metadata": {},
     "output_type": "display_data"
    },
    {
     "name": "stdout",
     "output_type": "stream",
     "text": [
      "\n",
      "train Loss: 0.0158 Dice_Loss: 0.6156 Dist_Loss: 0.0015 Mean_Loss: 9.0261 IoU: nan New Metric: 0.6772\n"
     ]
    },
    {
     "data": {
      "application/vnd.jupyter.widget-view+json": {
       "model_id": "3078358844f349bfa180498dbfbbb7cc",
       "version_major": 2,
       "version_minor": 0
      },
      "text/plain": [
       "HBox(children=(IntProgress(value=0, max=307), HTML(value='')))"
      ]
     },
     "metadata": {},
     "output_type": "display_data"
    },
    {
     "name": "stdout",
     "output_type": "stream",
     "text": [
      "\n",
      "valid Loss: 0.0257 Dice_Loss: 0.7180 Dist_Loss: 0.0017 Mean_Loss: 9.7466 IoU: 0.2790 New Metric: 0.3805\n",
      "Epoch 21/29\n",
      "----------\n"
     ]
    },
    {
     "data": {
      "application/vnd.jupyter.widget-view+json": {
       "model_id": "e50be3a44a7a4d2d9a1af71b8842a101",
       "version_major": 2,
       "version_minor": 0
      },
      "text/plain": [
       "HBox(children=(IntProgress(value=0, max=924), HTML(value='')))"
      ]
     },
     "metadata": {},
     "output_type": "display_data"
    },
    {
     "name": "stdout",
     "output_type": "stream",
     "text": [
      "\n",
      "train Loss: 0.0160 Dice_Loss: 0.6047 Dist_Loss: 0.0015 Mean_Loss: 9.0924 IoU: nan New Metric: 0.7055\n"
     ]
    },
    {
     "data": {
      "application/vnd.jupyter.widget-view+json": {
       "model_id": "d56174308b1b4d5f918067523ec84cfd",
       "version_major": 2,
       "version_minor": 0
      },
      "text/plain": [
       "HBox(children=(IntProgress(value=0, max=307), HTML(value='')))"
      ]
     },
     "metadata": {},
     "output_type": "display_data"
    },
    {
     "name": "stdout",
     "output_type": "stream",
     "text": [
      "\n",
      "valid Loss: 0.0248 Dice_Loss: 0.7356 Dist_Loss: 0.0016 Mean_Loss: 9.8086 IoU: 0.2534 New Metric: 0.3633\n",
      "Epoch 22/29\n",
      "----------\n"
     ]
    },
    {
     "data": {
      "application/vnd.jupyter.widget-view+json": {
       "model_id": "e6914cfb5d244d28920469418c817e00",
       "version_major": 2,
       "version_minor": 0
      },
      "text/plain": [
       "HBox(children=(IntProgress(value=0, max=924), HTML(value='')))"
      ]
     },
     "metadata": {},
     "output_type": "display_data"
    },
    {
     "name": "stdout",
     "output_type": "stream",
     "text": [
      "\n",
      "train Loss: 0.0159 Dice_Loss: 0.6103 Dist_Loss: 0.0015 Mean_Loss: 9.1316 IoU: nan New Metric: 0.6916\n"
     ]
    },
    {
     "data": {
      "application/vnd.jupyter.widget-view+json": {
       "model_id": "620a94a9724643a7a80d779f9b019b6f",
       "version_major": 2,
       "version_minor": 0
      },
      "text/plain": [
       "HBox(children=(IntProgress(value=0, max=307), HTML(value='')))"
      ]
     },
     "metadata": {},
     "output_type": "display_data"
    },
    {
     "name": "stdout",
     "output_type": "stream",
     "text": [
      "\n",
      "valid Loss: 0.0246 Dice_Loss: 0.7269 Dist_Loss: 0.0019 Mean_Loss: 9.5548 IoU: 0.2815 New Metric: 0.3993\n",
      "Epoch 23/29\n",
      "----------\n"
     ]
    },
    {
     "data": {
      "application/vnd.jupyter.widget-view+json": {
       "model_id": "fc1fc099bb63417d8f803a63a67e98d3",
       "version_major": 2,
       "version_minor": 0
      },
      "text/plain": [
       "HBox(children=(IntProgress(value=0, max=924), HTML(value='')))"
      ]
     },
     "metadata": {},
     "output_type": "display_data"
    },
    {
     "name": "stdout",
     "output_type": "stream",
     "text": [
      "\n",
      "train Loss: 0.0155 Dice_Loss: 0.6029 Dist_Loss: 0.0014 Mean_Loss: 9.1916 IoU: nan New Metric: 0.6921\n"
     ]
    },
    {
     "data": {
      "application/vnd.jupyter.widget-view+json": {
       "model_id": "1fa2ff7efc3f490a86c7dd89eafce12c",
       "version_major": 2,
       "version_minor": 0
      },
      "text/plain": [
       "HBox(children=(IntProgress(value=0, max=307), HTML(value='')))"
      ]
     },
     "metadata": {},
     "output_type": "display_data"
    },
    {
     "name": "stdout",
     "output_type": "stream",
     "text": [
      "\n",
      "valid Loss: 0.0232 Dice_Loss: 0.7387 Dist_Loss: 0.0016 Mean_Loss: 9.4522 IoU: 0.2537 New Metric: 0.3684\n",
      "Epoch 24/29\n",
      "----------\n"
     ]
    },
    {
     "data": {
      "application/vnd.jupyter.widget-view+json": {
       "model_id": "66f82a6903ac4168bc3d8b0c77c5eda0",
       "version_major": 2,
       "version_minor": 0
      },
      "text/plain": [
       "HBox(children=(IntProgress(value=0, max=924), HTML(value='')))"
      ]
     },
     "metadata": {},
     "output_type": "display_data"
    },
    {
     "name": "stdout",
     "output_type": "stream",
     "text": [
      "\n",
      "train Loss: 0.0154 Dice_Loss: 0.6037 Dist_Loss: 0.0014 Mean_Loss: 9.2310 IoU: 0.4531 New Metric: 0.6930\n"
     ]
    },
    {
     "data": {
      "application/vnd.jupyter.widget-view+json": {
       "model_id": "d0caa6b5cb09451f8833a088a611768b",
       "version_major": 2,
       "version_minor": 0
      },
      "text/plain": [
       "HBox(children=(IntProgress(value=0, max=307), HTML(value='')))"
      ]
     },
     "metadata": {},
     "output_type": "display_data"
    },
    {
     "name": "stdout",
     "output_type": "stream",
     "text": [
      "\n",
      "valid Loss: 0.0254 Dice_Loss: 0.7607 Dist_Loss: 0.0015 Mean_Loss: 9.7552 IoU: 0.2091 New Metric: 0.2985\n",
      "Epoch 25/29\n",
      "----------\n"
     ]
    },
    {
     "data": {
      "application/vnd.jupyter.widget-view+json": {
       "model_id": "80e5c15d49dc49a6a996c3825a1a4f75",
       "version_major": 2,
       "version_minor": 0
      },
      "text/plain": [
       "HBox(children=(IntProgress(value=0, max=924), HTML(value='')))"
      ]
     },
     "metadata": {},
     "output_type": "display_data"
    },
    {
     "name": "stdout",
     "output_type": "stream",
     "text": [
      "\n",
      "train Loss: 0.0151 Dice_Loss: 0.5935 Dist_Loss: 0.0014 Mean_Loss: 9.2895 IoU: nan New Metric: 0.6931\n"
     ]
    },
    {
     "data": {
      "application/vnd.jupyter.widget-view+json": {
       "model_id": "466f112d1cfc4a50b42103009389f58a",
       "version_major": 2,
       "version_minor": 0
      },
      "text/plain": [
       "HBox(children=(IntProgress(value=0, max=307), HTML(value='')))"
      ]
     },
     "metadata": {},
     "output_type": "display_data"
    },
    {
     "name": "stdout",
     "output_type": "stream",
     "text": [
      "\n",
      "valid Loss: 0.0239 Dice_Loss: 0.7313 Dist_Loss: 0.0016 Mean_Loss: 9.8797 IoU: 0.2530 New Metric: 0.3503\n",
      "Epoch 26/29\n",
      "----------\n"
     ]
    },
    {
     "data": {
      "application/vnd.jupyter.widget-view+json": {
       "model_id": "1f9a040128744068a7047f25546d5085",
       "version_major": 2,
       "version_minor": 0
      },
      "text/plain": [
       "HBox(children=(IntProgress(value=0, max=924), HTML(value='')))"
      ]
     },
     "metadata": {},
     "output_type": "display_data"
    },
    {
     "name": "stdout",
     "output_type": "stream",
     "text": [
      "\n",
      "train Loss: 0.0151 Dice_Loss: 0.5926 Dist_Loss: 0.0014 Mean_Loss: 9.3446 IoU: nan New Metric: 0.7188\n"
     ]
    },
    {
     "data": {
      "application/vnd.jupyter.widget-view+json": {
       "model_id": "ad1887cde29e436e9e21bb76503740fb",
       "version_major": 2,
       "version_minor": 0
      },
      "text/plain": [
       "HBox(children=(IntProgress(value=0, max=307), HTML(value='')))"
      ]
     },
     "metadata": {},
     "output_type": "display_data"
    },
    {
     "name": "stdout",
     "output_type": "stream",
     "text": [
      "\n",
      "valid Loss: 0.0234 Dice_Loss: 0.6926 Dist_Loss: 0.0019 Mean_Loss: 9.5985 IoU: 0.3038 New Metric: 0.4147\n",
      "Epoch 27/29\n",
      "----------\n"
     ]
    },
    {
     "data": {
      "application/vnd.jupyter.widget-view+json": {
       "model_id": "092b03a025c64b1fbadfefd123f64994",
       "version_major": 2,
       "version_minor": 0
      },
      "text/plain": [
       "HBox(children=(IntProgress(value=0, max=924), HTML(value='')))"
      ]
     },
     "metadata": {},
     "output_type": "display_data"
    },
    {
     "name": "stdout",
     "output_type": "stream",
     "text": [
      "\n",
      "train Loss: 0.0151 Dice_Loss: 0.5967 Dist_Loss: 0.0014 Mean_Loss: 9.3811 IoU: nan New Metric: 0.7020\n"
     ]
    },
    {
     "data": {
      "application/vnd.jupyter.widget-view+json": {
       "model_id": "bd99f05ee7cc46d28e20234e192d1d73",
       "version_major": 2,
       "version_minor": 0
      },
      "text/plain": [
       "HBox(children=(IntProgress(value=0, max=307), HTML(value='')))"
      ]
     },
     "metadata": {},
     "output_type": "display_data"
    },
    {
     "name": "stdout",
     "output_type": "stream",
     "text": [
      "\n",
      "valid Loss: 0.0242 Dice_Loss: 0.7126 Dist_Loss: 0.0015 Mean_Loss: 9.7101 IoU: 0.2711 New Metric: 0.3822\n",
      "Epoch 28/29\n",
      "----------\n"
     ]
    },
    {
     "data": {
      "application/vnd.jupyter.widget-view+json": {
       "model_id": "94ceda8707434e11a296ec73bcdacdbf",
       "version_major": 2,
       "version_minor": 0
      },
      "text/plain": [
       "HBox(children=(IntProgress(value=0, max=924), HTML(value='')))"
      ]
     },
     "metadata": {},
     "output_type": "display_data"
    },
    {
     "name": "stdout",
     "output_type": "stream",
     "text": [
      "\n",
      "train Loss: 0.0149 Dice_Loss: 0.5900 Dist_Loss: 0.0014 Mean_Loss: 9.4350 IoU: nan New Metric: 0.7088\n"
     ]
    },
    {
     "data": {
      "application/vnd.jupyter.widget-view+json": {
       "model_id": "8c575da98cab458ebee54858584d268f",
       "version_major": 2,
       "version_minor": 0
      },
      "text/plain": [
       "HBox(children=(IntProgress(value=0, max=307), HTML(value='')))"
      ]
     },
     "metadata": {},
     "output_type": "display_data"
    },
    {
     "name": "stdout",
     "output_type": "stream",
     "text": [
      "\n",
      "valid Loss: 0.0252 Dice_Loss: 0.7350 Dist_Loss: 0.0017 Mean_Loss: 9.9727 IoU: 0.2630 New Metric: 0.3669\n",
      "Epoch 29/29\n",
      "----------\n"
     ]
    },
    {
     "data": {
      "application/vnd.jupyter.widget-view+json": {
       "model_id": "be79be4c60b8434da456285527ffd76c",
       "version_major": 2,
       "version_minor": 0
      },
      "text/plain": [
       "HBox(children=(IntProgress(value=0, max=924), HTML(value='')))"
      ]
     },
     "metadata": {},
     "output_type": "display_data"
    },
    {
     "name": "stdout",
     "output_type": "stream",
     "text": [
      "\n",
      "train Loss: 0.0147 Dice_Loss: 0.5842 Dist_Loss: 0.0013 Mean_Loss: 9.4740 IoU: nan New Metric: 0.7168\n"
     ]
    },
    {
     "data": {
      "application/vnd.jupyter.widget-view+json": {
       "model_id": "b83455911c8745bab00d8357ea640974",
       "version_major": 2,
       "version_minor": 0
      },
      "text/plain": [
       "HBox(children=(IntProgress(value=0, max=307), HTML(value='')))"
      ]
     },
     "metadata": {},
     "output_type": "display_data"
    },
    {
     "name": "stdout",
     "output_type": "stream",
     "text": [
      "\n",
      "valid Loss: 0.0232 Dice_Loss: 0.6812 Dist_Loss: 0.0017 Mean_Loss: 9.8432 IoU: 0.3154 New Metric: 0.4401\n",
      "Training complete in 16m 35s\n",
      "Best new metric: 0.454344\n",
      "Training completed finally !!!!!\n"
     ]
    }
   ],
   "source": [
    "u.train()"
   ]
  },
  {
   "cell_type": "code",
   "execution_count": 23,
   "metadata": {
    "scrolled": true
   },
   "outputs": [
    {
     "name": "stdout",
     "output_type": "stream",
     "text": [
      "mean IoU: tensor(0.3167, device='cuda:0')\n",
      "new metric tensor(0.4543, device='cuda:0')\n"
     ]
    }
   ],
   "source": [
    "u.test_model()"
   ]
  },
  {
   "cell_type": "code",
   "execution_count": null,
   "metadata": {},
   "outputs": [],
   "source": [
    "plt.imshow(cv2.imread('../Experiments/cbis_ddsm/Mass-Test_P_00056_LEFT_MLO_supervised_out.jpg'))"
   ]
  },
  {
   "cell_type": "code",
   "execution_count": null,
   "metadata": {},
   "outputs": [],
   "source": [
    "plt.imshow(cv2.imread('../Experiments/cbis_ddsm/Mass-Test_P_00056_LEFT_MLO_supervised_new_mask.jpg'))"
   ]
  },
  {
   "cell_type": "code",
   "execution_count": null,
   "metadata": {
    "scrolled": true
   },
   "outputs": [],
   "source": [
    "u.train()"
   ]
  },
  {
   "cell_type": "code",
   "execution_count": null,
   "metadata": {},
   "outputs": [],
   "source": [
    "%debug"
   ]
  },
  {
   "cell_type": "code",
   "execution_count": null,
   "metadata": {},
   "outputs": [],
   "source": [
    "u.test_model()"
   ]
  },
  {
   "cell_type": "code",
   "execution_count": null,
   "metadata": {},
   "outputs": [],
   "source": [
    "'../Data/masks_orient/Mass-Training_P_00913'"
   ]
  },
  {
   "cell_type": "code",
   "execution_count": null,
   "metadata": {},
   "outputs": [],
   "source": [
    "%debug"
   ]
  },
  {
   "cell_type": "code",
   "execution_count": null,
   "metadata": {},
   "outputs": [],
   "source": [
    "a,b,c = u.test_model()"
   ]
  },
  {
   "cell_type": "code",
   "execution_count": null,
   "metadata": {},
   "outputs": [],
   "source": [
    "len(a)"
   ]
  },
  {
   "cell_type": "code",
   "execution_count": null,
   "metadata": {},
   "outputs": [],
   "source": [
    "plt.imshow(a[1])"
   ]
  },
  {
   "cell_type": "code",
   "execution_count": null,
   "metadata": {},
   "outputs": [],
   "source": [
    "b[0].sum()"
   ]
  },
  {
   "cell_type": "code",
   "execution_count": null,
   "metadata": {},
   "outputs": [],
   "source": [
    "plt.imshow(b[1])"
   ]
  },
  {
   "cell_type": "code",
   "execution_count": null,
   "metadata": {},
   "outputs": [],
   "source": [
    "d = c[1]\n",
    "d[d>0] = 255\n",
    "d[d<=0] = 0"
   ]
  },
  {
   "cell_type": "code",
   "execution_count": null,
   "metadata": {},
   "outputs": [],
   "source": [
    "plt.imshow(d)"
   ]
  },
  {
   "cell_type": "code",
   "execution_count": null,
   "metadata": {},
   "outputs": [],
   "source": [
    "get_IoU(d/255,b[1])"
   ]
  },
  {
   "cell_type": "code",
   "execution_count": null,
   "metadata": {},
   "outputs": [],
   "source": [
    "plt.imshow(a[1])"
   ]
  },
  {
   "cell_type": "code",
   "execution_count": null,
   "metadata": {},
   "outputs": [],
   "source": [
    "plt.imshow(b[1])"
   ]
  },
  {
   "cell_type": "code",
   "execution_count": null,
   "metadata": {},
   "outputs": [],
   "source": [
    "plt.imshow(c[1])"
   ]
  },
  {
   "cell_type": "code",
   "execution_count": null,
   "metadata": {
    "scrolled": true
   },
   "outputs": [],
   "source": [
    "u.train()"
   ]
  },
  {
   "cell_type": "code",
   "execution_count": null,
   "metadata": {},
   "outputs": [],
   "source": [
    "%debug"
   ]
  },
  {
   "cell_type": "code",
   "execution_count": null,
   "metadata": {},
   "outputs": [],
   "source": [
    "_,_,_ = dci.get_cam()"
   ]
  },
  {
   "cell_type": "code",
   "execution_count": null,
   "metadata": {
    "scrolled": true
   },
   "outputs": [],
   "source": [
    "dci.train()"
   ]
  },
  {
   "cell_type": "code",
   "execution_count": null,
   "metadata": {},
   "outputs": [],
   "source": [
    "!nvidia-smi"
   ]
  },
  {
   "cell_type": "code",
   "execution_count": null,
   "metadata": {
    "scrolled": true
   },
   "outputs": [],
   "source": [
    "# dci.test_model_acc()"
   ]
  },
  {
   "cell_type": "code",
   "execution_count": null,
   "metadata": {},
   "outputs": [],
   "source": [
    "md,dl = dci.return_model()"
   ]
  },
  {
   "cell_type": "code",
   "execution_count": null,
   "metadata": {},
   "outputs": [],
   "source": [
    "a = iter(dl).next()\n",
    "\n",
    "m = denorm_img(a['mask'],[0.223, 0.231, 0.243],[0.266, 0.270, 0.274]).squeeze()\n",
    "bm = denorm_img(a['bmask'],[0.223, 0.231, 0.243],[0.266, 0.270, 0.274]).squeeze()"
   ]
  },
  {
   "cell_type": "code",
   "execution_count": null,
   "metadata": {},
   "outputs": [],
   "source": [
    "device = torch.device(\"cuda:0\")\n",
    "\n",
    "p = F.sigmoid(md(a['image'].to(device))).detach().cpu().numpy().squeeze()"
   ]
  },
  {
   "cell_type": "code",
   "execution_count": null,
   "metadata": {},
   "outputs": [],
   "source": [
    "m.shape"
   ]
  },
  {
   "cell_type": "code",
   "execution_count": null,
   "metadata": {},
   "outputs": [],
   "source": [
    "p.shape"
   ]
  },
  {
   "cell_type": "code",
   "execution_count": null,
   "metadata": {},
   "outputs": [],
   "source": [
    "bm.shape"
   ]
  },
  {
   "cell_type": "code",
   "execution_count": null,
   "metadata": {},
   "outputs": [],
   "source": [
    "plt.imshow(bm)"
   ]
  },
  {
   "cell_type": "code",
   "execution_count": null,
   "metadata": {},
   "outputs": [],
   "source": [
    "plt.imshow(m)"
   ]
  },
  {
   "cell_type": "code",
   "execution_count": null,
   "metadata": {},
   "outputs": [],
   "source": [
    "p_m = p*bm\n",
    "p_m[p_m > p_m.mean() + p_m.std()] = 1\n",
    "p_m[p_m < p_m.mean() + p_m.std()] = 0"
   ]
  },
  {
   "cell_type": "code",
   "execution_count": null,
   "metadata": {},
   "outputs": [],
   "source": [
    "plt.imshow(p_m)"
   ]
  },
  {
   "cell_type": "code",
   "execution_count": null,
   "metadata": {},
   "outputs": [],
   "source": [
    "p_m_t = torch.Tensor(p_m)\n",
    "print(nn.L1Loss()(torch.Tensor(p_m),torch.zeros(p_m_t.shape)))"
   ]
  },
  {
   "cell_type": "code",
   "execution_count": null,
   "metadata": {},
   "outputs": [],
   "source": [
    "p*bm"
   ]
  },
  {
   "cell_type": "code",
   "execution_count": null,
   "metadata": {},
   "outputs": [],
   "source": [
    "plt.imshow(p)"
   ]
  }
 ],
 "metadata": {
  "kernelspec": {
   "display_name": "Python 3",
   "language": "python",
   "name": "python3"
  },
  "language_info": {
   "codemirror_mode": {
    "name": "ipython",
    "version": 3
   },
   "file_extension": ".py",
   "mimetype": "text/x-python",
   "name": "python",
   "nbconvert_exporter": "python",
   "pygments_lexer": "ipython3",
   "version": "3.6.5"
  }
 },
 "nbformat": 4,
 "nbformat_minor": 2
}
