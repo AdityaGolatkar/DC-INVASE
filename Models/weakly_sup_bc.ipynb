{
 "cells": [
  {
   "cell_type": "code",
   "execution_count": 1,
   "metadata": {},
   "outputs": [],
   "source": [
    "#Pytorch\n",
    "import torch\n",
    "import torch.nn.functional as F\n",
    "import torch.nn as nn\n",
    "import torch.optim as optim\n",
    "from torch.optim import lr_scheduler\n",
    "\n",
    "#Torchvision\n",
    "import torchvision\n",
    "from torchvision import datasets, models, transforms, utils\n",
    "from torch.utils.data import Dataset, DataLoader\n",
    "\n",
    "#Image Processing\n",
    "import matplotlib.pyplot as plt\n",
    "from skimage import io, transform, color\n",
    "import PIL\n",
    "from PIL import Image\n",
    "import augmentations\n",
    "from augmentations import *\n",
    "\n",
    "#Others\n",
    "import sklearn.metrics\n",
    "from sklearn.metrics import *\n",
    "import numpy as np\n",
    "import pandas as pd\n",
    "import cv2\n",
    "import time\n",
    "import os\n",
    "import copy\n",
    "from model_summary import *\n",
    "import pretrainedmodels\n",
    "import tqdm\n",
    "from tqdm import tqdm_notebook as tqdm\n",
    "import warnings\n",
    "warnings.filterwarnings(\"ignore\")\n",
    "\n",
    "import dataloaders\n",
    "from dataloaders import *\n",
    "\n",
    "'''Dataloader'''\n",
    "class dataset(Dataset):\n",
    "\n",
    "    def __init__(self, csv_file, root_dir, transform=None):\n",
    "\n",
    "        self.data_frame = pd.read_csv(csv_file)\n",
    "        self.root_dir = root_dir\n",
    "        self.transform = transform\n",
    "        self.mask_dir = '../Data/mask_orient_cropped/'\n",
    "        \n",
    "    def __len__(self):\n",
    "        return len(self.data_frame)\n",
    "\n",
    "    def __getitem__(self, idx):\n",
    "        img_name = os.path.join(self.root_dir,self.data_frame.iloc[idx]['name'])\n",
    "        image = Image.open(img_name)\n",
    "        \n",
    "        mask_name = os.path.join(self.mask_dir,self.data_frame.iloc[idx]['name'].replace('.j','_mask.j'))\n",
    "        mask = io.imread(mask_name)\n",
    "        mask = np.array([mask,mask,mask]).transpose((1,2,0))\n",
    "        mask = Image.fromarray(mask)\n",
    "\n",
    "        label = self.data_frame.iloc[idx]['category']       \n",
    "\n",
    "        if self.transform:\n",
    "            image,mask = self.transform(image,mask)\n",
    "        \n",
    "        mask_final = mask[0,:,:]\n",
    "        mask_final[mask_final<0.5] = 0\n",
    "        mask_final[mask_final>0.5] = 1\n",
    "        \n",
    "        return {'image':image, 'category':label, 'mask':mask_final, 'name':self.data_frame.iloc[idx]['name']}\n",
    "    \n",
    "def get_dataloader(data_dir, train_csv_path, image_size, img_mean, img_std, batch_size=1):\n",
    "\n",
    "    data_transforms = {\n",
    "        'train': Compose([\n",
    "            RandomHorizontallyFlip(0.5),\n",
    "            #RandomVerticallyFlip(0.5),\n",
    "            RandomTranslate((0.2,0.2)),\n",
    "            RandomRotate(15),\n",
    "            ToTensor(),\n",
    "            Normalize(img_mean,img_std)\n",
    "        ]),\n",
    "        'valid': Compose([\n",
    "            ToTensor(),\n",
    "            Normalize(img_mean,img_std)\n",
    "        ]),\n",
    "        'test': Compose([\n",
    "            ToTensor(),\n",
    "            Normalize(img_mean,img_std)        \n",
    "        ])\n",
    "    }\n",
    "\n",
    "    image_datasets = {}\n",
    "    dataloaders = {}\n",
    "    dataset_sizes = {}\n",
    "\n",
    "    for x in ['train', 'valid', 'test']:\n",
    "        if x == 'train':\n",
    "            bs = batch_size\n",
    "            sh = True\n",
    "        elif x == 'valid':\n",
    "            bs = batch_size\n",
    "            sh = False\n",
    "        else:\n",
    "            bs = 1\n",
    "            sh = False\n",
    "        image_datasets[x] = dataset(train_csv_path.replace('train',x),root_dir=data_dir,transform=data_transforms[x])\n",
    "        dataloaders[x] = torch.utils.data.DataLoader(image_datasets[x], batch_size=bs,shuffle=sh, num_workers=8)    \n",
    "        dataset_sizes[x] = len(image_datasets[x])\n",
    "\n",
    "    device = torch.device(\"cuda:0\")\n",
    "\n",
    "    return dataloaders,dataset_sizes,image_datasets,device\n",
    "\n",
    "#Selector network\n",
    "\n",
    "#The selector output is 5x5x5. Each patch will have 5 anchor boxes\n",
    "\n",
    "def build_selector():\n",
    "\n",
    "    class mdl(nn.Module):\n",
    "        def __init__(self,base_model):\n",
    "            super().__init__()\n",
    "            self.base = base_model \n",
    "            self.l1 = nn.Conv2d(512,5,3,stride=2)\n",
    "        def forward(self, x):\n",
    "            x = self.base(x)\n",
    "            x = self.l1(x)   \n",
    "            return x\n",
    "\n",
    "    v = models.vgg16_bn(pretrained=True)\n",
    "    v1 = nn.Sequential(*list(v.children())[:-1])\n",
    "\n",
    "    #r = models.resnet101(pretrained=True)\n",
    "    #r1 = nn.Sequential(*list(r.children())[:-2])\n",
    "    \n",
    "    model = mdl(v1[-1])\n",
    "        \n",
    "    return model\n",
    "\n",
    "## Predictor-Discriminator-Baseline\n",
    "def build_baseline_predictor():\n",
    "\n",
    "    class mdl(nn.Module):\n",
    "        def __init__(self,base_model):\n",
    "            super().__init__()\n",
    "            self.base = base_model \n",
    "            self.gap = nn.AdaptiveAvgPool2d((1,1))\n",
    "            self.fc1 = nn.Linear(512,2)\n",
    "\n",
    "        def forward(self, x):\n",
    "            x_base = self.base(x)\n",
    "            x = self.gap(x_base)\n",
    "            x = x.view(x.size(0), -1)\n",
    "            x = self.fc1(x)\n",
    "            return x,x_base \n",
    "\n",
    "    v = models.vgg16_bn(pretrained=True)\n",
    "    v1 = nn.Sequential(*list(v.children())[:-1])\n",
    "\n",
    "    #r = models.resnet101(pretrained=True)\n",
    "    #r1 = nn.Sequential(*list(r.children())[:-2])\n",
    "    \n",
    "    model = mdl(v1[-1])\n",
    "    model.load_state_dict(torch.load('classification_bc_vgg_16_balanced_mass_sel.pt'))\n",
    "        \n",
    "    return model\n",
    "\n",
    "def get_sample(target):\n",
    "\n",
    "    prob_vector = F.softmax(target.view(-1))\n",
    "    probs = prob_vector.data.cpu().numpy()\n",
    "    \n",
    "    probs = probs.astype('float64')\n",
    "    probs = probs/probs.sum()\n",
    "    \n",
    "    try:\n",
    "        prob_sample = np.random.multinomial(1,probs,1)\n",
    "    except:import pdb;pdb.set_trace()\n",
    "    return prob_sample.reshape(target.shape)\n",
    "\n",
    "def get_anchor_box(m_r,m_c,img_shape,patch_shape):\n",
    "    \n",
    "    r1 = max(0,m_r - patch_shape[0]//2)\n",
    "    r2 = min(img_shape[0],m_r + patch_shape[0]//2)\n",
    "    \n",
    "    c1 = max(0,m_c - patch_shape[1]//2)\n",
    "    c2 = min(img_shape[1],m_c + patch_shape[1]//2)\n",
    "    \n",
    "    if r1 == 0:\n",
    "        r2 = patch_shape[0]\n",
    "        \n",
    "    if r2 == img_shape[0]:\n",
    "        r1 = img_shape[0]-patch_shape[0]\n",
    "        \n",
    "    if c1 == 0:\n",
    "        c2 = patch_shape[1]\n",
    "        \n",
    "    if c2 == img_shape[1]:\n",
    "        c1 = img_shape[1]-patch_shape[1]\n",
    "        \n",
    "    if r2-r1 != patch_shape[0] and c2-c1 != patch_shape[1]:\n",
    "        import pdb;pdb.set_trace()\n",
    "    \n",
    "    return r1,r2,c1,c2\n",
    "\n",
    "def get_patch_center(inp,img_shape,width_scale=1):\n",
    "    \n",
    "    grid = inp\n",
    "    _,c,h,w = inp.shape\n",
    "    _,c_l,h_l,w_l = np.where(grid==1)\n",
    "    \n",
    "    c_l = c_l[0]\n",
    "    h_l = h_l[0]\n",
    "    w_l = w_l[0]\n",
    "    \n",
    "    patch_h = img_shape[0]//h\n",
    "    patch_w = img_shape[1]//(w*width_scale)\n",
    "    \n",
    "    patch_h_4 = patch_h//4\n",
    "    patch_w_4 = patch_w//4\n",
    "    \n",
    "    r1 = h_l*patch_h\n",
    "    r2 = (h_l+1)*patch_h\n",
    "    \n",
    "    c1 = c_l*patch_w\n",
    "    c2 = (c_l+1)*patch_w\n",
    "    \n",
    "    m_r = (r1+r2)//2\n",
    "    m_c = (c1+c2)//2\n",
    "    \n",
    "    if c_l == 1:\n",
    "        m_r = m_r - patch_h_4\n",
    "        m_c = m_c - patch_w_4\n",
    "        \n",
    "    elif c_l == 2:\n",
    "        m_r = m_r - patch_h_4\n",
    "        m_c = m_c + patch_w_4\n",
    "\n",
    "    elif c_l == 3:\n",
    "        m_r = m_r + patch_h_4\n",
    "        m_c = m_c + patch_w_4\n",
    "\n",
    "    elif c_l == 4:\n",
    "        m_r = m_r + patch_h_4\n",
    "        m_c = m_c - patch_w_4\n",
    "\n",
    "    m_r = int(m_r)\n",
    "    m_c = int(m_c)\n",
    "    \n",
    "    return m_r,m_c\n",
    "\n",
    "def intersection_metric(anchor,mask):\n",
    "    r1,r2,c1,c2 = anchor\n",
    "    return mask[0,r1:r2,c1:c2].sum()/(mask.sum()+1)\n",
    "\n",
    "## DC-INVASE class\n",
    "class dc_invase():\n",
    "    def __init__(self,epochs,input_shape,patch_shape):\n",
    "        \n",
    "        #Initialization\n",
    "        self.data_dir =  '../Data/CBIS-DDSM_classification_orient_cropped/'\n",
    "        self.train_csv = '../CSV/mass_weak_train.csv'\n",
    "        self.num_epochs = epochs\n",
    "        self.input_shape = input_shape\n",
    "        self.patch_shape = patch_shape\n",
    "        self.batch_size = 1\n",
    "        self.img_mean = [0.253, 0.238, 0.234]\n",
    "        self.img_std = [0.272, 0.268, 0.262]\n",
    "        \n",
    "        self.exp_name = './Weights/weak_sup_bc'\n",
    "        \n",
    "        #Define the four models\n",
    "        self.selector = build_selector()\n",
    "        self.baseline = build_baseline_predictor()\n",
    "        self.predictor = build_baseline_predictor()\n",
    "        \n",
    "        #Put them on the GPU\n",
    "        self.selector = self.selector.cuda()\n",
    "        self.baseline = self.baseline.cuda()\n",
    "        self.predictor = self.predictor.cuda()\n",
    "        \n",
    "        #Get the dataloaders\n",
    "        self.dataloaders,self.dataset_sizes,self.dataset,self.device = get_dataloader(self.data_dir,self.train_csv,\\\n",
    "                                                        self.input_shape,self.img_mean,self.img_std,self.batch_size)\n",
    "        \n",
    "        #Define optimizers one for each model\n",
    "        self.optimizer_sel = optim.Adam(self.selector.parameters(), lr=1e-3, betas=(0.9, 0.999), eps=1e-08, weight_decay=1e-6, amsgrad=False)\n",
    "        self.optimizer_pred = optim.Adam(self.predictor.parameters(), lr=1e-3, betas=(0.9, 0.999), eps=1e-08, weight_decay=1e-6, amsgrad=False)\n",
    "\n",
    "        \n",
    "    def train(self):\n",
    "        \n",
    "        since = time.time()\n",
    "        best_iou = 0\n",
    "        best_acc = 0\n",
    "        best_auc = 0\n",
    "        best_col = 0\n",
    "        best_row = 0\n",
    "        best_agree = 0\n",
    "\n",
    "        for epoch in range(self.num_epochs):\n",
    "            print('Epoch {}/{}'.format(epoch, self.num_epochs - 1),flush=True)\n",
    "            print('-' * 10,flush=True)\n",
    "\n",
    "            # Each epoch has a training and validation phase\n",
    "            for phase in ['train', 'valid']:\n",
    "                if phase == 'train':                \n",
    "                    #Set the models to training mode\n",
    "                    self.selector.train()\n",
    "                    self.predictor.train()\n",
    "                    self.baseline.eval()\n",
    "        \n",
    "                else:\n",
    "                    #Set the models to evaluation mode\n",
    "                    self.selector.eval()\n",
    "                    self.baseline.eval()\n",
    "                    self.predictor.eval()\n",
    "                    \n",
    "                #Keep a track of all the three loss\n",
    "                running_sel_loss = 0.0\n",
    "                running_pred_loss = 0.0\n",
    "              \n",
    "                #Metrics : accuracy\n",
    "                running_pred_acc = 0\n",
    "                running_base_acc = 0\n",
    "                running_int = 0\n",
    "                running_agree = 0\n",
    "                \n",
    "                '''col and row list'''\n",
    "                running_col = 0\n",
    "                running_row = 0\n",
    "                \n",
    "                \n",
    "                '''aucroc'''\n",
    "                y_true = []\n",
    "                y_pred = []\n",
    "                \n",
    "                #tqdm bar\n",
    "                pbar = tqdm(total=self.dataset_sizes[phase])\n",
    "\n",
    "                # Iterate over data.\n",
    "                for sampled_batch in self.dataloaders[phase]:\n",
    "\n",
    "                    inputs = sampled_batch['image']\n",
    "                    labels = sampled_batch['category']\n",
    "                    mask = sampled_batch['mask']\n",
    "                    \n",
    "                    #Input needs to be float and labels long\n",
    "                    inputs = inputs.float().to(self.device)\n",
    "                    labels = labels.long().to(self.device)\n",
    "                    mask = mask.to(self.device)\n",
    "                    \n",
    "                    # zero the parameter gradients\n",
    "                    self.optimizer_sel.zero_grad()\n",
    "                    self.optimizer_pred.zero_grad()\n",
    "                    \n",
    "                    # forward\n",
    "                    # track history if only in train\n",
    "                    with torch.set_grad_enabled(phase == 'train'):\n",
    "                        \n",
    "                        #import pdb;pdb.set_trace()\n",
    "                        \n",
    "                        #Generate predictor output probabilities\n",
    "                        base_out,_ = self.baseline(inputs)\n",
    "                        base_prob = F.softmax(base_out)\n",
    "                        _, base_preds = torch.max(base_out, 1)\n",
    "                        \n",
    "                        #=>Baseline Cross entropy\n",
    "                        base_ce_loss = F.cross_entropy(base_out,labels)\n",
    "                                          \n",
    "                        '''Generate selection probabilites using selector function'''\n",
    "                        sel_prob = self.selector(inputs)\n",
    "                           \n",
    "                        '''Sample using selector output'''\n",
    "                        probs_sample = get_sample(sel_prob)\n",
    "\n",
    "                        m_r,m_c = get_patch_center(probs_sample,self.input_shape,3)\n",
    "\n",
    "                        r1,r2,c1,c2 = get_anchor_box(m_r,m_c,self.input_shape,self.patch_shape)\n",
    "                        \n",
    "                        r1 = 80\n",
    "                        r2 = 208\n",
    "                        c1 = 0\n",
    "                        c2 = 128\n",
    "                        \n",
    "                        '''Patch midpoint'''\n",
    "                        running_col += (c1+c2)/2\n",
    "                        running_row += (r1+r2)/2\n",
    "                        \n",
    "                        '''Intersection metric'''\n",
    "                        int_met = intersection_metric([r1,r2,c1,c2],mask)\n",
    "                        \n",
    "                        '''Extract patch'''\n",
    "                        patch = inputs[0,:,r1:r2,c1:c2].unsqueeze(dim=0)\n",
    "\n",
    "                        '''Generate predictor output probabilities using the baseline cnn'''\n",
    "                        pred_out,_ = self.predictor(patch)\n",
    "                        pred_prob = F.softmax(pred_out)\n",
    "                        _, pred_preds = torch.max(pred_out, 1)\n",
    "\n",
    "                        '''predictor cross entropy'''\n",
    "                        pred_ce_loss = F.cross_entropy(pred_out,labels)\n",
    "                        \n",
    "                        '''aucroc'''\n",
    "                        y_true.append(labels.data)\n",
    "                        y_pred.append(pred_prob.data[0][1])\n",
    "                        \n",
    "                        if base_preds == pred_preds:\n",
    "                            running_agree += 1\n",
    "\n",
    "\n",
    "                        with torch.no_grad():\n",
    "\n",
    "                            k_l = pred_ce_loss - base_ce_loss                  \n",
    "\n",
    "                        probs_sample = torch.Tensor(probs_sample).to(self.device)\n",
    "                        \n",
    "                        probs_sample = probs_sample.view(-1)\n",
    "                        sel_prob = F.softmax(sel_prob.view(-1))\n",
    "                        \n",
    "                        distribution_loss = torch.sum(probs_sample*torch.log(sel_prob + 1e-8)) #+ (1-probs_sample)*torch.log(1 - sel_prob + 1e-8))\n",
    "                                                \n",
    "                        sel_loss = distribution_loss*(k_l)# + 10*abs((r1+r2)/2-self.input_shape[0]//2)/self.input_shape[0]\n",
    "                                                                \n",
    "                        '''Back propogation'''\n",
    "                        if phase == 'train':\n",
    "                            \n",
    "                            '''update predictor'''\n",
    "                            pred_ce_loss.backward(retain_graph=True)\n",
    "                            self.optimizer_sel.zero_grad()\n",
    "                            self.optimizer_pred.step()\n",
    "                            \n",
    "                            '''update selector'''\n",
    "                            sel_loss.backward()\n",
    "                            self.optimizer_pred.zero_grad()\n",
    "                            self.optimizer_sel.step()\n",
    "                                    \n",
    "                    # statistics\n",
    "                    running_sel_loss += sel_loss.item() * inputs.size(0)\n",
    "                    running_pred_loss += pred_ce_loss.item() * inputs.size(0)\n",
    "                \n",
    "                    running_pred_acc += torch.sum(pred_preds == labels.data)\n",
    "                    running_base_acc += torch.sum(base_preds == labels.data)\n",
    "                    running_int += int_met * inputs.size(0)\n",
    "                    \n",
    "                    \n",
    "                    pbar.update(inputs.shape[0])\n",
    "                pbar.close()\n",
    "\n",
    "                epoch_sel_loss = running_sel_loss / self.dataset_sizes[phase]\n",
    "                epoch_pred_loss = running_pred_loss / self.dataset_sizes[phase]\n",
    "                \n",
    "                epoch_base_acc = running_base_acc.double()/ self.dataset_sizes[phase]\n",
    "                epoch_pred_acc = running_pred_acc.double() / self.dataset_sizes[phase]\n",
    "                epoch_int = running_int / self.dataset_sizes[phase]\n",
    "                epoch_agree = running_agree / self.dataset_sizes[phase]\n",
    "                \n",
    "                epoch_auc_roc = sklearn.metrics.roc_auc_score(y_true,y_pred,average='weighted')\n",
    "                epoch_row = running_row/self.dataset_sizes[phase]\n",
    "                epoch_col = running_col/self.dataset_sizes[phase]\n",
    "                \n",
    "                print('{} Sel_Loss: {:.4f} Pred_Loss: {:.4f} BAC: {:.4f} PAC: {:.4f} Agree: {:.4f} Int: {:.4f} Auc: {:4f} Row: {:4f} Col: {:4f}'.format(\n",
    "                    phase, epoch_sel_loss, epoch_pred_loss, epoch_base_acc, epoch_pred_acc, epoch_agree, epoch_int, epoch_auc_roc,epoch_row,epoch_col))\n",
    "\n",
    "                print('Best auc: {:.4f} Best row: {:.4f} Best Col: {:.4f} Best Int: {:.4f} Best Agree: {:.4f}'.format(best_auc, best_row,\n",
    "                                                       best_col, best_iou, best_agree))\n",
    "                \n",
    "                # deep copy the model\n",
    "                if phase == 'valid' and epoch_auc_roc > best_auc:\n",
    "                    \n",
    "                    best_row = epoch_row\n",
    "                    best_col = epoch_col\n",
    "                    best_iou = epoch_int\n",
    "                    best_agree = epoch_agree\n",
    "                    best_auc = epoch_auc_roc\n",
    "                    \n",
    "                    torch.save(self.selector.state_dict(),self.exp_name+'_sel.pt')\n",
    "                    torch.save(self.predictor.state_dict(),self.exp_name+'_pred.pt')\n",
    "\n",
    "\n",
    "        time_elapsed = time.time() - since\n",
    "        print('Training complete in {:.0f}m {:.0f}s'.format(\n",
    "            time_elapsed // 60, time_elapsed % 60))\n",
    "        print('Best iou: {:4f}'.format(best_iou))\n",
    "\n",
    "        torch.save(self.baseline.state_dict(),self.exp_name+'_base_final.pt')\n",
    "        torch.save(self.selector.state_dict(),self.exp_name+'_sel_final.pt')\n",
    "\n",
    "        print('Training completed finally !!!!!')\n",
    "        \n",
    "    def get_cam(self):\n",
    "                \n",
    "        self.selector.load_state_dict(torch.load(self.exp_name+'_sel_final.pt'))\n",
    "        self.selector.eval()\n",
    "        \n",
    "        acc = 0\n",
    "        total = 0\n",
    "        mode = 'test'\n",
    "\n",
    "        cm = []\n",
    "        m = []\n",
    "        bm = []\n",
    "        \n",
    "        params = list(self.selector.parameters())                        \n",
    "        weight_softmax = torch.squeeze(params[-2].data)\n",
    "        \n",
    "        iou = 0\n",
    "        \n",
    "        with torch.no_grad():\n",
    "            \n",
    "            pbar = tqdm(total=self.dataset_sizes[mode])\n",
    "            for data in self.dataloaders[mode]:\n",
    "\n",
    "                inputs = data['image']\n",
    "                labels = data['category']\n",
    "\n",
    "                inputs = inputs.to(self.device)\n",
    "                labels = labels.to(self.device) \n",
    "                \n",
    "                sel_prob = self.selector(inputs)\n",
    "                sel_prob = sel_prob - sel_prob.min()\n",
    "                sel_prob = sel_prob/sel_prob.max()\n",
    "\n",
    "                #Threshold using 0.5\n",
    "                #bin_samples = test_samples(sel_prob.data)\n",
    "                \n",
    "                #Sample using the distribution induced\n",
    "                bin_samples = sampler(sel_prob.data.cpu().numpy())\n",
    "                bin_samples = torch.Tensor(bin_samples).to(self.device)\n",
    "                bin_mask = self.prob_mask(bin_samples).to(self.device) \n",
    "\n",
    "                base_path = '../Experiments/Oxford_pets/'\n",
    "                name = data['name'][0]\n",
    "\n",
    "                #heatmap = cv2.applyColorMap(np.uint8(255*bin_mask.cpu().numpy().squeeze()), cv2.COLORMAP_JET)\n",
    "                heatmap = bin_mask.cpu().numpy().squeeze()\n",
    "                heatmap = np.expand_dims(heatmap,axis=2)\n",
    "                #heatmap = np.float32(heatmap) / 255\n",
    "                cam_f = heatmap*np.float32(inputs.cpu().numpy().squeeze().transpose((1,2,0)))\n",
    "                cam_f = cam_f / np.max(cam_f)\n",
    "                #cam_f = heatmap\n",
    "                pr = name.replace('.j','_bin_8x8_samp_share_1_final.j')\n",
    "                cv2.imwrite(base_path+pr,cam_f*255)\n",
    "\n",
    "                \n",
    "                pbar.update(inputs.shape[0])\n",
    "                \n",
    "            pbar.close()\n",
    "        \n",
    "\n",
    "    def return_model(self):\n",
    "        self.selector.load_state_dict(torch.load(self.exp_name+'_sel.pt'))\n",
    "        self.selector.eval()\n",
    "        return self.selector,self.dataloaders['valid']"
   ]
  },
  {
   "cell_type": "code",
   "execution_count": 2,
   "metadata": {
    "scrolled": true
   },
   "outputs": [],
   "source": [
    "dc = dc_invase(100,(288,256),(128,128))"
   ]
  },
  {
   "cell_type": "code",
   "execution_count": 3,
   "metadata": {
    "scrolled": true
   },
   "outputs": [
    {
     "name": "stdout",
     "output_type": "stream",
     "text": [
      "Epoch 0/99\n",
      "----------\n"
     ]
    },
    {
     "data": {
      "application/vnd.jupyter.widget-view+json": {
       "model_id": "dddbb8c6dd984ad48386a825cc189b43",
       "version_major": 2,
       "version_minor": 0
      },
      "text/plain": [
       "HBox(children=(IntProgress(value=0, max=1000), HTML(value='')))"
      ]
     },
     "metadata": {},
     "output_type": "display_data"
    },
    {
     "name": "stdout",
     "output_type": "stream",
     "text": [
      "\n",
      "train Sel_Loss: -0.0865 Pred_Loss: 0.7534 BAC: 0.9670 PAC: 0.4770 Agree: 0.4820 Int: 0.3791 Auc: 0.485314 Row: 144.000000 Col: 64.000000\n",
      "Best auc: 0.0000 Best row: 0.0000 Best Col: 0.0000 Best Int: 0.0000 Best Agree: 0.0000\n"
     ]
    },
    {
     "data": {
      "application/vnd.jupyter.widget-view+json": {
       "model_id": "6c5f4802c69a46ea998f65cc2656b003",
       "version_major": 2,
       "version_minor": 0
      },
      "text/plain": [
       "HBox(children=(IntProgress(value=0, max=231), HTML(value='')))"
      ]
     },
     "metadata": {},
     "output_type": "display_data"
    },
    {
     "name": "stdout",
     "output_type": "stream",
     "text": [
      "\n",
      "valid Sel_Loss: 0.4298 Pred_Loss: 0.6851 BAC: 0.7143 PAC: 0.6104 Agree: 0.5325 Int: 0.6914 Auc: 0.439913 Row: 144.000000 Col: 64.000000\n",
      "Best auc: 0.0000 Best row: 0.0000 Best Col: 0.0000 Best Int: 0.0000 Best Agree: 0.0000\n",
      "Epoch 1/99\n",
      "----------\n"
     ]
    },
    {
     "data": {
      "application/vnd.jupyter.widget-view+json": {
       "model_id": "9cb2e7cb4aca41039f12bac2584dd0b9",
       "version_major": 2,
       "version_minor": 0
      },
      "text/plain": [
       "HBox(children=(IntProgress(value=0, max=1000), HTML(value='')))"
      ]
     },
     "metadata": {},
     "output_type": "display_data"
    },
    {
     "name": "stdout",
     "output_type": "stream",
     "text": [
      "\n",
      "train Sel_Loss: -0.0325 Pred_Loss: 0.7029 BAC: 0.9690 PAC: 0.5520 Agree: 0.5510 Int: 0.4088 Auc: 0.544708 Row: 144.000000 Col: 64.000000\n",
      "Best auc: 0.4399 Best row: 144.0000 Best Col: 64.0000 Best Int: 0.6914 Best Agree: 0.5325\n"
     ]
    },
    {
     "data": {
      "application/vnd.jupyter.widget-view+json": {
       "model_id": "a38956b4f64c41bea2bc52197fab82e8",
       "version_major": 2,
       "version_minor": 0
      },
      "text/plain": [
       "HBox(children=(IntProgress(value=0, max=231), HTML(value='')))"
      ]
     },
     "metadata": {},
     "output_type": "display_data"
    },
    {
     "name": "stdout",
     "output_type": "stream",
     "text": [
      "\n",
      "valid Sel_Loss: 0.4451 Pred_Loss: 0.6899 BAC: 0.7143 PAC: 0.6104 Agree: 0.5325 Int: 0.6914 Auc: 0.553191 Row: 144.000000 Col: 64.000000\n",
      "Best auc: 0.4399 Best row: 144.0000 Best Col: 64.0000 Best Int: 0.6914 Best Agree: 0.5325\n",
      "Epoch 2/99\n",
      "----------\n"
     ]
    },
    {
     "data": {
      "application/vnd.jupyter.widget-view+json": {
       "model_id": "a072979275214770b0c0020a12b93b70",
       "version_major": 2,
       "version_minor": 0
      },
      "text/plain": [
       "HBox(children=(IntProgress(value=0, max=1000), HTML(value='')))"
      ]
     },
     "metadata": {},
     "output_type": "display_data"
    },
    {
     "name": "stdout",
     "output_type": "stream",
     "text": [
      "\n",
      "train Sel_Loss: -0.0101 Pred_Loss: 0.7024 BAC: 0.9740 PAC: 0.5140 Agree: 0.5100 Int: 0.3959 Auc: 0.507604 Row: 144.000000 Col: 64.000000\n",
      "Best auc: 0.5532 Best row: 144.0000 Best Col: 64.0000 Best Int: 0.6914 Best Agree: 0.5325\n"
     ]
    },
    {
     "data": {
      "application/vnd.jupyter.widget-view+json": {
       "model_id": "d29a1ab9e6674cdcb821334955db276e",
       "version_major": 2,
       "version_minor": 0
      },
      "text/plain": [
       "HBox(children=(IntProgress(value=0, max=231), HTML(value='')))"
      ]
     },
     "metadata": {},
     "output_type": "display_data"
    },
    {
     "name": "stdout",
     "output_type": "stream",
     "text": [
      "\n",
      "valid Sel_Loss: -0.1673 Pred_Loss: 0.9179 BAC: 0.7143 PAC: 0.4286 Agree: 0.4892 Int: 0.6914 Auc: 0.545469 Row: 144.000000 Col: 64.000000\n",
      "Best auc: 0.5532 Best row: 144.0000 Best Col: 64.0000 Best Int: 0.6914 Best Agree: 0.5325\n",
      "Epoch 3/99\n",
      "----------\n"
     ]
    },
    {
     "data": {
      "application/vnd.jupyter.widget-view+json": {
       "model_id": "81c68372c5404f49bd6daab14be97b35",
       "version_major": 2,
       "version_minor": 0
      },
      "text/plain": [
       "HBox(children=(IntProgress(value=0, max=1000), HTML(value='')))"
      ]
     },
     "metadata": {},
     "output_type": "display_data"
    },
    {
     "name": "stdout",
     "output_type": "stream",
     "text": [
      "\n",
      "train Sel_Loss: -0.0150 Pred_Loss: 0.7051 BAC: 0.9710 PAC: 0.4850 Agree: 0.4980 Int: 0.3688 Auc: 0.476644 Row: 144.000000 Col: 64.000000\n",
      "Best auc: 0.5532 Best row: 144.0000 Best Col: 64.0000 Best Int: 0.6914 Best Agree: 0.5325\n"
     ]
    },
    {
     "data": {
      "application/vnd.jupyter.widget-view+json": {
       "model_id": "4f0d8831936f4c678df2e583c0a36238",
       "version_major": 2,
       "version_minor": 0
      },
      "text/plain": [
       "HBox(children=(IntProgress(value=0, max=231), HTML(value='')))"
      ]
     },
     "metadata": {},
     "output_type": "display_data"
    },
    {
     "name": "stdout",
     "output_type": "stream",
     "text": [
      "\n",
      "valid Sel_Loss: -0.3299 Pred_Loss: 1.0000 BAC: 0.7143 PAC: 0.4545 Agree: 0.4892 Int: 0.6914 Auc: 0.492120 Row: 144.000000 Col: 64.000000\n",
      "Best auc: 0.5532 Best row: 144.0000 Best Col: 64.0000 Best Int: 0.6914 Best Agree: 0.5325\n",
      "Epoch 4/99\n",
      "----------\n"
     ]
    },
    {
     "data": {
      "application/vnd.jupyter.widget-view+json": {
       "model_id": "beddb856a9c04bda8d8cf4b46697a920",
       "version_major": 2,
       "version_minor": 0
      },
      "text/plain": [
       "HBox(children=(IntProgress(value=0, max=1000), HTML(value='')))"
      ]
     },
     "metadata": {},
     "output_type": "display_data"
    },
    {
     "name": "stdout",
     "output_type": "stream",
     "text": [
      "\n",
      "train Sel_Loss: -0.0174 Pred_Loss: 0.6990 BAC: 0.9720 PAC: 0.5160 Agree: 0.5160 Int: 0.3810 Auc: 0.510196 Row: 144.000000 Col: 64.000000\n",
      "Best auc: 0.5532 Best row: 144.0000 Best Col: 64.0000 Best Int: 0.6914 Best Agree: 0.5325\n"
     ]
    },
    {
     "data": {
      "application/vnd.jupyter.widget-view+json": {
       "model_id": "bd81f9d16b14401895682ae9f9bd19ee",
       "version_major": 2,
       "version_minor": 0
      },
      "text/plain": [
       "HBox(children=(IntProgress(value=0, max=231), HTML(value='')))"
      ]
     },
     "metadata": {},
     "output_type": "display_data"
    },
    {
     "name": "stdout",
     "output_type": "stream",
     "text": [
      "\n",
      "valid Sel_Loss: 0.1094 Pred_Loss: 0.6910 BAC: 0.7143 PAC: 0.6061 Agree: 0.5368 Int: 0.6914 Auc: 0.460717 Row: 144.000000 Col: 64.000000\n",
      "Best auc: 0.5532 Best row: 144.0000 Best Col: 64.0000 Best Int: 0.6914 Best Agree: 0.5325\n",
      "Epoch 5/99\n",
      "----------\n"
     ]
    },
    {
     "data": {
      "application/vnd.jupyter.widget-view+json": {
       "model_id": "81ae5af2bdc24035a3f41a312567f9ca",
       "version_major": 2,
       "version_minor": 0
      },
      "text/plain": [
       "HBox(children=(IntProgress(value=0, max=1000), HTML(value='')))"
      ]
     },
     "metadata": {},
     "output_type": "display_data"
    },
    {
     "name": "stdout",
     "output_type": "stream",
     "text": [
      "\n",
      "train Sel_Loss: -0.0098 Pred_Loss: 0.6980 BAC: 0.9690 PAC: 0.4930 Agree: 0.4880 Int: 0.3931 Auc: 0.496336 Row: 144.000000 Col: 64.000000\n",
      "Best auc: 0.5532 Best row: 144.0000 Best Col: 64.0000 Best Int: 0.6914 Best Agree: 0.5325\n"
     ]
    },
    {
     "data": {
      "application/vnd.jupyter.widget-view+json": {
       "model_id": "0a109a2ddb96432db1b04914b1801e25",
       "version_major": 2,
       "version_minor": 0
      },
      "text/plain": [
       "HBox(children=(IntProgress(value=0, max=231), HTML(value='')))"
      ]
     },
     "metadata": {},
     "output_type": "display_data"
    },
    {
     "name": "stdout",
     "output_type": "stream",
     "text": [
      "\n",
      "valid Sel_Loss: 0.2507 Pred_Loss: 0.8292 BAC: 0.7143 PAC: 0.6104 Agree: 0.5325 Int: 0.6914 Auc: 0.493302 Row: 144.000000 Col: 64.000000\n",
      "Best auc: 0.5532 Best row: 144.0000 Best Col: 64.0000 Best Int: 0.6914 Best Agree: 0.5325\n",
      "Epoch 6/99\n",
      "----------\n"
     ]
    },
    {
     "data": {
      "application/vnd.jupyter.widget-view+json": {
       "model_id": "645d6d3b78404d2c851d5703aa560bd4",
       "version_major": 2,
       "version_minor": 0
      },
      "text/plain": [
       "HBox(children=(IntProgress(value=0, max=1000), HTML(value='')))"
      ]
     },
     "metadata": {},
     "output_type": "display_data"
    },
    {
     "name": "stdout",
     "output_type": "stream",
     "text": [
      "\n",
      "train Sel_Loss: -0.0112 Pred_Loss: 0.6964 BAC: 0.9740 PAC: 0.4920 Agree: 0.5060 Int: 0.3826 Auc: 0.482212 Row: 144.000000 Col: 64.000000\n",
      "Best auc: 0.5532 Best row: 144.0000 Best Col: 64.0000 Best Int: 0.6914 Best Agree: 0.5325\n"
     ]
    },
    {
     "data": {
      "application/vnd.jupyter.widget-view+json": {
       "model_id": "458090097d284a35af34437ae6c6bda6",
       "version_major": 2,
       "version_minor": 0
      },
      "text/plain": [
       "HBox(children=(IntProgress(value=0, max=231), HTML(value='')))"
      ]
     },
     "metadata": {},
     "output_type": "display_data"
    },
    {
     "name": "stdout",
     "output_type": "stream",
     "text": [
      "\n",
      "valid Sel_Loss: -0.1923 Pred_Loss: 0.9716 BAC: 0.7143 PAC: 0.5455 Agree: 0.4675 Int: 0.6914 Auc: 0.454255 Row: 144.000000 Col: 64.000000\n",
      "Best auc: 0.5532 Best row: 144.0000 Best Col: 64.0000 Best Int: 0.6914 Best Agree: 0.5325\n",
      "Epoch 7/99\n",
      "----------\n"
     ]
    },
    {
     "data": {
      "application/vnd.jupyter.widget-view+json": {
       "model_id": "f11afeb5045b466a88b6a9de52db68ff",
       "version_major": 2,
       "version_minor": 0
      },
      "text/plain": [
       "HBox(children=(IntProgress(value=0, max=1000), HTML(value='')))"
      ]
     },
     "metadata": {},
     "output_type": "display_data"
    },
    {
     "name": "stdout",
     "output_type": "stream",
     "text": [
      "\n",
      "train Sel_Loss: -0.0136 Pred_Loss: 0.7030 BAC: 0.9710 PAC: 0.4930 Agree: 0.4860 Int: 0.3916 Auc: 0.492032 Row: 144.000000 Col: 64.000000\n",
      "Best auc: 0.5532 Best row: 144.0000 Best Col: 64.0000 Best Int: 0.6914 Best Agree: 0.5325\n"
     ]
    },
    {
     "data": {
      "application/vnd.jupyter.widget-view+json": {
       "model_id": "7082edb329974c5bad3c6da8fdd38898",
       "version_major": 2,
       "version_minor": 0
      },
      "text/plain": [
       "HBox(children=(IntProgress(value=0, max=231), HTML(value='')))"
      ]
     },
     "metadata": {},
     "output_type": "display_data"
    },
    {
     "name": "stdout",
     "output_type": "stream",
     "text": [
      "\n",
      "valid Sel_Loss: 0.1955 Pred_Loss: 0.6925 BAC: 0.7143 PAC: 0.5931 Agree: 0.5325 Int: 0.6914 Auc: 0.494641 Row: 144.000000 Col: 64.000000\n",
      "Best auc: 0.5532 Best row: 144.0000 Best Col: 64.0000 Best Int: 0.6914 Best Agree: 0.5325\n",
      "Epoch 8/99\n",
      "----------\n"
     ]
    },
    {
     "data": {
      "application/vnd.jupyter.widget-view+json": {
       "model_id": "454318c2b4bc40d1a0b3f2b53a1f2bdd",
       "version_major": 2,
       "version_minor": 0
      },
      "text/plain": [
       "HBox(children=(IntProgress(value=0, max=1000), HTML(value='')))"
      ]
     },
     "metadata": {},
     "output_type": "display_data"
    },
    {
     "name": "stdout",
     "output_type": "stream",
     "text": [
      "\n",
      "train Sel_Loss: -0.0294 Pred_Loss: 0.6992 BAC: 0.9770 PAC: 0.5000 Agree: 0.5010 Int: 0.3830 Auc: 0.484512 Row: 144.000000 Col: 64.000000\n",
      "Best auc: 0.5532 Best row: 144.0000 Best Col: 64.0000 Best Int: 0.6914 Best Agree: 0.5325\n"
     ]
    },
    {
     "data": {
      "application/vnd.jupyter.widget-view+json": {
       "model_id": "d3dc40f175a94c299dfdb049cef7bb9a",
       "version_major": 2,
       "version_minor": 0
      },
      "text/plain": [
       "HBox(children=(IntProgress(value=0, max=231), HTML(value='')))"
      ]
     },
     "metadata": {},
     "output_type": "display_data"
    },
    {
     "name": "stdout",
     "output_type": "stream",
     "text": [
      "\n",
      "valid Sel_Loss: 0.0053 Pred_Loss: 0.6887 BAC: 0.7143 PAC: 0.6104 Agree: 0.5325 Int: 0.6914 Auc: 0.500000 Row: 144.000000 Col: 64.000000\n",
      "Best auc: 0.5532 Best row: 144.0000 Best Col: 64.0000 Best Int: 0.6914 Best Agree: 0.5325\n",
      "Epoch 9/99\n",
      "----------\n"
     ]
    },
    {
     "data": {
      "application/vnd.jupyter.widget-view+json": {
       "model_id": "7194796df6dd446190ec26e604dfa07f",
       "version_major": 2,
       "version_minor": 0
      },
      "text/plain": [
       "HBox(children=(IntProgress(value=0, max=1000), HTML(value='')))"
      ]
     },
     "metadata": {},
     "output_type": "display_data"
    },
    {
     "name": "stdout",
     "output_type": "stream",
     "text": [
      "\n",
      "train Sel_Loss: -0.0073 Pred_Loss: 0.6976 BAC: 0.9700 PAC: 0.5140 Agree: 0.5040 Int: 0.4083 Auc: 0.508212 Row: 144.000000 Col: 64.000000\n",
      "Best auc: 0.5532 Best row: 144.0000 Best Col: 64.0000 Best Int: 0.6914 Best Agree: 0.5325\n"
     ]
    },
    {
     "data": {
      "application/vnd.jupyter.widget-view+json": {
       "model_id": "ef042e99c7964a27aa365ba03e0ac532",
       "version_major": 2,
       "version_minor": 0
      },
      "text/plain": [
       "HBox(children=(IntProgress(value=0, max=231), HTML(value='')))"
      ]
     },
     "metadata": {},
     "output_type": "display_data"
    },
    {
     "name": "stdout",
     "output_type": "stream",
     "text": [
      "\n",
      "valid Sel_Loss: 0.0363 Pred_Loss: 0.6922 BAC: 0.7143 PAC: 0.5974 Agree: 0.5281 Int: 0.6914 Auc: 0.501418 Row: 144.000000 Col: 64.000000\n",
      "Best auc: 0.5532 Best row: 144.0000 Best Col: 64.0000 Best Int: 0.6914 Best Agree: 0.5325\n",
      "Epoch 10/99\n",
      "----------\n"
     ]
    },
    {
     "data": {
      "application/vnd.jupyter.widget-view+json": {
       "model_id": "6b36336aa85446e0b87273b43b067dda",
       "version_major": 2,
       "version_minor": 0
      },
      "text/plain": [
       "HBox(children=(IntProgress(value=0, max=1000), HTML(value='')))"
      ]
     },
     "metadata": {},
     "output_type": "display_data"
    },
    {
     "name": "stdout",
     "output_type": "stream",
     "text": [
      "\n",
      "train Sel_Loss: -0.0066 Pred_Loss: 0.6990 BAC: 0.9700 PAC: 0.4980 Agree: 0.4880 Int: 0.3900 Auc: 0.489428 Row: 144.000000 Col: 64.000000\n",
      "Best auc: 0.5532 Best row: 144.0000 Best Col: 64.0000 Best Int: 0.6914 Best Agree: 0.5325\n"
     ]
    },
    {
     "data": {
      "application/vnd.jupyter.widget-view+json": {
       "model_id": "5735fc5985934a60b944e018b7705c80",
       "version_major": 2,
       "version_minor": 0
      },
      "text/plain": [
       "HBox(children=(IntProgress(value=0, max=231), HTML(value='')))"
      ]
     },
     "metadata": {},
     "output_type": "display_data"
    },
    {
     "name": "stdout",
     "output_type": "stream",
     "text": [
      "\n",
      "valid Sel_Loss: -0.0065 Pred_Loss: 0.6828 BAC: 0.7143 PAC: 0.6104 Agree: 0.5325 Int: 0.6914 Auc: 0.512845 Row: 144.000000 Col: 64.000000\n",
      "Best auc: 0.5532 Best row: 144.0000 Best Col: 64.0000 Best Int: 0.6914 Best Agree: 0.5325\n",
      "Epoch 11/99\n",
      "----------\n"
     ]
    },
    {
     "data": {
      "application/vnd.jupyter.widget-view+json": {
       "model_id": "4d31a18530294998b6731434cf1dbd5d",
       "version_major": 2,
       "version_minor": 0
      },
      "text/plain": [
       "HBox(children=(IntProgress(value=0, max=1000), HTML(value='')))"
      ]
     },
     "metadata": {},
     "output_type": "display_data"
    },
    {
     "name": "stdout",
     "output_type": "stream",
     "text": [
      "\n",
      "train Sel_Loss: -0.0030 Pred_Loss: 0.6996 BAC: 0.9670 PAC: 0.4660 Agree: 0.4770 Int: 0.4035 Auc: 0.479012 Row: 144.000000 Col: 64.000000\n",
      "Best auc: 0.5532 Best row: 144.0000 Best Col: 64.0000 Best Int: 0.6914 Best Agree: 0.5325\n"
     ]
    },
    {
     "data": {
      "application/vnd.jupyter.widget-view+json": {
       "model_id": "382dcf310be045f99ed15cad4a2a72b5",
       "version_major": 2,
       "version_minor": 0
      },
      "text/plain": [
       "HBox(children=(IntProgress(value=0, max=231), HTML(value='')))"
      ]
     },
     "metadata": {},
     "output_type": "display_data"
    },
    {
     "name": "stdout",
     "output_type": "stream",
     "text": [
      "\n",
      "valid Sel_Loss: 0.6178 Pred_Loss: 0.6809 BAC: 0.7143 PAC: 0.6104 Agree: 0.5325 Int: 0.6914 Auc: 0.501064 Row: 144.000000 Col: 64.000000\n",
      "Best auc: 0.5532 Best row: 144.0000 Best Col: 64.0000 Best Int: 0.6914 Best Agree: 0.5325\n",
      "Epoch 12/99\n",
      "----------\n"
     ]
    },
    {
     "data": {
      "application/vnd.jupyter.widget-view+json": {
       "model_id": "0c7fcb3dba844f1683379909f61c5ddc",
       "version_major": 2,
       "version_minor": 0
      },
      "text/plain": [
       "HBox(children=(IntProgress(value=0, max=1000), HTML(value='')))"
      ]
     },
     "metadata": {},
     "output_type": "display_data"
    },
    {
     "name": "stdout",
     "output_type": "stream",
     "text": [
      "\n",
      "train Sel_Loss: -0.0101 Pred_Loss: 0.6995 BAC: 0.9690 PAC: 0.5020 Agree: 0.5030 Int: 0.3697 Auc: 0.494364 Row: 144.000000 Col: 64.000000\n",
      "Best auc: 0.5532 Best row: 144.0000 Best Col: 64.0000 Best Int: 0.6914 Best Agree: 0.5325\n"
     ]
    },
    {
     "data": {
      "application/vnd.jupyter.widget-view+json": {
       "model_id": "7c0359b373164eee918a6a16ee711d50",
       "version_major": 2,
       "version_minor": 0
      },
      "text/plain": [
       "HBox(children=(IntProgress(value=0, max=231), HTML(value='')))"
      ]
     },
     "metadata": {},
     "output_type": "display_data"
    },
    {
     "name": "stdout",
     "output_type": "stream",
     "text": [
      "\n",
      "valid Sel_Loss: -0.0369 Pred_Loss: 1.6031 BAC: 0.7143 PAC: 0.6104 Agree: 0.5325 Int: 0.6914 Auc: 0.511466 Row: 144.000000 Col: 64.000000\n",
      "Best auc: 0.5532 Best row: 144.0000 Best Col: 64.0000 Best Int: 0.6914 Best Agree: 0.5325\n",
      "Epoch 13/99\n",
      "----------\n"
     ]
    },
    {
     "data": {
      "application/vnd.jupyter.widget-view+json": {
       "model_id": "4527a8041ce64dc49a5cc66f4d12c39b",
       "version_major": 2,
       "version_minor": 0
      },
      "text/plain": [
       "HBox(children=(IntProgress(value=0, max=1000), HTML(value='')))"
      ]
     },
     "metadata": {},
     "output_type": "display_data"
    },
    {
     "name": "stdout",
     "output_type": "stream",
     "text": [
      "\n",
      "train Sel_Loss: -0.0122 Pred_Loss: 0.7018 BAC: 0.9640 PAC: 0.4890 Agree: 0.4850 Int: 0.3977 Auc: 0.482940 Row: 144.000000 Col: 64.000000\n",
      "Best auc: 0.5532 Best row: 144.0000 Best Col: 64.0000 Best Int: 0.6914 Best Agree: 0.5325\n"
     ]
    },
    {
     "data": {
      "application/vnd.jupyter.widget-view+json": {
       "model_id": "933d0ec1872e4b8f9191b4431b1bb893",
       "version_major": 2,
       "version_minor": 0
      },
      "text/plain": [
       "HBox(children=(IntProgress(value=0, max=231), HTML(value='')))"
      ]
     },
     "metadata": {},
     "output_type": "display_data"
    },
    {
     "name": "stdout",
     "output_type": "stream",
     "text": [
      "\n",
      "valid Sel_Loss: 0.1740 Pred_Loss: 0.7759 BAC: 0.7143 PAC: 0.6104 Agree: 0.5325 Int: 0.6914 Auc: 0.487431 Row: 144.000000 Col: 64.000000\n",
      "Best auc: 0.5532 Best row: 144.0000 Best Col: 64.0000 Best Int: 0.6914 Best Agree: 0.5325\n",
      "Epoch 14/99\n",
      "----------\n"
     ]
    },
    {
     "data": {
      "application/vnd.jupyter.widget-view+json": {
       "model_id": "af59e2ebfdf045529068b9d17f97b95d",
       "version_major": 2,
       "version_minor": 0
      },
      "text/plain": [
       "HBox(children=(IntProgress(value=0, max=1000), HTML(value='')))"
      ]
     },
     "metadata": {},
     "output_type": "display_data"
    },
    {
     "name": "stdout",
     "output_type": "stream",
     "text": [
      "\n",
      "train Sel_Loss: -0.0078 Pred_Loss: 0.6987 BAC: 0.9670 PAC: 0.4650 Agree: 0.4640 Int: 0.3879 Auc: 0.455112 Row: 144.000000 Col: 64.000000\n",
      "Best auc: 0.5532 Best row: 144.0000 Best Col: 64.0000 Best Int: 0.6914 Best Agree: 0.5325\n"
     ]
    },
    {
     "data": {
      "application/vnd.jupyter.widget-view+json": {
       "model_id": "308903148f294e2b9973434fd0094184",
       "version_major": 2,
       "version_minor": 0
      },
      "text/plain": [
       "HBox(children=(IntProgress(value=0, max=231), HTML(value='')))"
      ]
     },
     "metadata": {},
     "output_type": "display_data"
    },
    {
     "name": "stdout",
     "output_type": "stream",
     "text": [
      "\n",
      "valid Sel_Loss: 0.1816 Pred_Loss: 0.9224 BAC: 0.7143 PAC: 0.3896 Agree: 0.4589 Int: 0.6914 Auc: 0.428369 Row: 144.000000 Col: 64.000000\n",
      "Best auc: 0.5532 Best row: 144.0000 Best Col: 64.0000 Best Int: 0.6914 Best Agree: 0.5325\n",
      "Epoch 15/99\n",
      "----------\n"
     ]
    },
    {
     "data": {
      "application/vnd.jupyter.widget-view+json": {
       "model_id": "704888ed4cf94905aab149843af55fc0",
       "version_major": 2,
       "version_minor": 0
      },
      "text/plain": [
       "HBox(children=(IntProgress(value=0, max=1000), HTML(value='')))"
      ]
     },
     "metadata": {},
     "output_type": "display_data"
    },
    {
     "name": "stdout",
     "output_type": "stream",
     "text": [
      "\n",
      "train Sel_Loss: -0.0043 Pred_Loss: 0.6965 BAC: 0.9670 PAC: 0.4710 Agree: 0.4700 Int: 0.3685 Auc: 0.475920 Row: 144.000000 Col: 64.000000\n",
      "Best auc: 0.5532 Best row: 144.0000 Best Col: 64.0000 Best Int: 0.6914 Best Agree: 0.5325\n"
     ]
    },
    {
     "data": {
      "application/vnd.jupyter.widget-view+json": {
       "model_id": "9ee760d7b8e448778977f66371b03a56",
       "version_major": 2,
       "version_minor": 0
      },
      "text/plain": [
       "HBox(children=(IntProgress(value=0, max=231), HTML(value='')))"
      ]
     },
     "metadata": {},
     "output_type": "display_data"
    },
    {
     "name": "stdout",
     "output_type": "stream",
     "text": [
      "\n",
      "valid Sel_Loss: -0.0039 Pred_Loss: 0.8894 BAC: 0.7143 PAC: 0.4199 Agree: 0.4892 Int: 0.6914 Auc: 0.460757 Row: 144.000000 Col: 64.000000\n",
      "Best auc: 0.5532 Best row: 144.0000 Best Col: 64.0000 Best Int: 0.6914 Best Agree: 0.5325\n",
      "Epoch 16/99\n",
      "----------\n"
     ]
    },
    {
     "data": {
      "application/vnd.jupyter.widget-view+json": {
       "model_id": "917bf2d77bf944888a1bca50d3e7b6a9",
       "version_major": 2,
       "version_minor": 0
      },
      "text/plain": [
       "HBox(children=(IntProgress(value=0, max=1000), HTML(value='')))"
      ]
     },
     "metadata": {},
     "output_type": "display_data"
    },
    {
     "name": "stdout",
     "output_type": "stream",
     "text": [
      "\n",
      "train Sel_Loss: -0.0092 Pred_Loss: 0.6954 BAC: 0.9690 PAC: 0.5160 Agree: 0.5110 Int: 0.4080 Auc: 0.500804 Row: 144.000000 Col: 64.000000\n",
      "Best auc: 0.5532 Best row: 144.0000 Best Col: 64.0000 Best Int: 0.6914 Best Agree: 0.5325\n"
     ]
    },
    {
     "data": {
      "application/vnd.jupyter.widget-view+json": {
       "model_id": "f0614bdb06e04c24b3d35bc070eab2a3",
       "version_major": 2,
       "version_minor": 0
      },
      "text/plain": [
       "HBox(children=(IntProgress(value=0, max=231), HTML(value='')))"
      ]
     },
     "metadata": {},
     "output_type": "display_data"
    },
    {
     "name": "stdout",
     "output_type": "stream",
     "text": [
      "\n",
      "valid Sel_Loss: 0.0082 Pred_Loss: 0.6773 BAC: 0.7143 PAC: 0.6017 Agree: 0.5152 Int: 0.6914 Auc: 0.487510 Row: 144.000000 Col: 64.000000\n",
      "Best auc: 0.5532 Best row: 144.0000 Best Col: 64.0000 Best Int: 0.6914 Best Agree: 0.5325\n",
      "Epoch 17/99\n",
      "----------\n"
     ]
    },
    {
     "data": {
      "application/vnd.jupyter.widget-view+json": {
       "model_id": "b6a413eb7e264e009e87136e96e9f25b",
       "version_major": 2,
       "version_minor": 0
      },
      "text/plain": [
       "HBox(children=(IntProgress(value=0, max=1000), HTML(value='')))"
      ]
     },
     "metadata": {},
     "output_type": "display_data"
    },
    {
     "name": "stdout",
     "output_type": "stream",
     "text": [
      "\n",
      "train Sel_Loss: -0.0023 Pred_Loss: 0.7008 BAC: 0.9710 PAC: 0.4650 Agree: 0.4680 Int: 0.3839 Auc: 0.459948 Row: 144.000000 Col: 64.000000\n",
      "Best auc: 0.5532 Best row: 144.0000 Best Col: 64.0000 Best Int: 0.6914 Best Agree: 0.5325\n"
     ]
    },
    {
     "data": {
      "application/vnd.jupyter.widget-view+json": {
       "model_id": "e5ae6ee97a584541a47f0d881aef8f83",
       "version_major": 2,
       "version_minor": 0
      },
      "text/plain": [
       "HBox(children=(IntProgress(value=0, max=231), HTML(value='')))"
      ]
     },
     "metadata": {},
     "output_type": "display_data"
    },
    {
     "name": "stdout",
     "output_type": "stream",
     "text": [
      "\n",
      "valid Sel_Loss: 0.2770 Pred_Loss: 0.7589 BAC: 0.7143 PAC: 0.3853 Agree: 0.4113 Int: 0.6914 Auc: 0.425138 Row: 144.000000 Col: 64.000000\n",
      "Best auc: 0.5532 Best row: 144.0000 Best Col: 64.0000 Best Int: 0.6914 Best Agree: 0.5325\n",
      "Epoch 18/99\n",
      "----------\n"
     ]
    },
    {
     "data": {
      "application/vnd.jupyter.widget-view+json": {
       "model_id": "9b1759b4ff54404da9bb2a73a3f76b66",
       "version_major": 2,
       "version_minor": 0
      },
      "text/plain": [
       "HBox(children=(IntProgress(value=0, max=1000), HTML(value='')))"
      ]
     },
     "metadata": {},
     "output_type": "display_data"
    },
    {
     "name": "stdout",
     "output_type": "stream",
     "text": [
      "\n",
      "train Sel_Loss: -0.0045 Pred_Loss: 0.6988 BAC: 0.9700 PAC: 0.5220 Agree: 0.5200 Int: 0.3749 Auc: 0.514048 Row: 144.000000 Col: 64.000000\n",
      "Best auc: 0.5532 Best row: 144.0000 Best Col: 64.0000 Best Int: 0.6914 Best Agree: 0.5325\n"
     ]
    },
    {
     "data": {
      "application/vnd.jupyter.widget-view+json": {
       "model_id": "68c568cd9db64fbdb751418fac9103a9",
       "version_major": 2,
       "version_minor": 0
      },
      "text/plain": [
       "HBox(children=(IntProgress(value=0, max=231), HTML(value='')))"
      ]
     },
     "metadata": {},
     "output_type": "display_data"
    },
    {
     "name": "stdout",
     "output_type": "stream",
     "text": [
      "\n",
      "valid Sel_Loss: 0.4565 Pred_Loss: 0.6764 BAC: 0.7143 PAC: 0.6104 Agree: 0.5325 Int: 0.6914 Auc: 0.491883 Row: 144.000000 Col: 64.000000\n",
      "Best auc: 0.5532 Best row: 144.0000 Best Col: 64.0000 Best Int: 0.6914 Best Agree: 0.5325\n",
      "Epoch 19/99\n",
      "----------\n"
     ]
    },
    {
     "data": {
      "application/vnd.jupyter.widget-view+json": {
       "model_id": "9de9bde74d1c4319af6e3b6621aef46d",
       "version_major": 2,
       "version_minor": 0
      },
      "text/plain": [
       "HBox(children=(IntProgress(value=0, max=1000), HTML(value='')))"
      ]
     },
     "metadata": {},
     "output_type": "display_data"
    },
    {
     "name": "stdout",
     "output_type": "stream",
     "text": [
      "\n",
      "train Sel_Loss: -0.0043 Pred_Loss: 0.6966 BAC: 0.9660 PAC: 0.5010 Agree: 0.5050 Int: 0.3976 Auc: 0.486284 Row: 144.000000 Col: 64.000000\n",
      "Best auc: 0.5532 Best row: 144.0000 Best Col: 64.0000 Best Int: 0.6914 Best Agree: 0.5325\n"
     ]
    },
    {
     "data": {
      "application/vnd.jupyter.widget-view+json": {
       "model_id": "f9a2be88441d405e980893707ed22f3b",
       "version_major": 2,
       "version_minor": 0
      },
      "text/plain": [
       "HBox(children=(IntProgress(value=0, max=231), HTML(value='')))"
      ]
     },
     "metadata": {},
     "output_type": "display_data"
    },
    {
     "name": "stdout",
     "output_type": "stream",
     "text": [
      "\n",
      "valid Sel_Loss: -0.0169 Pred_Loss: 0.6878 BAC: 0.7143 PAC: 0.6017 Agree: 0.5411 Int: 0.6914 Auc: 0.416785 Row: 144.000000 Col: 64.000000\n",
      "Best auc: 0.5532 Best row: 144.0000 Best Col: 64.0000 Best Int: 0.6914 Best Agree: 0.5325\n",
      "Epoch 20/99\n",
      "----------\n"
     ]
    },
    {
     "data": {
      "application/vnd.jupyter.widget-view+json": {
       "model_id": "42093059fee546eba02e2a92262cffb7",
       "version_major": 2,
       "version_minor": 0
      },
      "text/plain": [
       "HBox(children=(IntProgress(value=0, max=1000), HTML(value='')))"
      ]
     },
     "metadata": {},
     "output_type": "display_data"
    },
    {
     "name": "stdout",
     "output_type": "stream",
     "text": [
      "\n",
      "train Sel_Loss: -0.0036 Pred_Loss: 0.6946 BAC: 0.9640 PAC: 0.5210 Agree: 0.5150 Int: 0.3748 Auc: 0.503668 Row: 144.000000 Col: 64.000000\n",
      "Best auc: 0.5532 Best row: 144.0000 Best Col: 64.0000 Best Int: 0.6914 Best Agree: 0.5325\n"
     ]
    },
    {
     "data": {
      "application/vnd.jupyter.widget-view+json": {
       "model_id": "a6debda5c9094908a7af7dd36c73222b",
       "version_major": 2,
       "version_minor": 0
      },
      "text/plain": [
       "HBox(children=(IntProgress(value=0, max=231), HTML(value='')))"
      ]
     },
     "metadata": {},
     "output_type": "display_data"
    },
    {
     "name": "stdout",
     "output_type": "stream",
     "text": [
      "\n",
      "valid Sel_Loss: 0.6360 Pred_Loss: 0.6805 BAC: 0.7143 PAC: 0.6104 Agree: 0.5325 Int: 0.6914 Auc: 0.487786 Row: 144.000000 Col: 64.000000\n",
      "Best auc: 0.5532 Best row: 144.0000 Best Col: 64.0000 Best Int: 0.6914 Best Agree: 0.5325\n",
      "Epoch 21/99\n",
      "----------\n"
     ]
    },
    {
     "data": {
      "application/vnd.jupyter.widget-view+json": {
       "model_id": "69fa94f2dc8d47c18ff7d0244ae96d68",
       "version_major": 2,
       "version_minor": 0
      },
      "text/plain": [
       "HBox(children=(IntProgress(value=0, max=1000), HTML(value='')))"
      ]
     },
     "metadata": {},
     "output_type": "display_data"
    },
    {
     "name": "stdout",
     "output_type": "stream",
     "text": [
      "\n",
      "train Sel_Loss: -0.0040 Pred_Loss: 0.6944 BAC: 0.9850 PAC: 0.5100 Agree: 0.5110 Int: 0.3901 Auc: 0.506048 Row: 144.000000 Col: 64.000000\n",
      "Best auc: 0.5532 Best row: 144.0000 Best Col: 64.0000 Best Int: 0.6914 Best Agree: 0.5325\n"
     ]
    },
    {
     "data": {
      "application/vnd.jupyter.widget-view+json": {
       "model_id": "af8d041d6c6d41d19ac2a3c7f15512c7",
       "version_major": 2,
       "version_minor": 0
      },
      "text/plain": [
       "HBox(children=(IntProgress(value=0, max=231), HTML(value='')))"
      ]
     },
     "metadata": {},
     "output_type": "display_data"
    },
    {
     "name": "stdout",
     "output_type": "stream",
     "text": [
      "\n",
      "valid Sel_Loss: 0.5866 Pred_Loss: 0.6848 BAC: 0.7143 PAC: 0.5974 Agree: 0.5281 Int: 0.6914 Auc: 0.527581 Row: 144.000000 Col: 64.000000\n",
      "Best auc: 0.5532 Best row: 144.0000 Best Col: 64.0000 Best Int: 0.6914 Best Agree: 0.5325\n",
      "Epoch 22/99\n",
      "----------\n"
     ]
    },
    {
     "data": {
      "application/vnd.jupyter.widget-view+json": {
       "model_id": "fbc95d6f241d4465a9d9a71a4921642d",
       "version_major": 2,
       "version_minor": 0
      },
      "text/plain": [
       "HBox(children=(IntProgress(value=0, max=1000), HTML(value='')))"
      ]
     },
     "metadata": {},
     "output_type": "display_data"
    },
    {
     "name": "stdout",
     "output_type": "stream",
     "text": [
      "\n",
      "train Sel_Loss: -0.0016 Pred_Loss: 0.6969 BAC: 0.9690 PAC: 0.4700 Agree: 0.4830 Int: 0.4074 Auc: 0.442692 Row: 144.000000 Col: 64.000000\n",
      "Best auc: 0.5532 Best row: 144.0000 Best Col: 64.0000 Best Int: 0.6914 Best Agree: 0.5325\n"
     ]
    },
    {
     "data": {
      "application/vnd.jupyter.widget-view+json": {
       "model_id": "436cf90fb94b47ce8ac48872bf93b03b",
       "version_major": 2,
       "version_minor": 0
      },
      "text/plain": [
       "HBox(children=(IntProgress(value=0, max=231), HTML(value='')))"
      ]
     },
     "metadata": {},
     "output_type": "display_data"
    },
    {
     "name": "stdout",
     "output_type": "stream",
     "text": [
      "\n",
      "valid Sel_Loss: 0.6012 Pred_Loss: 0.7121 BAC: 0.7143 PAC: 0.3939 Agree: 0.4805 Int: 0.6914 Auc: 0.521119 Row: 144.000000 Col: 64.000000\n",
      "Best auc: 0.5532 Best row: 144.0000 Best Col: 64.0000 Best Int: 0.6914 Best Agree: 0.5325\n",
      "Epoch 23/99\n",
      "----------\n"
     ]
    },
    {
     "data": {
      "application/vnd.jupyter.widget-view+json": {
       "model_id": "5d6d92597ae048b098e84153ead0779d",
       "version_major": 2,
       "version_minor": 0
      },
      "text/plain": [
       "HBox(children=(IntProgress(value=0, max=1000), HTML(value='')))"
      ]
     },
     "metadata": {},
     "output_type": "display_data"
    },
    {
     "name": "stdout",
     "output_type": "stream",
     "text": [
      "\n",
      "train Sel_Loss: -0.0007 Pred_Loss: 0.6941 BAC: 0.9660 PAC: 0.4920 Agree: 0.5020 Int: 0.3782 Auc: 0.490364 Row: 144.000000 Col: 64.000000\n",
      "Best auc: 0.5532 Best row: 144.0000 Best Col: 64.0000 Best Int: 0.6914 Best Agree: 0.5325\n"
     ]
    },
    {
     "data": {
      "application/vnd.jupyter.widget-view+json": {
       "model_id": "50b8dbb022d14a9ab6e4fa176ebb5805",
       "version_major": 2,
       "version_minor": 0
      },
      "text/plain": [
       "HBox(children=(IntProgress(value=0, max=231), HTML(value='')))"
      ]
     },
     "metadata": {},
     "output_type": "display_data"
    },
    {
     "name": "stdout",
     "output_type": "stream",
     "text": [
      "\n",
      "valid Sel_Loss: 0.0569 Pred_Loss: 0.6875 BAC: 0.7143 PAC: 0.6104 Agree: 0.5325 Int: 0.6914 Auc: 0.442474 Row: 144.000000 Col: 64.000000\n",
      "Best auc: 0.5532 Best row: 144.0000 Best Col: 64.0000 Best Int: 0.6914 Best Agree: 0.5325\n",
      "Epoch 24/99\n",
      "----------\n"
     ]
    },
    {
     "data": {
      "application/vnd.jupyter.widget-view+json": {
       "model_id": "98df59ab506b4fbda01f3e0e4c16ee99",
       "version_major": 2,
       "version_minor": 0
      },
      "text/plain": [
       "HBox(children=(IntProgress(value=0, max=1000), HTML(value='')))"
      ]
     },
     "metadata": {},
     "output_type": "display_data"
    },
    {
     "name": "stdout",
     "output_type": "stream",
     "text": [
      "\n",
      "train Sel_Loss: -0.0042 Pred_Loss: 0.6954 BAC: 0.9700 PAC: 0.4870 Agree: 0.4950 Int: 0.3679 Auc: 0.498192 Row: 144.000000 Col: 64.000000\n",
      "Best auc: 0.5532 Best row: 144.0000 Best Col: 64.0000 Best Int: 0.6914 Best Agree: 0.5325\n"
     ]
    },
    {
     "data": {
      "application/vnd.jupyter.widget-view+json": {
       "model_id": "879fe850aac644ecabd4ede60db66ab1",
       "version_major": 2,
       "version_minor": 0
      },
      "text/plain": [
       "HBox(children=(IntProgress(value=0, max=231), HTML(value='')))"
      ]
     },
     "metadata": {},
     "output_type": "display_data"
    },
    {
     "name": "stdout",
     "output_type": "stream",
     "text": [
      "\n",
      "valid Sel_Loss: -0.0108 Pred_Loss: 0.6995 BAC: 0.7143 PAC: 0.3896 Agree: 0.4675 Int: 0.6914 Auc: 0.499527 Row: 144.000000 Col: 64.000000\n",
      "Best auc: 0.5532 Best row: 144.0000 Best Col: 64.0000 Best Int: 0.6914 Best Agree: 0.5325\n",
      "Epoch 25/99\n",
      "----------\n"
     ]
    },
    {
     "data": {
      "application/vnd.jupyter.widget-view+json": {
       "model_id": "b2c055b748694182b5f7420ccad0d1dc",
       "version_major": 2,
       "version_minor": 0
      },
      "text/plain": [
       "HBox(children=(IntProgress(value=0, max=1000), HTML(value='')))"
      ]
     },
     "metadata": {},
     "output_type": "display_data"
    },
    {
     "name": "stdout",
     "output_type": "stream",
     "text": [
      "\n",
      "train Sel_Loss: -0.0015 Pred_Loss: 0.6963 BAC: 0.9740 PAC: 0.4780 Agree: 0.4720 Int: 0.3931 Auc: 0.481052 Row: 144.000000 Col: 64.000000\n",
      "Best auc: 0.5532 Best row: 144.0000 Best Col: 64.0000 Best Int: 0.6914 Best Agree: 0.5325\n"
     ]
    },
    {
     "data": {
      "application/vnd.jupyter.widget-view+json": {
       "model_id": "4e6ad45d779a425ebf63a7d36f7b8428",
       "version_major": 2,
       "version_minor": 0
      },
      "text/plain": [
       "HBox(children=(IntProgress(value=0, max=231), HTML(value='')))"
      ]
     },
     "metadata": {},
     "output_type": "display_data"
    },
    {
     "name": "stdout",
     "output_type": "stream",
     "text": [
      "\n",
      "valid Sel_Loss: 0.4511 Pred_Loss: 0.6891 BAC: 0.7143 PAC: 0.6061 Agree: 0.5368 Int: 0.6914 Auc: 0.446887 Row: 144.000000 Col: 64.000000\n",
      "Best auc: 0.5532 Best row: 144.0000 Best Col: 64.0000 Best Int: 0.6914 Best Agree: 0.5325\n",
      "Epoch 26/99\n",
      "----------\n"
     ]
    },
    {
     "data": {
      "application/vnd.jupyter.widget-view+json": {
       "model_id": "4986020c6d444eeeb45f6b08e70ebec8",
       "version_major": 2,
       "version_minor": 0
      },
      "text/plain": [
       "HBox(children=(IntProgress(value=0, max=1000), HTML(value='')))"
      ]
     },
     "metadata": {},
     "output_type": "display_data"
    },
    {
     "name": "stdout",
     "output_type": "stream",
     "text": [
      "\n",
      "train Sel_Loss: -0.0056 Pred_Loss: 0.6960 BAC: 0.9780 PAC: 0.5140 Agree: 0.5160 Int: 0.3765 Auc: 0.504480 Row: 144.000000 Col: 64.000000\n",
      "Best auc: 0.5532 Best row: 144.0000 Best Col: 64.0000 Best Int: 0.6914 Best Agree: 0.5325\n"
     ]
    },
    {
     "data": {
      "application/vnd.jupyter.widget-view+json": {
       "model_id": "e5e3490fb2914d9c802699815906a919",
       "version_major": 2,
       "version_minor": 0
      },
      "text/plain": [
       "HBox(children=(IntProgress(value=0, max=231), HTML(value='')))"
      ]
     },
     "metadata": {},
     "output_type": "display_data"
    },
    {
     "name": "stdout",
     "output_type": "stream",
     "text": [
      "\n",
      "valid Sel_Loss: 0.6618 Pred_Loss: 0.6852 BAC: 0.7143 PAC: 0.6104 Agree: 0.5325 Int: 0.6914 Auc: 0.434594 Row: 144.000000 Col: 64.000000\n",
      "Best auc: 0.5532 Best row: 144.0000 Best Col: 64.0000 Best Int: 0.6914 Best Agree: 0.5325\n",
      "Epoch 27/99\n",
      "----------\n"
     ]
    },
    {
     "data": {
      "application/vnd.jupyter.widget-view+json": {
       "model_id": "fb204169bf07429fad5fc571021cf09b",
       "version_major": 2,
       "version_minor": 0
      },
      "text/plain": [
       "HBox(children=(IntProgress(value=0, max=1000), HTML(value='')))"
      ]
     },
     "metadata": {},
     "output_type": "display_data"
    },
    {
     "name": "stdout",
     "output_type": "stream",
     "text": [
      "\n",
      "train Sel_Loss: -0.0036 Pred_Loss: 0.6955 BAC: 0.9710 PAC: 0.4890 Agree: 0.5000 Int: 0.3818 Auc: 0.480468 Row: 144.000000 Col: 64.000000\n",
      "Best auc: 0.5532 Best row: 144.0000 Best Col: 64.0000 Best Int: 0.6914 Best Agree: 0.5325\n"
     ]
    },
    {
     "data": {
      "application/vnd.jupyter.widget-view+json": {
       "model_id": "560a780c128748b5b5ae78cb8909e74c",
       "version_major": 2,
       "version_minor": 0
      },
      "text/plain": [
       "HBox(children=(IntProgress(value=0, max=231), HTML(value='')))"
      ]
     },
     "metadata": {},
     "output_type": "display_data"
    },
    {
     "name": "stdout",
     "output_type": "stream",
     "text": [
      "\n",
      "valid Sel_Loss: 0.3523 Pred_Loss: 0.7031 BAC: 0.7143 PAC: 0.5065 Agree: 0.4892 Int: 0.6914 Auc: 0.514578 Row: 144.000000 Col: 64.000000\n",
      "Best auc: 0.5532 Best row: 144.0000 Best Col: 64.0000 Best Int: 0.6914 Best Agree: 0.5325\n",
      "Epoch 28/99\n",
      "----------\n"
     ]
    },
    {
     "data": {
      "application/vnd.jupyter.widget-view+json": {
       "model_id": "8a457a136c514f51b8acfff93924d49b",
       "version_major": 2,
       "version_minor": 0
      },
      "text/plain": [
       "HBox(children=(IntProgress(value=0, max=1000), HTML(value='')))"
      ]
     },
     "metadata": {},
     "output_type": "display_data"
    },
    {
     "name": "stderr",
     "output_type": "stream",
     "text": [
      "Process Process-449:\n",
      "Process Process-453:\n",
      "Process Process-456:\n",
      "Process Process-451:\n",
      "Process Process-454:\n",
      "Process Process-450:\n",
      "Traceback (most recent call last):\n",
      "Traceback (most recent call last):\n",
      "  File \"/home/vdslab/anaconda3/lib/python3.6/multiprocessing/process.py\", line 258, in _bootstrap\n",
      "    self.run()\n",
      "Traceback (most recent call last):\n",
      "Traceback (most recent call last):\n",
      "  File \"/home/vdslab/anaconda3/lib/python3.6/multiprocessing/process.py\", line 93, in run\n",
      "    self._target(*self._args, **self._kwargs)\n",
      "  File \"/home/vdslab/anaconda3/lib/python3.6/site-packages/torch/utils/data/dataloader.py\", line 96, in _worker_loop\n",
      "    r = index_queue.get(timeout=MANAGER_STATUS_CHECK_INTERVAL)\n",
      "  File \"/home/vdslab/anaconda3/lib/python3.6/multiprocessing/process.py\", line 258, in _bootstrap\n",
      "    self.run()\n",
      "Traceback (most recent call last):\n",
      "  File \"/home/vdslab/anaconda3/lib/python3.6/multiprocessing/queues.py\", line 104, in get\n",
      "    if not self._poll(timeout):\n",
      "  File \"/home/vdslab/anaconda3/lib/python3.6/multiprocessing/process.py\", line 93, in run\n",
      "    self._target(*self._args, **self._kwargs)\n",
      "  File \"/home/vdslab/anaconda3/lib/python3.6/multiprocessing/process.py\", line 258, in _bootstrap\n",
      "    self.run()\n",
      "  File \"/home/vdslab/anaconda3/lib/python3.6/multiprocessing/connection.py\", line 257, in poll\n",
      "    return self._poll(timeout)\n",
      "Traceback (most recent call last):\n",
      "Process Process-455:\n",
      "  File \"/home/vdslab/anaconda3/lib/python3.6/site-packages/torch/utils/data/dataloader.py\", line 96, in _worker_loop\n",
      "    r = index_queue.get(timeout=MANAGER_STATUS_CHECK_INTERVAL)\n",
      "  File \"/home/vdslab/anaconda3/lib/python3.6/multiprocessing/process.py\", line 258, in _bootstrap\n",
      "    self.run()\n",
      "Process Process-452:\n",
      "  File \"/home/vdslab/anaconda3/lib/python3.6/multiprocessing/process.py\", line 258, in _bootstrap\n",
      "    self.run()\n",
      "  File \"/home/vdslab/anaconda3/lib/python3.6/multiprocessing/queues.py\", line 104, in get\n",
      "    if not self._poll(timeout):\n",
      "  File \"/home/vdslab/anaconda3/lib/python3.6/multiprocessing/connection.py\", line 414, in _poll\n",
      "    r = wait([self], timeout)\n",
      "  File \"/home/vdslab/anaconda3/lib/python3.6/multiprocessing/process.py\", line 93, in run\n",
      "    self._target(*self._args, **self._kwargs)\n",
      "  File \"/home/vdslab/anaconda3/lib/python3.6/multiprocessing/process.py\", line 258, in _bootstrap\n",
      "    self.run()\n",
      "  File \"/home/vdslab/anaconda3/lib/python3.6/multiprocessing/process.py\", line 93, in run\n",
      "    self._target(*self._args, **self._kwargs)\n",
      "  File \"/home/vdslab/anaconda3/lib/python3.6/multiprocessing/process.py\", line 93, in run\n",
      "    self._target(*self._args, **self._kwargs)\n",
      "Traceback (most recent call last):\n",
      "  File \"/home/vdslab/anaconda3/lib/python3.6/multiprocessing/process.py\", line 93, in run\n",
      "    self._target(*self._args, **self._kwargs)\n",
      "  File \"/home/vdslab/anaconda3/lib/python3.6/multiprocessing/connection.py\", line 911, in wait\n",
      "    ready = selector.select(timeout)\n",
      "Traceback (most recent call last):\n",
      "  File \"/home/vdslab/anaconda3/lib/python3.6/site-packages/torch/utils/data/dataloader.py\", line 96, in _worker_loop\n",
      "    r = index_queue.get(timeout=MANAGER_STATUS_CHECK_INTERVAL)\n",
      "  File \"/home/vdslab/anaconda3/lib/python3.6/multiprocessing/connection.py\", line 257, in poll\n",
      "    return self._poll(timeout)\n",
      "  File \"/home/vdslab/anaconda3/lib/python3.6/site-packages/torch/utils/data/dataloader.py\", line 96, in _worker_loop\n",
      "    r = index_queue.get(timeout=MANAGER_STATUS_CHECK_INTERVAL)\n",
      "  File \"/home/vdslab/anaconda3/lib/python3.6/site-packages/torch/utils/data/dataloader.py\", line 96, in _worker_loop\n",
      "    r = index_queue.get(timeout=MANAGER_STATUS_CHECK_INTERVAL)\n",
      "  File \"/home/vdslab/anaconda3/lib/python3.6/selectors.py\", line 376, in select\n",
      "    fd_event_list = self._poll.poll(timeout)\n",
      "  File \"/home/vdslab/anaconda3/lib/python3.6/multiprocessing/process.py\", line 258, in _bootstrap\n",
      "    self.run()\n",
      "  File \"/home/vdslab/anaconda3/lib/python3.6/site-packages/torch/utils/data/dataloader.py\", line 96, in _worker_loop\n",
      "    r = index_queue.get(timeout=MANAGER_STATUS_CHECK_INTERVAL)\n",
      "  File \"/home/vdslab/anaconda3/lib/python3.6/multiprocessing/process.py\", line 258, in _bootstrap\n",
      "    self.run()\n",
      "  File \"/home/vdslab/anaconda3/lib/python3.6/multiprocessing/queues.py\", line 104, in get\n",
      "    if not self._poll(timeout):\n",
      "  File \"/home/vdslab/anaconda3/lib/python3.6/multiprocessing/queues.py\", line 104, in get\n",
      "    if not self._poll(timeout):\n",
      "  File \"/home/vdslab/anaconda3/lib/python3.6/multiprocessing/queues.py\", line 104, in get\n",
      "    if not self._poll(timeout):\n",
      "  File \"/home/vdslab/anaconda3/lib/python3.6/multiprocessing/process.py\", line 93, in run\n",
      "    self._target(*self._args, **self._kwargs)\n",
      "  File \"/home/vdslab/anaconda3/lib/python3.6/multiprocessing/queues.py\", line 104, in get\n",
      "    if not self._poll(timeout):\n",
      "  File \"/home/vdslab/anaconda3/lib/python3.6/multiprocessing/connection.py\", line 414, in _poll\n",
      "    r = wait([self], timeout)\n",
      "  File \"/home/vdslab/anaconda3/lib/python3.6/multiprocessing/process.py\", line 93, in run\n",
      "    self._target(*self._args, **self._kwargs)\n",
      "KeyboardInterrupt\n",
      "  File \"/home/vdslab/anaconda3/lib/python3.6/multiprocessing/connection.py\", line 257, in poll\n",
      "    return self._poll(timeout)\n",
      "  File \"/home/vdslab/anaconda3/lib/python3.6/multiprocessing/connection.py\", line 257, in poll\n",
      "    return self._poll(timeout)\n",
      "  File \"/home/vdslab/anaconda3/lib/python3.6/multiprocessing/connection.py\", line 257, in poll\n",
      "    return self._poll(timeout)\n",
      "  File \"/home/vdslab/anaconda3/lib/python3.6/site-packages/torch/utils/data/dataloader.py\", line 96, in _worker_loop\n",
      "    r = index_queue.get(timeout=MANAGER_STATUS_CHECK_INTERVAL)\n",
      "  File \"/home/vdslab/anaconda3/lib/python3.6/multiprocessing/connection.py\", line 911, in wait\n",
      "    ready = selector.select(timeout)\n",
      "  File \"/home/vdslab/anaconda3/lib/python3.6/site-packages/torch/utils/data/dataloader.py\", line 96, in _worker_loop\n",
      "    r = index_queue.get(timeout=MANAGER_STATUS_CHECK_INTERVAL)\n",
      "  File \"/home/vdslab/anaconda3/lib/python3.6/multiprocessing/connection.py\", line 257, in poll\n",
      "    return self._poll(timeout)\n",
      "  File \"/home/vdslab/anaconda3/lib/python3.6/multiprocessing/connection.py\", line 414, in _poll\n",
      "    r = wait([self], timeout)\n",
      "  File \"/home/vdslab/anaconda3/lib/python3.6/multiprocessing/queues.py\", line 104, in get\n",
      "    if not self._poll(timeout):\n",
      "  File \"/home/vdslab/anaconda3/lib/python3.6/multiprocessing/queues.py\", line 104, in get\n",
      "    if not self._poll(timeout):\n",
      "  File \"/home/vdslab/anaconda3/lib/python3.6/selectors.py\", line 376, in select\n",
      "    fd_event_list = self._poll.poll(timeout)\n",
      "  File \"/home/vdslab/anaconda3/lib/python3.6/multiprocessing/connection.py\", line 257, in poll\n",
      "    return self._poll(timeout)\n",
      "  File \"/home/vdslab/anaconda3/lib/python3.6/multiprocessing/connection.py\", line 414, in _poll\n",
      "    r = wait([self], timeout)\n",
      "  File \"/home/vdslab/anaconda3/lib/python3.6/multiprocessing/connection.py\", line 414, in _poll\n",
      "    r = wait([self], timeout)\n",
      "  File \"/home/vdslab/anaconda3/lib/python3.6/multiprocessing/connection.py\", line 414, in _poll\n",
      "    r = wait([self], timeout)\n",
      "  File \"/home/vdslab/anaconda3/lib/python3.6/multiprocessing/connection.py\", line 911, in wait\n",
      "    ready = selector.select(timeout)\n",
      "  File \"/home/vdslab/anaconda3/lib/python3.6/multiprocessing/connection.py\", line 414, in _poll\n",
      "    r = wait([self], timeout)\n",
      "  File \"/home/vdslab/anaconda3/lib/python3.6/multiprocessing/connection.py\", line 911, in wait\n",
      "    ready = selector.select(timeout)\n",
      "  File \"/home/vdslab/anaconda3/lib/python3.6/selectors.py\", line 376, in select\n",
      "    fd_event_list = self._poll.poll(timeout)\n",
      "  File \"/home/vdslab/anaconda3/lib/python3.6/selectors.py\", line 376, in select\n",
      "    fd_event_list = self._poll.poll(timeout)\n",
      "  File \"/home/vdslab/anaconda3/lib/python3.6/multiprocessing/connection.py\", line 911, in wait\n",
      "    ready = selector.select(timeout)\n",
      "KeyboardInterrupt\n",
      "  File \"/home/vdslab/anaconda3/lib/python3.6/selectors.py\", line 376, in select\n",
      "    fd_event_list = self._poll.poll(timeout)\n",
      "KeyboardInterrupt\n",
      "KeyboardInterrupt\n",
      "  File \"/home/vdslab/anaconda3/lib/python3.6/multiprocessing/connection.py\", line 911, in wait\n",
      "    ready = selector.select(timeout)\n",
      "  File \"/home/vdslab/anaconda3/lib/python3.6/multiprocessing/connection.py\", line 257, in poll\n",
      "    return self._poll(timeout)\n"
     ]
    },
    {
     "name": "stderr",
     "output_type": "stream",
     "text": [
      "  File \"/home/vdslab/anaconda3/lib/python3.6/selectors.py\", line 376, in select\n",
      "    fd_event_list = self._poll.poll(timeout)\n",
      "  File \"/home/vdslab/anaconda3/lib/python3.6/multiprocessing/connection.py\", line 911, in wait\n",
      "    ready = selector.select(timeout)\n",
      "  File \"/home/vdslab/anaconda3/lib/python3.6/selectors.py\", line 376, in select\n",
      "    fd_event_list = self._poll.poll(timeout)\n",
      "KeyboardInterrupt\n",
      "  File \"/home/vdslab/anaconda3/lib/python3.6/multiprocessing/connection.py\", line 414, in _poll\n",
      "    r = wait([self], timeout)\n",
      "  File \"/home/vdslab/anaconda3/lib/python3.6/multiprocessing/connection.py\", line 911, in wait\n",
      "    ready = selector.select(timeout)\n",
      "  File \"/home/vdslab/anaconda3/lib/python3.6/selectors.py\", line 376, in select\n",
      "    fd_event_list = self._poll.poll(timeout)\n",
      "KeyboardInterrupt\n",
      "KeyboardInterrupt\n",
      "KeyboardInterrupt\n"
     ]
    },
    {
     "ename": "KeyboardInterrupt",
     "evalue": "",
     "output_type": "error",
     "traceback": [
      "\u001b[0;31m---------------------------------------------------------------------------\u001b[0m",
      "\u001b[0;31mKeyboardInterrupt\u001b[0m                         Traceback (most recent call last)",
      "\u001b[0;32m<ipython-input-3-4e103abb286a>\u001b[0m in \u001b[0;36m<module>\u001b[0;34m()\u001b[0m\n\u001b[0;32m----> 1\u001b[0;31m \u001b[0mdc\u001b[0m\u001b[0;34m.\u001b[0m\u001b[0mtrain\u001b[0m\u001b[0;34m(\u001b[0m\u001b[0;34m)\u001b[0m\u001b[0;34m\u001b[0m\u001b[0m\n\u001b[0m",
      "\u001b[0;32m<ipython-input-1-010f35e37756>\u001b[0m in \u001b[0;36mtrain\u001b[0;34m(self)\u001b[0m\n\u001b[1;32m    438\u001b[0m \u001b[0;34m\u001b[0m\u001b[0m\n\u001b[1;32m    439\u001b[0m                     \u001b[0;31m# statistics\u001b[0m\u001b[0;34m\u001b[0m\u001b[0;34m\u001b[0m\u001b[0m\n\u001b[0;32m--> 440\u001b[0;31m                     \u001b[0mrunning_sel_loss\u001b[0m \u001b[0;34m+=\u001b[0m \u001b[0msel_loss\u001b[0m\u001b[0;34m.\u001b[0m\u001b[0mitem\u001b[0m\u001b[0;34m(\u001b[0m\u001b[0;34m)\u001b[0m \u001b[0;34m*\u001b[0m \u001b[0minputs\u001b[0m\u001b[0;34m.\u001b[0m\u001b[0msize\u001b[0m\u001b[0;34m(\u001b[0m\u001b[0;36m0\u001b[0m\u001b[0;34m)\u001b[0m\u001b[0;34m\u001b[0m\u001b[0m\n\u001b[0m\u001b[1;32m    441\u001b[0m                     \u001b[0mrunning_pred_loss\u001b[0m \u001b[0;34m+=\u001b[0m \u001b[0mpred_ce_loss\u001b[0m\u001b[0;34m.\u001b[0m\u001b[0mitem\u001b[0m\u001b[0;34m(\u001b[0m\u001b[0;34m)\u001b[0m \u001b[0;34m*\u001b[0m \u001b[0minputs\u001b[0m\u001b[0;34m.\u001b[0m\u001b[0msize\u001b[0m\u001b[0;34m(\u001b[0m\u001b[0;36m0\u001b[0m\u001b[0;34m)\u001b[0m\u001b[0;34m\u001b[0m\u001b[0m\n\u001b[1;32m    442\u001b[0m \u001b[0;34m\u001b[0m\u001b[0m\n",
      "\u001b[0;31mKeyboardInterrupt\u001b[0m: "
     ]
    }
   ],
   "source": [
    "dc.train()"
   ]
  },
  {
   "cell_type": "code",
   "execution_count": null,
   "metadata": {},
   "outputs": [],
   "source": [
    "%d"
   ]
  },
  {
   "cell_type": "code",
   "execution_count": null,
   "metadata": {},
   "outputs": [],
   "source": [
    "%d"
   ]
  },
  {
   "cell_type": "code",
   "execution_count": null,
   "metadata": {},
   "outputs": [],
   "source": [
    "plt.imshow(cv2.imread('../Experiments/Oxford_pets/cat_Abyssinian_105_bin_8x8_samp_share_1_final.jpg'))"
   ]
  },
  {
   "cell_type": "code",
   "execution_count": null,
   "metadata": {
    "scrolled": true
   },
   "outputs": [],
   "source": [
    "dc.train()"
   ]
  },
  {
   "cell_type": "code",
   "execution_count": null,
   "metadata": {},
   "outputs": [],
   "source": []
  },
  {
   "cell_type": "code",
   "execution_count": null,
   "metadata": {},
   "outputs": [],
   "source": [
    "!nvidia-smi"
   ]
  }
 ],
 "metadata": {
  "kernelspec": {
   "display_name": "Python 3",
   "language": "python",
   "name": "python3"
  },
  "language_info": {
   "codemirror_mode": {
    "name": "ipython",
    "version": 3
   },
   "file_extension": ".py",
   "mimetype": "text/x-python",
   "name": "python",
   "nbconvert_exporter": "python",
   "pygments_lexer": "ipython3",
   "version": "3.6.5"
  }
 },
 "nbformat": 4,
 "nbformat_minor": 2
}
